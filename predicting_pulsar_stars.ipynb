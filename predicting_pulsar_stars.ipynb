{
 "cells": [
  {
   "cell_type": "code",
   "execution_count": 12,
   "metadata": {
    "_cell_guid": "b1076dfc-b9ad-4769-8c92-a6c4dae69d19",
    "_uuid": "8f2839f25d086af736a60e9eeb907d3b93b6e0e5"
   },
   "outputs": [],
   "source": [
    "# import the necessary packages\n",
    "from sklearn.preprocessing import LabelBinarizer\n",
    "from sklearn.model_selection import train_test_split\n",
    "from sklearn.metrics import classification_report, confusion_matrix\n",
    "\n",
    "from keras.models import Sequential\n",
    "from keras.layers.core import Dense\n",
    "from keras.optimizers import SGD\n",
    "from keras import regularizers\n",
    "\n",
    "import matplotlib.pyplot as plt\n",
    "import numpy as np\n",
    "import pandas as pd"
   ]
  },
  {
   "cell_type": "code",
   "execution_count": 13,
   "metadata": {
    "_cell_guid": "79c7e3d0-c299-4dcb-8224-4455121ee9b0",
    "_uuid": "d629ff2d2480ee46fbb7e2d37f6b5fab8052498a"
   },
   "outputs": [],
   "source": [
    "# Loading the dataset\n",
    "dataset = pd.read_csv('pulsar_stars.csv')"
   ]
  },
  {
   "cell_type": "markdown",
   "metadata": {
    "_uuid": "9fe739112befa8fb7895d7b1e786ceb251a07fa9"
   },
   "source": [
    "1. Once the dataset is loaded, let's see some relevant information about the dataset such as column's titles and types, number of records and shape."
   ]
  },
  {
   "cell_type": "code",
   "execution_count": 14,
   "metadata": {
    "_uuid": "7b38a95fd67169cdf19f4b9730a9c1ac7b5aeece"
   },
   "outputs": [
    {
     "name": "stdout",
     "output_type": "stream",
     "text": [
      "<class 'pandas.core.frame.DataFrame'>\n",
      "RangeIndex: 17898 entries, 0 to 17897\n",
      "Data columns (total 9 columns):\n",
      " Mean of the integrated profile                  17898 non-null float64\n",
      " Standard deviation of the integrated profile    17898 non-null float64\n",
      " Excess kurtosis of the integrated profile       17898 non-null float64\n",
      " Skewness of the integrated profile              17898 non-null float64\n",
      " Mean of the DM-SNR curve                        17898 non-null float64\n",
      " Standard deviation of the DM-SNR curve          17898 non-null float64\n",
      " Excess kurtosis of the DM-SNR curve             17898 non-null float64\n",
      " Skewness of the DM-SNR curve                    17898 non-null float64\n",
      "target_class                                     17898 non-null int64\n",
      "dtypes: float64(8), int64(1)\n",
      "memory usage: 1.2 MB\n",
      "None\n"
     ]
    }
   ],
   "source": [
    "# EDA\n",
    "print(dataset.info())"
   ]
  },
  {
   "cell_type": "markdown",
   "metadata": {
    "_uuid": "67889e172218a90a818263626ecc3d664cffb929"
   },
   "source": [
    "2. Now, let's divide our dataset into two subsets: data and target."
   ]
  },
  {
   "cell_type": "code",
   "execution_count": 15,
   "metadata": {
    "_uuid": "bd23ddabb0612244c6240871edc8c6ab8cd7a60a"
   },
   "outputs": [],
   "source": [
    "# Droping the target column\n",
    "data = dataset.drop(['target_class'], axis=1)\n",
    "\n",
    "# Normalizing the data for all data points to fit in the range [0,1]\n",
    "data = data / np.max(data)\n",
    "\n",
    "target = dataset[['target_class']]"
   ]
  },
  {
   "cell_type": "code",
   "execution_count": 16,
   "metadata": {
    "_uuid": "e0192aa64ca2a7d5fcb99549e21349bcb01c92aa"
   },
   "outputs": [],
   "source": [
    "# Construct the training and testing splits \n",
    "trainX, testX, trainY, testY = train_test_split(data, target, test_size=0.25)"
   ]
  },
  {
   "cell_type": "markdown",
   "metadata": {
    "_uuid": "983a1f5f87eadaa31ce04178e37f3d4cc981088d"
   },
   "source": [
    "Machine Learning algorithms works better when integer labels are transformed into vector labels. In order to accomplish this transformation I will instantiate a LabelBinarizer object and apply the transformation methods into our trainY and testY sets."
   ]
  },
  {
   "cell_type": "code",
   "execution_count": 17,
   "metadata": {
    "_uuid": "1315d227e4982c4ea529f01223a10a9475a7ad1e"
   },
   "outputs": [],
   "source": [
    "lb = LabelBinarizer()\n",
    "trainY = lb.fit_transform(trainY)\n",
    "testY = lb.transform(testY)"
   ]
  },
  {
   "cell_type": "markdown",
   "metadata": {
    "_uuid": "391d1fe28b56d737665d07666428cf1fc39b6bda"
   },
   "source": [
    "With keras, it is possible to define models to our neural network (nn). In this case, we are going to work with a Sequential nn, which is just the nn as we already know, i.e., each layer has as its input the output of the former layer. It is worth mention that our neural network is 8-4-2-1."
   ]
  },
  {
   "cell_type": "code",
   "execution_count": 18,
   "metadata": {
    "_uuid": "60bb73df10aa290dc09b65259e988855e4a08a6c"
   },
   "outputs": [],
   "source": [
    "# Defining the model\n",
    "model = Sequential()\n",
    "model.add(Dense(4, input_shape=(8,), activation='sigmoid'))\n",
    "model.add(Dense(2, activation='sigmoid'))\n",
    "model.add(Dense(1, activation='sigmoid'))"
   ]
  },
  {
   "cell_type": "markdown",
   "metadata": {
    "_uuid": "59eb9e91bd5c00b37dbeb580c9bc5e91f5a6cc04"
   },
   "source": [
    "We are going to use the Stochastic Gradient Descent technique as an optimizer, initially with a learning rate = 0.1. Furthermore, as this is a binary classification problem, in this case a common loss function to use is the binary cross-entropy. Also, our dataset is extremely unbalanced instances of classes, in order to achieve more balance between classes, we weighted the class 1 (is pulsar) ten times more than class 0 (not a pulsar)."
   ]
  },
  {
   "cell_type": "code",
   "execution_count": 19,
   "metadata": {
    "_uuid": "d8e991ba785b2b7e9de04a49be0dcddb461ca6f4"
   },
   "outputs": [
    {
     "name": "stdout",
     "output_type": "stream",
     "text": [
      "Train on 13423 samples, validate on 4475 samples\n",
      "Epoch 1/200\n",
      "13423/13423 [==============================] - 1s 92us/step - loss: 1.2588 - acc: 0.6697 - val_loss: 0.7203 - val_acc: 0.0927\n",
      "Epoch 2/200\n",
      "13423/13423 [==============================] - 0s 23us/step - loss: 1.2540 - acc: 0.5950 - val_loss: 0.7332 - val_acc: 0.0927\n",
      "Epoch 3/200\n",
      "13423/13423 [==============================] - 0s 23us/step - loss: 1.2461 - acc: 0.6291 - val_loss: 0.6675 - val_acc: 0.9466\n",
      "Epoch 4/200\n",
      "13423/13423 [==============================] - 0s 26us/step - loss: 1.2316 - acc: 0.7901 - val_loss: 0.6547 - val_acc: 0.9582\n",
      "Epoch 5/200\n",
      "13423/13423 [==============================] - 0s 20us/step - loss: 1.1953 - acc: 0.8888 - val_loss: 0.6004 - val_acc: 0.9569\n",
      "Epoch 6/200\n",
      "13423/13423 [==============================] - 0s 24us/step - loss: 1.1060 - acc: 0.9521 - val_loss: 0.5505 - val_acc: 0.9526\n",
      "Epoch 7/200\n",
      "13423/13423 [==============================] - 0s 23us/step - loss: 0.9253 - acc: 0.9514 - val_loss: 0.4322 - val_acc: 0.9459\n",
      "Epoch 8/200\n",
      "13423/13423 [==============================] - 0s 22us/step - loss: 0.7198 - acc: 0.9464 - val_loss: 0.3107 - val_acc: 0.9468\n",
      "Epoch 9/200\n",
      "13423/13423 [==============================] - 0s 20us/step - loss: 0.5847 - acc: 0.9418 - val_loss: 0.2559 - val_acc: 0.9453\n",
      "Epoch 10/200\n",
      "13423/13423 [==============================] - 0s 23us/step - loss: 0.5110 - acc: 0.9423 - val_loss: 0.2706 - val_acc: 0.9339\n",
      "Epoch 11/200\n",
      "13423/13423 [==============================] - 0s 31us/step - loss: 0.4697 - acc: 0.9429 - val_loss: 0.2214 - val_acc: 0.9432\n",
      "Epoch 12/200\n",
      "13423/13423 [==============================] - 0s 33us/step - loss: 0.4394 - acc: 0.9443 - val_loss: 0.2210 - val_acc: 0.9430\n",
      "Epoch 13/200\n",
      "13423/13423 [==============================] - 0s 24us/step - loss: 0.4208 - acc: 0.9450 - val_loss: 0.1692 - val_acc: 0.9580\n",
      "Epoch 14/200\n",
      "13423/13423 [==============================] - 0s 22us/step - loss: 0.4060 - acc: 0.9502 - val_loss: 0.2057 - val_acc: 0.9466\n",
      "Epoch 15/200\n",
      "13423/13423 [==============================] - 0s 22us/step - loss: 0.3950 - acc: 0.9512 - val_loss: 0.1770 - val_acc: 0.9549\n",
      "Epoch 16/200\n",
      "13423/13423 [==============================] - 0s 23us/step - loss: 0.3845 - acc: 0.9517 - val_loss: 0.1649 - val_acc: 0.9582\n",
      "Epoch 17/200\n",
      "13423/13423 [==============================] - 0s 23us/step - loss: 0.3773 - acc: 0.9539 - val_loss: 0.1744 - val_acc: 0.9551\n",
      "Epoch 18/200\n",
      "13423/13423 [==============================] - 0s 24us/step - loss: 0.3721 - acc: 0.9533 - val_loss: 0.1851 - val_acc: 0.9504\n",
      "Epoch 19/200\n",
      "13423/13423 [==============================] - 0s 25us/step - loss: 0.3667 - acc: 0.9519 - val_loss: 0.1952 - val_acc: 0.9461\n",
      "Epoch 20/200\n",
      "13423/13423 [==============================] - 0s 31us/step - loss: 0.3651 - acc: 0.9520 - val_loss: 0.1740 - val_acc: 0.9531\n",
      "Epoch 21/200\n",
      "13423/13423 [==============================] - 0s 32us/step - loss: 0.3612 - acc: 0.9522 - val_loss: 0.1467 - val_acc: 0.9631\n",
      "Epoch 22/200\n",
      "13423/13423 [==============================] - 0s 24us/step - loss: 0.3593 - acc: 0.9537 - val_loss: 0.1646 - val_acc: 0.9564\n",
      "Epoch 23/200\n",
      "13423/13423 [==============================] - 0s 32us/step - loss: 0.3587 - acc: 0.9509 - val_loss: 0.1659 - val_acc: 0.9558\n",
      "Epoch 24/200\n",
      "13423/13423 [==============================] - 0s 36us/step - loss: 0.3552 - acc: 0.9517 - val_loss: 0.1394 - val_acc: 0.9636\n",
      "Epoch 25/200\n",
      "13423/13423 [==============================] - 0s 28us/step - loss: 0.3528 - acc: 0.9532 - val_loss: 0.1421 - val_acc: 0.9625\n",
      "Epoch 26/200\n",
      "13423/13423 [==============================] - 0s 32us/step - loss: 0.3529 - acc: 0.9528 - val_loss: 0.1283 - val_acc: 0.9656\n",
      "Epoch 27/200\n",
      "13423/13423 [==============================] - 0s 28us/step - loss: 0.3520 - acc: 0.9543 - val_loss: 0.1598 - val_acc: 0.9573\n",
      "Epoch 28/200\n",
      "13423/13423 [==============================] - 0s 26us/step - loss: 0.3496 - acc: 0.9520 - val_loss: 0.1428 - val_acc: 0.9613\n",
      "Epoch 29/200\n",
      "13423/13423 [==============================] - 0s 22us/step - loss: 0.3478 - acc: 0.9552 - val_loss: 0.1684 - val_acc: 0.9528\n",
      "Epoch 30/200\n",
      "13423/13423 [==============================] - 0s 26us/step - loss: 0.3468 - acc: 0.9522 - val_loss: 0.1502 - val_acc: 0.9598\n",
      "Epoch 31/200\n",
      "13423/13423 [==============================] - 0s 24us/step - loss: 0.3455 - acc: 0.9548 - val_loss: 0.1762 - val_acc: 0.9499\n",
      "Epoch 32/200\n",
      "13423/13423 [==============================] - 0s 32us/step - loss: 0.3458 - acc: 0.9537 - val_loss: 0.1708 - val_acc: 0.9522\n",
      "Epoch 33/200\n",
      "13423/13423 [==============================] - 0s 23us/step - loss: 0.3454 - acc: 0.9543 - val_loss: 0.1648 - val_acc: 0.9540\n",
      "Epoch 34/200\n",
      "13423/13423 [==============================] - 0s 24us/step - loss: 0.3420 - acc: 0.9544 - val_loss: 0.1911 - val_acc: 0.9428\n",
      "Epoch 35/200\n",
      "13423/13423 [==============================] - 0s 26us/step - loss: 0.3433 - acc: 0.9543 - val_loss: 0.1846 - val_acc: 0.9461\n",
      "Epoch 36/200\n",
      "13423/13423 [==============================] - 0s 22us/step - loss: 0.3421 - acc: 0.9531 - val_loss: 0.1459 - val_acc: 0.9616\n",
      "Epoch 37/200\n",
      "13423/13423 [==============================] - 0s 21us/step - loss: 0.3421 - acc: 0.9552 - val_loss: 0.1821 - val_acc: 0.9466\n",
      "Epoch 38/200\n",
      "13423/13423 [==============================] - 0s 28us/step - loss: 0.3408 - acc: 0.9536 - val_loss: 0.1551 - val_acc: 0.9575\n",
      "Epoch 39/200\n",
      "13423/13423 [==============================] - 0s 34us/step - loss: 0.3393 - acc: 0.9563 - val_loss: 0.1344 - val_acc: 0.9636\n",
      "Epoch 40/200\n",
      "13423/13423 [==============================] - 0s 33us/step - loss: 0.3386 - acc: 0.9557 - val_loss: 0.1560 - val_acc: 0.9571\n",
      "Epoch 41/200\n",
      "13423/13423 [==============================] - 0s 24us/step - loss: 0.3370 - acc: 0.9559 - val_loss: 0.1553 - val_acc: 0.9571\n",
      "Epoch 42/200\n",
      "13423/13423 [==============================] - 0s 26us/step - loss: 0.3366 - acc: 0.9565 - val_loss: 0.1515 - val_acc: 0.9584\n",
      "Epoch 43/200\n",
      "13423/13423 [==============================] - 0s 24us/step - loss: 0.3367 - acc: 0.9563 - val_loss: 0.1635 - val_acc: 0.9558\n",
      "Epoch 44/200\n",
      "13423/13423 [==============================] - 0s 29us/step - loss: 0.3349 - acc: 0.9549 - val_loss: 0.1348 - val_acc: 0.9642\n",
      "Epoch 45/200\n",
      "13423/13423 [==============================] - 0s 24us/step - loss: 0.3356 - acc: 0.9569 - val_loss: 0.1696 - val_acc: 0.9535\n",
      "Epoch 46/200\n",
      "13423/13423 [==============================] - 0s 27us/step - loss: 0.3349 - acc: 0.9566 - val_loss: 0.1435 - val_acc: 0.9613\n",
      "Epoch 47/200\n",
      "13423/13423 [==============================] - 0s 25us/step - loss: 0.3343 - acc: 0.9557 - val_loss: 0.1636 - val_acc: 0.9555\n",
      "Epoch 48/200\n",
      "13423/13423 [==============================] - 0s 26us/step - loss: 0.3323 - acc: 0.9553 - val_loss: 0.1682 - val_acc: 0.9544\n",
      "Epoch 49/200\n",
      "13423/13423 [==============================] - 0s 30us/step - loss: 0.3311 - acc: 0.9575 - val_loss: 0.1430 - val_acc: 0.9613\n",
      "Epoch 50/200\n",
      "13423/13423 [==============================] - 0s 24us/step - loss: 0.3315 - acc: 0.9575 - val_loss: 0.1417 - val_acc: 0.9618\n",
      "Epoch 51/200\n",
      "13423/13423 [==============================] - 0s 24us/step - loss: 0.3312 - acc: 0.9572 - val_loss: 0.1637 - val_acc: 0.9558\n",
      "Epoch 52/200\n",
      "13423/13423 [==============================] - 0s 24us/step - loss: 0.3318 - acc: 0.9569 - val_loss: 0.1477 - val_acc: 0.9598\n",
      "Epoch 53/200\n",
      "13423/13423 [==============================] - 0s 23us/step - loss: 0.3277 - acc: 0.9578 - val_loss: 0.1530 - val_acc: 0.9584\n",
      "Epoch 54/200\n",
      "13423/13423 [==============================] - 0s 23us/step - loss: 0.3299 - acc: 0.9575 - val_loss: 0.1558 - val_acc: 0.9580\n",
      "Epoch 55/200\n",
      "13423/13423 [==============================] - 0s 28us/step - loss: 0.3296 - acc: 0.9575 - val_loss: 0.1323 - val_acc: 0.9663\n",
      "Epoch 56/200\n",
      "13423/13423 [==============================] - 0s 26us/step - loss: 0.3295 - acc: 0.9587 - val_loss: 0.1689 - val_acc: 0.9531\n",
      "Epoch 57/200\n",
      "13423/13423 [==============================] - 0s 26us/step - loss: 0.3268 - acc: 0.9569 - val_loss: 0.1591 - val_acc: 0.9575\n",
      "Epoch 58/200\n",
      "13423/13423 [==============================] - 0s 25us/step - loss: 0.3284 - acc: 0.9582 - val_loss: 0.1509 - val_acc: 0.9591\n",
      "Epoch 59/200\n"
     ]
    },
    {
     "name": "stdout",
     "output_type": "stream",
     "text": [
      "13423/13423 [==============================] - 0s 21us/step - loss: 0.3270 - acc: 0.9587 - val_loss: 0.1592 - val_acc: 0.9575\n",
      "Epoch 60/200\n",
      "13423/13423 [==============================] - 0s 22us/step - loss: 0.3277 - acc: 0.9589 - val_loss: 0.1484 - val_acc: 0.9600\n",
      "Epoch 61/200\n",
      "13423/13423 [==============================] - 0s 24us/step - loss: 0.3267 - acc: 0.9587 - val_loss: 0.1492 - val_acc: 0.9600\n",
      "Epoch 62/200\n",
      "13423/13423 [==============================] - 0s 23us/step - loss: 0.3255 - acc: 0.9592 - val_loss: 0.1945 - val_acc: 0.9441\n",
      "Epoch 63/200\n",
      "13423/13423 [==============================] - 0s 26us/step - loss: 0.3283 - acc: 0.9587 - val_loss: 0.1367 - val_acc: 0.9642\n",
      "Epoch 64/200\n",
      "13423/13423 [==============================] - 0s 23us/step - loss: 0.3242 - acc: 0.9594 - val_loss: 0.1572 - val_acc: 0.9575\n",
      "Epoch 65/200\n",
      "13423/13423 [==============================] - 0s 24us/step - loss: 0.3242 - acc: 0.9589 - val_loss: 0.1344 - val_acc: 0.9658\n",
      "Epoch 66/200\n",
      "13423/13423 [==============================] - 0s 24us/step - loss: 0.3249 - acc: 0.9603 - val_loss: 0.1293 - val_acc: 0.9672\n",
      "Epoch 67/200\n",
      "13423/13423 [==============================] - 0s 25us/step - loss: 0.3244 - acc: 0.9605 - val_loss: 0.1291 - val_acc: 0.9674\n",
      "Epoch 68/200\n",
      "13423/13423 [==============================] - 0s 22us/step - loss: 0.3219 - acc: 0.9611 - val_loss: 0.1238 - val_acc: 0.9694\n",
      "Epoch 69/200\n",
      "13423/13423 [==============================] - 0s 23us/step - loss: 0.3205 - acc: 0.9613 - val_loss: 0.2193 - val_acc: 0.9323\n",
      "Epoch 70/200\n",
      "13423/13423 [==============================] - 0s 25us/step - loss: 0.3226 - acc: 0.9601 - val_loss: 0.1349 - val_acc: 0.9658\n",
      "Epoch 71/200\n",
      "13423/13423 [==============================] - 0s 25us/step - loss: 0.3229 - acc: 0.9610 - val_loss: 0.1855 - val_acc: 0.9475\n",
      "Epoch 72/200\n",
      "13423/13423 [==============================] - 0s 26us/step - loss: 0.3224 - acc: 0.9598 - val_loss: 0.1742 - val_acc: 0.9524\n",
      "Epoch 73/200\n",
      "13423/13423 [==============================] - 0s 24us/step - loss: 0.3235 - acc: 0.9590 - val_loss: 0.1460 - val_acc: 0.9622\n",
      "Epoch 74/200\n",
      "13423/13423 [==============================] - 0s 24us/step - loss: 0.3214 - acc: 0.9613 - val_loss: 0.1555 - val_acc: 0.9584\n",
      "Epoch 75/200\n",
      "13423/13423 [==============================] - 0s 24us/step - loss: 0.3224 - acc: 0.9607 - val_loss: 0.1379 - val_acc: 0.9649\n",
      "Epoch 76/200\n",
      "13423/13423 [==============================] - 0s 24us/step - loss: 0.3192 - acc: 0.9606 - val_loss: 0.1106 - val_acc: 0.9739\n",
      "Epoch 77/200\n",
      "13423/13423 [==============================] - 0s 26us/step - loss: 0.3204 - acc: 0.9597 - val_loss: 0.1386 - val_acc: 0.9642\n",
      "Epoch 78/200\n",
      "13423/13423 [==============================] - 0s 24us/step - loss: 0.3202 - acc: 0.9607 - val_loss: 0.1552 - val_acc: 0.9582\n",
      "Epoch 79/200\n",
      "13423/13423 [==============================] - 0s 26us/step - loss: 0.3193 - acc: 0.9614 - val_loss: 0.1243 - val_acc: 0.9692\n",
      "Epoch 80/200\n",
      "13423/13423 [==============================] - 0s 24us/step - loss: 0.3206 - acc: 0.9610 - val_loss: 0.1234 - val_acc: 0.9696\n",
      "Epoch 81/200\n",
      "13423/13423 [==============================] - 0s 25us/step - loss: 0.3189 - acc: 0.9629 - val_loss: 0.1711 - val_acc: 0.9526\n",
      "Epoch 82/200\n",
      "13423/13423 [==============================] - 0s 33us/step - loss: 0.3196 - acc: 0.9612 - val_loss: 0.1196 - val_acc: 0.9718\n",
      "Epoch 83/200\n",
      "13423/13423 [==============================] - 0s 35us/step - loss: 0.3222 - acc: 0.9621 - val_loss: 0.2130 - val_acc: 0.9368\n",
      "Epoch 84/200\n",
      "13423/13423 [==============================] - 0s 35us/step - loss: 0.3172 - acc: 0.9619 - val_loss: 0.1696 - val_acc: 0.9535\n",
      "Epoch 85/200\n",
      "13423/13423 [==============================] - 0s 24us/step - loss: 0.3187 - acc: 0.9613 - val_loss: 0.2006 - val_acc: 0.9417\n",
      "Epoch 86/200\n",
      "13423/13423 [==============================] - 0s 23us/step - loss: 0.3189 - acc: 0.9604 - val_loss: 0.1295 - val_acc: 0.9680\n",
      "Epoch 87/200\n",
      "13423/13423 [==============================] - 0s 22us/step - loss: 0.3191 - acc: 0.9604 - val_loss: 0.1114 - val_acc: 0.9743\n",
      "Epoch 88/200\n",
      "13423/13423 [==============================] - 0s 28us/step - loss: 0.3187 - acc: 0.9618 - val_loss: 0.1315 - val_acc: 0.9680\n",
      "Epoch 89/200\n",
      "13423/13423 [==============================] - 0s 27us/step - loss: 0.3168 - acc: 0.9608 - val_loss: 0.1497 - val_acc: 0.9600\n",
      "Epoch 90/200\n",
      "13423/13423 [==============================] - 0s 32us/step - loss: 0.3157 - acc: 0.9607 - val_loss: 0.1227 - val_acc: 0.9694\n",
      "Epoch 91/200\n",
      "13423/13423 [==============================] - 1s 40us/step - loss: 0.3171 - acc: 0.9619 - val_loss: 0.1521 - val_acc: 0.9587\n",
      "Epoch 92/200\n",
      "13423/13423 [==============================] - 0s 24us/step - loss: 0.3173 - acc: 0.9619 - val_loss: 0.1410 - val_acc: 0.9647\n",
      "Epoch 93/200\n",
      "13423/13423 [==============================] - 0s 24us/step - loss: 0.3142 - acc: 0.9604 - val_loss: 0.0984 - val_acc: 0.9772\n",
      "Epoch 94/200\n",
      "13423/13423 [==============================] - 0s 24us/step - loss: 0.3148 - acc: 0.9641 - val_loss: 0.2409 - val_acc: 0.9245\n",
      "Epoch 95/200\n",
      "13423/13423 [==============================] - 0s 26us/step - loss: 0.3182 - acc: 0.9615 - val_loss: 0.1526 - val_acc: 0.9596\n",
      "Epoch 96/200\n",
      "13423/13423 [==============================] - 0s 26us/step - loss: 0.3164 - acc: 0.9628 - val_loss: 0.2127 - val_acc: 0.9381\n",
      "Epoch 97/200\n",
      "13423/13423 [==============================] - 0s 22us/step - loss: 0.3137 - acc: 0.9617 - val_loss: 0.1469 - val_acc: 0.9618\n",
      "Epoch 98/200\n",
      "13423/13423 [==============================] - 0s 25us/step - loss: 0.3136 - acc: 0.9629 - val_loss: 0.1133 - val_acc: 0.9736\n",
      "Epoch 99/200\n",
      "13423/13423 [==============================] - 0s 24us/step - loss: 0.3148 - acc: 0.9633 - val_loss: 0.1587 - val_acc: 0.9573\n",
      "Epoch 100/200\n",
      "13423/13423 [==============================] - 0s 23us/step - loss: 0.3148 - acc: 0.9607 - val_loss: 0.1436 - val_acc: 0.9622\n",
      "Epoch 101/200\n",
      "13423/13423 [==============================] - 0s 25us/step - loss: 0.3169 - acc: 0.9616 - val_loss: 0.1319 - val_acc: 0.9678\n",
      "Epoch 102/200\n",
      "13423/13423 [==============================] - 0s 26us/step - loss: 0.3123 - acc: 0.9654 - val_loss: 0.1204 - val_acc: 0.9709\n",
      "Epoch 103/200\n",
      "13423/13423 [==============================] - 0s 23us/step - loss: 0.3156 - acc: 0.9635 - val_loss: 0.1541 - val_acc: 0.9584\n",
      "Epoch 104/200\n",
      "13423/13423 [==============================] - 0s 23us/step - loss: 0.3136 - acc: 0.9614 - val_loss: 0.1607 - val_acc: 0.9571\n",
      "Epoch 105/200\n",
      "13423/13423 [==============================] - 0s 23us/step - loss: 0.3106 - acc: 0.9630 - val_loss: 0.1075 - val_acc: 0.9754\n",
      "Epoch 106/200\n",
      "13423/13423 [==============================] - 0s 26us/step - loss: 0.3142 - acc: 0.9608 - val_loss: 0.1106 - val_acc: 0.9741\n",
      "Epoch 107/200\n",
      "13423/13423 [==============================] - 0s 22us/step - loss: 0.3134 - acc: 0.9625 - val_loss: 0.1883 - val_acc: 0.9473\n",
      "Epoch 108/200\n",
      "13423/13423 [==============================] - 0s 22us/step - loss: 0.3140 - acc: 0.9618 - val_loss: 0.1423 - val_acc: 0.9629\n",
      "Epoch 109/200\n",
      "13423/13423 [==============================] - 0s 22us/step - loss: 0.3110 - acc: 0.9621 - val_loss: 0.1824 - val_acc: 0.9495\n",
      "Epoch 110/200\n",
      "13423/13423 [==============================] - 0s 24us/step - loss: 0.3118 - acc: 0.9632 - val_loss: 0.1111 - val_acc: 0.9741\n",
      "Epoch 111/200\n",
      "13423/13423 [==============================] - 0s 24us/step - loss: 0.3141 - acc: 0.9636 - val_loss: 0.2290 - val_acc: 0.9332\n",
      "Epoch 112/200\n",
      "13423/13423 [==============================] - 0s 23us/step - loss: 0.3136 - acc: 0.9616 - val_loss: 0.0973 - val_acc: 0.9777\n",
      "Epoch 113/200\n",
      "13423/13423 [==============================] - 0s 23us/step - loss: 0.3112 - acc: 0.9636 - val_loss: 0.0946 - val_acc: 0.9779\n",
      "Epoch 114/200\n",
      "13423/13423 [==============================] - 0s 25us/step - loss: 0.3140 - acc: 0.9626 - val_loss: 0.1603 - val_acc: 0.9575\n",
      "Epoch 115/200\n",
      "13423/13423 [==============================] - 0s 23us/step - loss: 0.3114 - acc: 0.9642 - val_loss: 0.1692 - val_acc: 0.9542\n",
      "Epoch 116/200\n",
      "13423/13423 [==============================] - 0s 23us/step - loss: 0.3117 - acc: 0.9609 - val_loss: 0.1296 - val_acc: 0.9678\n",
      "Epoch 117/200\n",
      "13423/13423 [==============================] - 0s 25us/step - loss: 0.3116 - acc: 0.9628 - val_loss: 0.1316 - val_acc: 0.9676\n"
     ]
    },
    {
     "name": "stdout",
     "output_type": "stream",
     "text": [
      "Epoch 118/200\n",
      "13423/13423 [==============================] - 0s 22us/step - loss: 0.3110 - acc: 0.9622 - val_loss: 0.1227 - val_acc: 0.9707\n",
      "Epoch 119/200\n",
      "13423/13423 [==============================] - 0s 20us/step - loss: 0.3135 - acc: 0.9628 - val_loss: 0.1745 - val_acc: 0.9524\n",
      "Epoch 120/200\n",
      "13423/13423 [==============================] - 0s 21us/step - loss: 0.3123 - acc: 0.9624 - val_loss: 0.1416 - val_acc: 0.9629\n",
      "Epoch 121/200\n",
      "13423/13423 [==============================] - 0s 23us/step - loss: 0.3122 - acc: 0.9637 - val_loss: 0.2169 - val_acc: 0.9370\n",
      "Epoch 122/200\n",
      "13423/13423 [==============================] - 0s 23us/step - loss: 0.3130 - acc: 0.9629 - val_loss: 0.1500 - val_acc: 0.9611\n",
      "Epoch 123/200\n",
      "13423/13423 [==============================] - 0s 26us/step - loss: 0.3133 - acc: 0.9628 - val_loss: 0.1749 - val_acc: 0.9526\n",
      "Epoch 124/200\n",
      "13423/13423 [==============================] - 0s 22us/step - loss: 0.3096 - acc: 0.9619 - val_loss: 0.1119 - val_acc: 0.9736\n",
      "Epoch 125/200\n",
      "13423/13423 [==============================] - 0s 23us/step - loss: 0.3134 - acc: 0.9625 - val_loss: 0.1158 - val_acc: 0.9721\n",
      "Epoch 126/200\n",
      "13423/13423 [==============================] - 0s 23us/step - loss: 0.3104 - acc: 0.9639 - val_loss: 0.1555 - val_acc: 0.9598\n",
      "Epoch 127/200\n",
      "13423/13423 [==============================] - 0s 22us/step - loss: 0.3127 - acc: 0.9647 - val_loss: 0.1433 - val_acc: 0.9629\n",
      "Epoch 128/200\n",
      "13423/13423 [==============================] - 0s 23us/step - loss: 0.3102 - acc: 0.9641 - val_loss: 0.2284 - val_acc: 0.9327\n",
      "Epoch 129/200\n",
      "13423/13423 [==============================] - 0s 24us/step - loss: 0.3113 - acc: 0.9633 - val_loss: 0.1452 - val_acc: 0.9622\n",
      "Epoch 130/200\n",
      "13423/13423 [==============================] - 0s 24us/step - loss: 0.3057 - acc: 0.9651 - val_loss: 0.2813 - val_acc: 0.9066\n",
      "Epoch 131/200\n",
      "13423/13423 [==============================] - 0s 23us/step - loss: 0.3101 - acc: 0.9637 - val_loss: 0.2402 - val_acc: 0.9289\n",
      "Epoch 132/200\n",
      "13423/13423 [==============================] - 0s 23us/step - loss: 0.3085 - acc: 0.9642 - val_loss: 0.1541 - val_acc: 0.9604\n",
      "Epoch 133/200\n",
      "13423/13423 [==============================] - 0s 25us/step - loss: 0.3106 - acc: 0.9644 - val_loss: 0.1388 - val_acc: 0.9642\n",
      "Epoch 134/200\n",
      "13423/13423 [==============================] - 0s 24us/step - loss: 0.3110 - acc: 0.9628 - val_loss: 0.1449 - val_acc: 0.9625\n",
      "Epoch 135/200\n",
      "13423/13423 [==============================] - 0s 23us/step - loss: 0.3101 - acc: 0.9640 - val_loss: 0.1856 - val_acc: 0.9495\n",
      "Epoch 136/200\n",
      "13423/13423 [==============================] - 0s 22us/step - loss: 0.3089 - acc: 0.9634 - val_loss: 0.2152 - val_acc: 0.9372\n",
      "Epoch 137/200\n",
      "13423/13423 [==============================] - 0s 23us/step - loss: 0.3130 - acc: 0.9628 - val_loss: 0.1425 - val_acc: 0.9631\n",
      "Epoch 138/200\n",
      "13423/13423 [==============================] - 0s 24us/step - loss: 0.3126 - acc: 0.9631 - val_loss: 0.1015 - val_acc: 0.9772\n",
      "Epoch 139/200\n",
      "13423/13423 [==============================] - 0s 24us/step - loss: 0.3127 - acc: 0.9637 - val_loss: 0.1132 - val_acc: 0.9730\n",
      "Epoch 140/200\n",
      "13423/13423 [==============================] - 0s 23us/step - loss: 0.3065 - acc: 0.9638 - val_loss: 0.1231 - val_acc: 0.9707\n",
      "Epoch 141/200\n",
      "13423/13423 [==============================] - 0s 22us/step - loss: 0.3083 - acc: 0.9628 - val_loss: 0.1104 - val_acc: 0.9743\n",
      "Epoch 142/200\n",
      "13423/13423 [==============================] - 0s 22us/step - loss: 0.3090 - acc: 0.9643 - val_loss: 0.1808 - val_acc: 0.9508\n",
      "Epoch 143/200\n",
      "13423/13423 [==============================] - 0s 22us/step - loss: 0.3072 - acc: 0.9637 - val_loss: 0.1145 - val_acc: 0.9727\n",
      "Epoch 144/200\n",
      "13423/13423 [==============================] - 0s 23us/step - loss: 0.3086 - acc: 0.9639 - val_loss: 0.1279 - val_acc: 0.9685\n",
      "Epoch 145/200\n",
      "13423/13423 [==============================] - 0s 23us/step - loss: 0.3119 - acc: 0.9639 - val_loss: 0.1276 - val_acc: 0.9687\n",
      "Epoch 146/200\n",
      "13423/13423 [==============================] - 0s 24us/step - loss: 0.3074 - acc: 0.9636 - val_loss: 0.1639 - val_acc: 0.9562\n",
      "Epoch 147/200\n",
      "13423/13423 [==============================] - 0s 24us/step - loss: 0.3100 - acc: 0.9632 - val_loss: 0.1366 - val_acc: 0.9645\n",
      "Epoch 148/200\n",
      "13423/13423 [==============================] - 0s 24us/step - loss: 0.3111 - acc: 0.9645 - val_loss: 0.1558 - val_acc: 0.9604\n",
      "Epoch 149/200\n",
      "13423/13423 [==============================] - 0s 24us/step - loss: 0.3106 - acc: 0.9639 - val_loss: 0.1060 - val_acc: 0.9759\n",
      "Epoch 150/200\n",
      "13423/13423 [==============================] - 0s 25us/step - loss: 0.3113 - acc: 0.9639 - val_loss: 0.1044 - val_acc: 0.9761\n",
      "Epoch 151/200\n",
      "13423/13423 [==============================] - 0s 23us/step - loss: 0.3122 - acc: 0.9639 - val_loss: 0.1085 - val_acc: 0.9747\n",
      "Epoch 152/200\n",
      "13423/13423 [==============================] - 0s 23us/step - loss: 0.3116 - acc: 0.9630 - val_loss: 0.1108 - val_acc: 0.9736\n",
      "Epoch 153/200\n",
      "13423/13423 [==============================] - 0s 24us/step - loss: 0.3067 - acc: 0.9645 - val_loss: 0.1068 - val_acc: 0.9756\n",
      "Epoch 154/200\n",
      "13423/13423 [==============================] - 0s 24us/step - loss: 0.3147 - acc: 0.9644 - val_loss: 0.1201 - val_acc: 0.9712\n",
      "Epoch 155/200\n",
      "13423/13423 [==============================] - 0s 24us/step - loss: 0.3112 - acc: 0.9641 - val_loss: 0.1217 - val_acc: 0.9703\n",
      "Epoch 156/200\n",
      "13423/13423 [==============================] - 0s 24us/step - loss: 0.3098 - acc: 0.9634 - val_loss: 0.1728 - val_acc: 0.9542\n",
      "Epoch 157/200\n",
      "13423/13423 [==============================] - 0s 22us/step - loss: 0.3092 - acc: 0.9638 - val_loss: 0.1404 - val_acc: 0.9642\n",
      "Epoch 158/200\n",
      "13423/13423 [==============================] - 0s 23us/step - loss: 0.3066 - acc: 0.9647 - val_loss: 0.1804 - val_acc: 0.9508\n",
      "Epoch 159/200\n",
      "13423/13423 [==============================] - 0s 24us/step - loss: 0.3054 - acc: 0.9642 - val_loss: 0.1291 - val_acc: 0.9678\n",
      "Epoch 160/200\n",
      "13423/13423 [==============================] - 0s 24us/step - loss: 0.3093 - acc: 0.9645 - val_loss: 0.1522 - val_acc: 0.9613\n",
      "Epoch 161/200\n",
      "13423/13423 [==============================] - 0s 23us/step - loss: 0.3088 - acc: 0.9648 - val_loss: 0.1120 - val_acc: 0.9739\n",
      "Epoch 162/200\n",
      "13423/13423 [==============================] - 0s 24us/step - loss: 0.3101 - acc: 0.9637 - val_loss: 0.1699 - val_acc: 0.9546\n",
      "Epoch 163/200\n",
      "13423/13423 [==============================] - 0s 23us/step - loss: 0.3098 - acc: 0.9638 - val_loss: 0.2070 - val_acc: 0.9410\n",
      "Epoch 164/200\n",
      "13423/13423 [==============================] - 0s 22us/step - loss: 0.3086 - acc: 0.9645 - val_loss: 0.1295 - val_acc: 0.9669\n",
      "Epoch 165/200\n",
      "13423/13423 [==============================] - 0s 23us/step - loss: 0.3076 - acc: 0.9646 - val_loss: 0.1187 - val_acc: 0.9712\n",
      "Epoch 166/200\n",
      "13423/13423 [==============================] - 0s 23us/step - loss: 0.3041 - acc: 0.9645 - val_loss: 0.1583 - val_acc: 0.9598\n",
      "Epoch 167/200\n",
      "13423/13423 [==============================] - 0s 24us/step - loss: 0.3132 - acc: 0.9628 - val_loss: 0.1636 - val_acc: 0.9580\n",
      "Epoch 168/200\n",
      "13423/13423 [==============================] - 0s 25us/step - loss: 0.3069 - acc: 0.9646 - val_loss: 0.1449 - val_acc: 0.9629\n",
      "Epoch 169/200\n",
      "13423/13423 [==============================] - 0s 22us/step - loss: 0.3054 - acc: 0.9633 - val_loss: 0.1306 - val_acc: 0.9672\n",
      "Epoch 170/200\n",
      "13423/13423 [==============================] - 0s 23us/step - loss: 0.3074 - acc: 0.9631 - val_loss: 0.1073 - val_acc: 0.9752\n",
      "Epoch 171/200\n",
      "13423/13423 [==============================] - 0s 24us/step - loss: 0.3078 - acc: 0.9645 - val_loss: 0.1124 - val_acc: 0.9734\n",
      "Epoch 172/200\n",
      "13423/13423 [==============================] - 0s 31us/step - loss: 0.3106 - acc: 0.9643 - val_loss: 0.1134 - val_acc: 0.9734\n",
      "Epoch 173/200\n",
      "13423/13423 [==============================] - 0s 28us/step - loss: 0.3070 - acc: 0.9665 - val_loss: 0.1931 - val_acc: 0.9455\n",
      "Epoch 174/200\n",
      "13423/13423 [==============================] - 0s 24us/step - loss: 0.3083 - acc: 0.9627 - val_loss: 0.1147 - val_acc: 0.9727\n",
      "Epoch 175/200\n",
      "13423/13423 [==============================] - 0s 24us/step - loss: 0.3047 - acc: 0.9645 - val_loss: 0.1224 - val_acc: 0.9701\n",
      "Epoch 176/200\n"
     ]
    },
    {
     "name": "stdout",
     "output_type": "stream",
     "text": [
      "13423/13423 [==============================] - 0s 29us/step - loss: 0.3079 - acc: 0.9645 - val_loss: 0.1415 - val_acc: 0.9638\n",
      "Epoch 177/200\n",
      "13423/13423 [==============================] - 0s 19us/step - loss: 0.3092 - acc: 0.9640 - val_loss: 0.1351 - val_acc: 0.9651\n",
      "Epoch 178/200\n",
      "13423/13423 [==============================] - 0s 23us/step - loss: 0.3120 - acc: 0.9631 - val_loss: 0.1261 - val_acc: 0.9689\n",
      "Epoch 179/200\n",
      "13423/13423 [==============================] - 0s 24us/step - loss: 0.3060 - acc: 0.9646 - val_loss: 0.1494 - val_acc: 0.9622\n",
      "Epoch 180/200\n",
      "13423/13423 [==============================] - 0s 26us/step - loss: 0.3096 - acc: 0.9637 - val_loss: 0.1369 - val_acc: 0.9649\n",
      "Epoch 181/200\n",
      "13423/13423 [==============================] - 0s 24us/step - loss: 0.3060 - acc: 0.9635 - val_loss: 0.2017 - val_acc: 0.9428\n",
      "Epoch 182/200\n",
      "13423/13423 [==============================] - 0s 26us/step - loss: 0.3064 - acc: 0.9639 - val_loss: 0.1723 - val_acc: 0.9537\n",
      "Epoch 183/200\n",
      "13423/13423 [==============================] - 0s 22us/step - loss: 0.3063 - acc: 0.9645 - val_loss: 0.1265 - val_acc: 0.9692\n",
      "Epoch 184/200\n",
      "13423/13423 [==============================] - 0s 23us/step - loss: 0.3062 - acc: 0.9651 - val_loss: 0.1531 - val_acc: 0.9607\n",
      "Epoch 185/200\n",
      "13423/13423 [==============================] - 0s 24us/step - loss: 0.3087 - acc: 0.9648 - val_loss: 0.1122 - val_acc: 0.9741\n",
      "Epoch 186/200\n",
      "13423/13423 [==============================] - 0s 23us/step - loss: 0.3041 - acc: 0.9642 - val_loss: 0.1717 - val_acc: 0.9542\n",
      "Epoch 187/200\n",
      "13423/13423 [==============================] - 0s 25us/step - loss: 0.3103 - acc: 0.9639 - val_loss: 0.1444 - val_acc: 0.9631\n",
      "Epoch 188/200\n",
      "13423/13423 [==============================] - 0s 24us/step - loss: 0.3063 - acc: 0.9649 - val_loss: 0.1239 - val_acc: 0.9703\n",
      "Epoch 189/200\n",
      "13423/13423 [==============================] - 0s 25us/step - loss: 0.3111 - acc: 0.9642 - val_loss: 0.1209 - val_acc: 0.9707\n",
      "Epoch 190/200\n",
      "13423/13423 [==============================] - 0s 30us/step - loss: 0.3095 - acc: 0.9640 - val_loss: 0.1436 - val_acc: 0.9636\n",
      "Epoch 191/200\n",
      "13423/13423 [==============================] - 0s 30us/step - loss: 0.3065 - acc: 0.9648 - val_loss: 0.1931 - val_acc: 0.9468\n",
      "Epoch 192/200\n",
      "13423/13423 [==============================] - 0s 28us/step - loss: 0.3065 - acc: 0.9647 - val_loss: 0.1626 - val_acc: 0.9580\n",
      "Epoch 193/200\n",
      "13423/13423 [==============================] - 0s 24us/step - loss: 0.3070 - acc: 0.9648 - val_loss: 0.1157 - val_acc: 0.9725\n",
      "Epoch 194/200\n",
      "13423/13423 [==============================] - 0s 23us/step - loss: 0.3086 - acc: 0.9660 - val_loss: 0.1163 - val_acc: 0.9727\n",
      "Epoch 195/200\n",
      "13423/13423 [==============================] - 0s 31us/step - loss: 0.3082 - acc: 0.9661 - val_loss: 0.1633 - val_acc: 0.9573\n",
      "Epoch 196/200\n",
      "13423/13423 [==============================] - 0s 29us/step - loss: 0.3089 - acc: 0.9648 - val_loss: 0.2058 - val_acc: 0.9419\n",
      "Epoch 197/200\n",
      "13423/13423 [==============================] - 0s 24us/step - loss: 0.3135 - acc: 0.9627 - val_loss: 0.1711 - val_acc: 0.9546\n",
      "Epoch 198/200\n",
      "13423/13423 [==============================] - 0s 30us/step - loss: 0.3068 - acc: 0.9645 - val_loss: 0.1996 - val_acc: 0.9439\n",
      "Epoch 199/200\n",
      "13423/13423 [==============================] - 0s 31us/step - loss: 0.3053 - acc: 0.9642 - val_loss: 0.1228 - val_acc: 0.9703\n",
      "Epoch 200/200\n",
      "13423/13423 [==============================] - 0s 24us/step - loss: 0.3086 - acc: 0.9637 - val_loss: 0.1268 - val_acc: 0.9694\n"
     ]
    }
   ],
   "source": [
    "# Stochastic Gradient descent optimizer with learning rate = 0.1\n",
    "sgd = SGD(0.11)\n",
    "\n",
    "model.compile(loss='binary_crossentropy', optimizer=sgd,\n",
    "    metrics=[\"accuracy\"])\n",
    "\n",
    "class_weight = { 0 : 1., 1 : 10.}\n",
    "\n",
    "H = model.fit(trainX, trainY, validation_data=(testX, testY), \n",
    "              batch_size=128, epochs=200, class_weight=class_weight)"
   ]
  },
  {
   "cell_type": "markdown",
   "metadata": {},
   "source": [
    "At this point we are ready to analyze the results from our neural network. Calling the .predict method on our model will give us the predictions from our testing set. In addition, as the output from our network is given by the sigmoid activation function, the outputs values are real number in the range [0,1], so, we need to apply a step function to threshold the outputs to binary class labels. Lastly, we print a report showing us the performance of the model."
   ]
  },
  {
   "cell_type": "code",
   "execution_count": 20,
   "metadata": {
    "_uuid": "1de109def43c2d85aa686fe759a1980957cd6988"
   },
   "outputs": [
    {
     "name": "stdout",
     "output_type": "stream",
     "text": [
      "                 precision    recall  f1-score   support\n",
      "\n",
      "Non-pulsar Star       0.99      0.98      0.98      4060\n",
      "    Pulsar Star       0.80      0.90      0.84       415\n",
      "\n",
      "      micro avg       0.97      0.97      0.97      4475\n",
      "      macro avg       0.89      0.94      0.91      4475\n",
      "   weighted avg       0.97      0.97      0.97      4475\n",
      "\n"
     ]
    }
   ],
   "source": [
    "predictions = model.predict(testX, batch_size=128)\n",
    "\n",
    "# apply a step function to threshold the outputs to binary\n",
    "# class labels\n",
    "predictions[predictions < 0.5] = 0\n",
    "predictions[predictions >= 0.5] = 1\n",
    "\n",
    "print(classification_report(testY, predictions,\n",
    "    target_names=['Non-pulsar Star', 'Pulsar Star']))"
   ]
  },
  {
   "cell_type": "markdown",
   "metadata": {},
   "source": [
    "Look at the above situation, we can see that there way more instances of non-pulsar stars than pulsar stars in our test set, this is called class imbalance. This implies that we can not probe the performance of our model only by taking into account the precision values. In fact, we have 17898 total examples and among those we have 1639 positive and 16259 negative examples."
   ]
  },
  {
   "cell_type": "markdown",
   "metadata": {},
   "source": [
    "It is also important to visualize the confusion matrix of our predictions, this can lead us to a more precise visualization and comprehension about where the numbers in our report came from."
   ]
  },
  {
   "cell_type": "code",
   "execution_count": 21,
   "metadata": {},
   "outputs": [
    {
     "name": "stdout",
     "output_type": "stream",
     "text": [
      "[[3966   94]\n",
      " [  43  372]]\n"
     ]
    }
   ],
   "source": [
    "# Confusion matrix\n",
    "print(confusion_matrix(testY, predictions))"
   ]
  },
  {
   "cell_type": "code",
   "execution_count": 22,
   "metadata": {
    "_uuid": "d1611f860f5b1b2c370da63371a3ff2896ae8626"
   },
   "outputs": [
    {
     "data": {
      "image/png": "[encoded data removed]",
      "text/plain": [
       "<Figure size 432x288 with 1 Axes>"
      ]
     },
     "metadata": {},
     "output_type": "display_data"
    }
   ],
   "source": [
    "# Plotting the curve Epoch vs. Loss/Accuracy\n",
    "plt.style.use(\"ggplot\")\n",
    "plt.figure()\n",
    "plt.plot(np.arange(0, 200), H.history[\"loss\"], label=\"train_loss\")\n",
    "plt.plot(np.arange(0, 200), H.history[\"val_loss\"], label=\"val_loss\")\n",
    "plt.plot(np.arange(0, 200), H.history[\"acc\"], label=\"train_acc\")\n",
    "plt.plot(np.arange(0, 200), H.history[\"val_acc\"], label=\"val_acc\")\n",
    "plt.title(\"Training Loss and Accuracy\")\n",
    "plt.xlabel(\"Epoch #\")\n",
    "plt.ylabel(\"Loss/Accuracy\")\n",
    "plt.legend()\n",
    "plt.savefig('plot_complex.png')"
   ]
  },
  {
   "cell_type": "code",
   "execution_count": null,
   "metadata": {},
   "outputs": [],
   "source": []
  }
 ],
 "metadata": {
  "kernelspec": {
   "display_name": "Python 3",
   "language": "python",
   "name": "python3"
  },
  "language_info": {
   "codemirror_mode": {
    "name": "ipython",
    "version": 3
   },
   "file_extension": ".py",
   "mimetype": "text/x-python",
   "name": "python",
   "nbconvert_exporter": "python",
   "pygments_lexer": "ipython3",
   "version": "3.6.6"
  }
 },
 "nbformat": 4,
 "nbformat_minor": 1
}
