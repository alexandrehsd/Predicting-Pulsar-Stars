{
 "cells": [
  {
   "cell_type": "code",
   "execution_count": 291,
   "metadata": {
    "_cell_guid": "b1076dfc-b9ad-4769-8c92-a6c4dae69d19",
    "_uuid": "8f2839f25d086af736a60e9eeb907d3b93b6e0e5"
   },
   "outputs": [],
   "source": [
    "# import the necessary packages\n",
    "from sklearn.preprocessing import LabelBinarizer\n",
    "from sklearn.model_selection import train_test_split\n",
    "from sklearn.metrics import classification_report, confusion_matrix\n",
    "\n",
    "from keras.models import Sequential\n",
    "from keras.layers.core import Dense\n",
    "from keras.optimizers import SGD\n",
    "from keras import regularizers\n",
    "\n",
    "import matplotlib.pyplot as plt\n",
    "import numpy as np\n",
    "import pandas as pd"
   ]
  },
  {
   "cell_type": "code",
   "execution_count": 292,
   "metadata": {
    "_cell_guid": "79c7e3d0-c299-4dcb-8224-4455121ee9b0",
    "_uuid": "d629ff2d2480ee46fbb7e2d37f6b5fab8052498a"
   },
   "outputs": [],
   "source": [
    "# Loading the dataset\n",
    "dataset = pd.read_csv('pulsar_stars.csv')"
   ]
  },
  {
   "cell_type": "markdown",
   "metadata": {
    "_uuid": "9fe739112befa8fb7895d7b1e786ceb251a07fa9"
   },
   "source": [
    "1. Once the dataset is loaded, let's see some relevant information about the dataset such as column's titles and types, number of records and shape."
   ]
  },
  {
   "cell_type": "code",
   "execution_count": 293,
   "metadata": {
    "_uuid": "7b38a95fd67169cdf19f4b9730a9c1ac7b5aeece"
   },
   "outputs": [
    {
     "name": "stdout",
     "output_type": "stream",
     "text": [
      "<class 'pandas.core.frame.DataFrame'>\n",
      "RangeIndex: 17898 entries, 0 to 17897\n",
      "Data columns (total 9 columns):\n",
      " Mean of the integrated profile                  17898 non-null float64\n",
      " Standard deviation of the integrated profile    17898 non-null float64\n",
      " Excess kurtosis of the integrated profile       17898 non-null float64\n",
      " Skewness of the integrated profile              17898 non-null float64\n",
      " Mean of the DM-SNR curve                        17898 non-null float64\n",
      " Standard deviation of the DM-SNR curve          17898 non-null float64\n",
      " Excess kurtosis of the DM-SNR curve             17898 non-null float64\n",
      " Skewness of the DM-SNR curve                    17898 non-null float64\n",
      "target_class                                     17898 non-null int64\n",
      "dtypes: float64(8), int64(1)\n",
      "memory usage: 1.2 MB\n",
      "None\n"
     ]
    }
   ],
   "source": [
    "# EDA\n",
    "print(dataset.info())"
   ]
  },
  {
   "cell_type": "markdown",
   "metadata": {
    "_uuid": "67889e172218a90a818263626ecc3d664cffb929"
   },
   "source": [
    "2. Now, let's divide our dataset into two subsets: data and target."
   ]
  },
  {
   "cell_type": "code",
   "execution_count": 294,
   "metadata": {
    "_uuid": "bd23ddabb0612244c6240871edc8c6ab8cd7a60a"
   },
   "outputs": [],
   "source": [
    "# Droping the target column\n",
    "data = dataset.drop(['target_class'], axis=1)\n",
    "\n",
    "# Normalizing the data for all data points to fit in the range [0,1]\n",
    "data = data / np.max(data)\n",
    "\n",
    "target = dataset[['target_class']]"
   ]
  },
  {
   "cell_type": "code",
   "execution_count": 295,
   "metadata": {
    "_uuid": "e0192aa64ca2a7d5fcb99549e21349bcb01c92aa"
   },
   "outputs": [],
   "source": [
    "# Construct the training and testing splits \n",
    "trainX, testX, trainY, testY = train_test_split(data, target, test_size=0.25)"
   ]
  },
  {
   "cell_type": "markdown",
   "metadata": {
    "_uuid": "983a1f5f87eadaa31ce04178e37f3d4cc981088d"
   },
   "source": [
    "Machine Learning algorithms works better when integer labels are transformed into vector labels. In order to accomplish this transformation I will instantiate a LabelBinarizer object and apply the transformation methods into our trainY and testY sets."
   ]
  },
  {
   "cell_type": "code",
   "execution_count": 296,
   "metadata": {
    "_uuid": "1315d227e4982c4ea529f01223a10a9475a7ad1e"
   },
   "outputs": [],
   "source": [
    "lb = LabelBinarizer()\n",
    "trainY = lb.fit_transform(trainY)\n",
    "testY = lb.transform(testY)"
   ]
  },
  {
   "cell_type": "markdown",
   "metadata": {
    "_uuid": "391d1fe28b56d737665d07666428cf1fc39b6bda"
   },
   "source": [
    "With keras, it is possible to define models to our neural network (nn). In this case, we are going to work with a Sequential nn, which is just the nn as we already know, i.e., each layer has as its input the output of the former layer. It is worth mention that our neural network is 8-4-2-1."
   ]
  },
  {
   "cell_type": "code",
   "execution_count": 297,
   "metadata": {
    "_uuid": "60bb73df10aa290dc09b65259e988855e4a08a6c"
   },
   "outputs": [],
   "source": [
    "# Defining the model\n",
    "model = Sequential()\n",
    "model.add(Dense(4, input_shape=(8,), activation='sigmoid'))\n",
    "model.add(Dense(2, activation='sigmoid'))\n",
    "model.add(Dense(1, activation='sigmoid'))"
   ]
  },
  {
   "cell_type": "markdown",
   "metadata": {
    "_uuid": "59eb9e91bd5c00b37dbeb580c9bc5e91f5a6cc04"
   },
   "source": [
    "We are going to use the Stochastic Gradient Descent technique as an optimizer, initially with a learning rate = 0.1. Furthermore, as this is a binary classification problem, in this case a common loss function to use is the binary cross-entropy. Also, our dataset is extremely unbalanced instances of classes, in order to achieve more balance between classes, we weighted the class 1 (is pulsar) ten times more than class 0 (not a pulsar)."
   ]
  },
  {
   "cell_type": "code",
   "execution_count": 298,
   "metadata": {
    "_uuid": "d8e991ba785b2b7e9de04a49be0dcddb461ca6f4"
   },
   "outputs": [
    {
     "name": "stdout",
     "output_type": "stream",
     "text": [
      "Train on 13423 samples, validate on 4475 samples\n",
      "Epoch 1/200\n",
      "13423/13423 [==============================] - 1s 110us/step - loss: 1.2704 - acc: 0.3649 - val_loss: 0.6750 - val_acc: 0.9144\n",
      "Epoch 2/200\n",
      "13423/13423 [==============================] - 0s 19us/step - loss: 1.2599 - acc: 0.4656 - val_loss: 0.7081 - val_acc: 0.0914\n",
      "Epoch 3/200\n",
      "13423/13423 [==============================] - 0s 19us/step - loss: 1.2309 - acc: 0.4378 - val_loss: 0.6260 - val_acc: 0.9520\n",
      "Epoch 4/200\n",
      "13423/13423 [==============================] - 0s 19us/step - loss: 1.1408 - acc: 0.9000 - val_loss: 0.6006 - val_acc: 0.9497\n",
      "Epoch 5/200\n",
      "13423/13423 [==============================] - 0s 19us/step - loss: 0.9118 - acc: 0.9517 - val_loss: 0.4095 - val_acc: 0.9542\n",
      "Epoch 6/200\n",
      "13423/13423 [==============================] - 0s 20us/step - loss: 0.6612 - acc: 0.9507 - val_loss: 0.3023 - val_acc: 0.9506\n",
      "Epoch 7/200\n",
      "13423/13423 [==============================] - 0s 19us/step - loss: 0.5291 - acc: 0.9484 - val_loss: 0.2793 - val_acc: 0.9406\n",
      "Epoch 8/200\n",
      "13423/13423 [==============================] - 0s 19us/step - loss: 0.4685 - acc: 0.9473 - val_loss: 0.2462 - val_acc: 0.9428\n",
      "Epoch 9/200\n",
      "13423/13423 [==============================] - 0s 20us/step - loss: 0.4355 - acc: 0.9504 - val_loss: 0.1885 - val_acc: 0.9546\n",
      "Epoch 10/200\n",
      "13423/13423 [==============================] - 0s 20us/step - loss: 0.4133 - acc: 0.9529 - val_loss: 0.1954 - val_acc: 0.9528\n",
      "Epoch 11/200\n",
      "13423/13423 [==============================] - 0s 19us/step - loss: 0.4013 - acc: 0.9546 - val_loss: 0.1907 - val_acc: 0.9528\n",
      "Epoch 12/200\n",
      "13423/13423 [==============================] - 0s 20us/step - loss: 0.3908 - acc: 0.9557 - val_loss: 0.1819 - val_acc: 0.9551\n",
      "Epoch 13/200\n",
      "13423/13423 [==============================] - 0s 20us/step - loss: 0.3820 - acc: 0.9555 - val_loss: 0.1717 - val_acc: 0.9578\n",
      "Epoch 14/200\n",
      "13423/13423 [==============================] - 0s 20us/step - loss: 0.3777 - acc: 0.9559 - val_loss: 0.2521 - val_acc: 0.9193\n",
      "Epoch 15/200\n",
      "13423/13423 [==============================] - 0s 19us/step - loss: 0.3708 - acc: 0.9546 - val_loss: 0.1488 - val_acc: 0.9642\n",
      "Epoch 16/200\n",
      "13423/13423 [==============================] - 0s 19us/step - loss: 0.3692 - acc: 0.9566 - val_loss: 0.1835 - val_acc: 0.9497\n",
      "Epoch 17/200\n",
      "13423/13423 [==============================] - 0s 20us/step - loss: 0.3684 - acc: 0.9554 - val_loss: 0.1593 - val_acc: 0.9607\n",
      "Epoch 18/200\n",
      "13423/13423 [==============================] - 0s 20us/step - loss: 0.3651 - acc: 0.9534 - val_loss: 0.1392 - val_acc: 0.9658\n",
      "Epoch 19/200\n",
      "13423/13423 [==============================] - 0s 20us/step - loss: 0.3644 - acc: 0.9543 - val_loss: 0.1662 - val_acc: 0.9549\n",
      "Epoch 20/200\n",
      "13423/13423 [==============================] - 0s 19us/step - loss: 0.3619 - acc: 0.9536 - val_loss: 0.1308 - val_acc: 0.9672\n",
      "Epoch 21/200\n",
      "13423/13423 [==============================] - 0s 19us/step - loss: 0.3596 - acc: 0.9555 - val_loss: 0.1358 - val_acc: 0.9660\n",
      "Epoch 22/200\n",
      "13423/13423 [==============================] - 0s 20us/step - loss: 0.3596 - acc: 0.9543 - val_loss: 0.1595 - val_acc: 0.9573\n",
      "Epoch 23/200\n",
      "13423/13423 [==============================] - 0s 20us/step - loss: 0.3592 - acc: 0.9559 - val_loss: 0.1902 - val_acc: 0.9444\n",
      "Epoch 24/200\n",
      "13423/13423 [==============================] - 0s 20us/step - loss: 0.3599 - acc: 0.9550 - val_loss: 0.1755 - val_acc: 0.9515\n",
      "Epoch 25/200\n",
      "13423/13423 [==============================] - 0s 19us/step - loss: 0.3564 - acc: 0.9540 - val_loss: 0.2002 - val_acc: 0.9410\n",
      "Epoch 26/200\n",
      "13423/13423 [==============================] - 0s 20us/step - loss: 0.3555 - acc: 0.9548 - val_loss: 0.1312 - val_acc: 0.9667\n",
      "Epoch 27/200\n",
      "13423/13423 [==============================] - 0s 19us/step - loss: 0.3562 - acc: 0.9563 - val_loss: 0.1540 - val_acc: 0.9591\n",
      "Epoch 28/200\n",
      "13423/13423 [==============================] - 0s 20us/step - loss: 0.3528 - acc: 0.9563 - val_loss: 0.1376 - val_acc: 0.9647\n",
      "Epoch 29/200\n",
      "13423/13423 [==============================] - 0s 20us/step - loss: 0.3517 - acc: 0.9563 - val_loss: 0.1401 - val_acc: 0.9642\n",
      "Epoch 30/200\n",
      "13423/13423 [==============================] - 0s 20us/step - loss: 0.3510 - acc: 0.9578 - val_loss: 0.1739 - val_acc: 0.9524\n",
      "Epoch 31/200\n",
      "13423/13423 [==============================] - 0s 20us/step - loss: 0.3528 - acc: 0.9566 - val_loss: 0.1818 - val_acc: 0.9493\n",
      "Epoch 32/200\n",
      "13423/13423 [==============================] - 0s 20us/step - loss: 0.3482 - acc: 0.9557 - val_loss: 0.1172 - val_acc: 0.9703\n",
      "Epoch 33/200\n",
      "13423/13423 [==============================] - 0s 19us/step - loss: 0.3494 - acc: 0.9584 - val_loss: 0.1225 - val_acc: 0.9689\n",
      "Epoch 34/200\n",
      "13423/13423 [==============================] - 0s 21us/step - loss: 0.3510 - acc: 0.9575 - val_loss: 0.1616 - val_acc: 0.9566\n",
      "Epoch 35/200\n",
      "13423/13423 [==============================] - 0s 19us/step - loss: 0.3481 - acc: 0.9583 - val_loss: 0.1152 - val_acc: 0.9709\n",
      "Epoch 36/200\n",
      "13423/13423 [==============================] - 0s 20us/step - loss: 0.3480 - acc: 0.9577 - val_loss: 0.1406 - val_acc: 0.9631\n",
      "Epoch 37/200\n",
      "13423/13423 [==============================] - 0s 19us/step - loss: 0.3478 - acc: 0.9582 - val_loss: 0.1514 - val_acc: 0.9591\n",
      "Epoch 38/200\n",
      "13423/13423 [==============================] - 0s 19us/step - loss: 0.3441 - acc: 0.9578 - val_loss: 0.1045 - val_acc: 0.9754\n",
      "Epoch 39/200\n",
      "13423/13423 [==============================] - 0s 19us/step - loss: 0.3440 - acc: 0.9578 - val_loss: 0.1173 - val_acc: 0.9709\n",
      "Epoch 40/200\n",
      "13423/13423 [==============================] - 0s 19us/step - loss: 0.3445 - acc: 0.9581 - val_loss: 0.1137 - val_acc: 0.9716\n",
      "Epoch 41/200\n",
      "13423/13423 [==============================] - 0s 20us/step - loss: 0.3444 - acc: 0.9595 - val_loss: 0.1363 - val_acc: 0.9663\n",
      "Epoch 42/200\n",
      "13423/13423 [==============================] - 0s 20us/step - loss: 0.3434 - acc: 0.9569 - val_loss: 0.1279 - val_acc: 0.9680\n",
      "Epoch 43/200\n",
      "13423/13423 [==============================] - 0s 20us/step - loss: 0.3436 - acc: 0.9595 - val_loss: 0.1581 - val_acc: 0.9566\n",
      "Epoch 44/200\n",
      "13423/13423 [==============================] - 0s 19us/step - loss: 0.3418 - acc: 0.9577 - val_loss: 0.1263 - val_acc: 0.9687\n",
      "Epoch 45/200\n",
      "13423/13423 [==============================] - 0s 20us/step - loss: 0.3425 - acc: 0.9594 - val_loss: 0.1472 - val_acc: 0.9622\n",
      "Epoch 46/200\n",
      "13423/13423 [==============================] - 0s 20us/step - loss: 0.3417 - acc: 0.9602 - val_loss: 0.1820 - val_acc: 0.9499\n",
      "Epoch 47/200\n",
      "13423/13423 [==============================] - 0s 19us/step - loss: 0.3404 - acc: 0.9596 - val_loss: 0.1341 - val_acc: 0.9660\n",
      "Epoch 48/200\n",
      "13423/13423 [==============================] - 0s 19us/step - loss: 0.3409 - acc: 0.9599 - val_loss: 0.1577 - val_acc: 0.9573\n",
      "Epoch 49/200\n",
      "13423/13423 [==============================] - 0s 19us/step - loss: 0.3414 - acc: 0.9614 - val_loss: 0.1610 - val_acc: 0.9571\n",
      "Epoch 50/200\n",
      "13423/13423 [==============================] - 0s 20us/step - loss: 0.3400 - acc: 0.9607 - val_loss: 0.1360 - val_acc: 0.9656\n",
      "Epoch 51/200\n",
      "13423/13423 [==============================] - 0s 19us/step - loss: 0.3421 - acc: 0.9604 - val_loss: 0.1244 - val_acc: 0.9694\n",
      "Epoch 52/200\n",
      "13423/13423 [==============================] - 0s 19us/step - loss: 0.3377 - acc: 0.9603 - val_loss: 0.1467 - val_acc: 0.9631\n",
      "Epoch 53/200\n",
      "13423/13423 [==============================] - 0s 19us/step - loss: 0.3392 - acc: 0.9604 - val_loss: 0.1561 - val_acc: 0.9591\n",
      "Epoch 54/200\n",
      "13423/13423 [==============================] - 0s 20us/step - loss: 0.3367 - acc: 0.9615 - val_loss: 0.2169 - val_acc: 0.9359\n",
      "Epoch 55/200\n",
      "13423/13423 [==============================] - 0s 20us/step - loss: 0.3370 - acc: 0.9616 - val_loss: 0.1703 - val_acc: 0.9535\n",
      "Epoch 56/200\n",
      "13423/13423 [==============================] - 0s 20us/step - loss: 0.3359 - acc: 0.9622 - val_loss: 0.2114 - val_acc: 0.9377\n",
      "Epoch 57/200\n",
      "13423/13423 [==============================] - 0s 19us/step - loss: 0.3379 - acc: 0.9598 - val_loss: 0.1956 - val_acc: 0.9455\n",
      "Epoch 58/200\n",
      "13423/13423 [==============================] - 0s 19us/step - loss: 0.3373 - acc: 0.9609 - val_loss: 0.1414 - val_acc: 0.9654\n",
      "Epoch 59/200\n"
     ]
    },
    {
     "name": "stdout",
     "output_type": "stream",
     "text": [
      "13423/13423 [==============================] - 0s 19us/step - loss: 0.3363 - acc: 0.9622 - val_loss: 0.1218 - val_acc: 0.9707\n",
      "Epoch 60/200\n",
      "13423/13423 [==============================] - 0s 20us/step - loss: 0.3373 - acc: 0.9613 - val_loss: 0.1187 - val_acc: 0.9714\n",
      "Epoch 61/200\n",
      "13423/13423 [==============================] - 0s 17us/step - loss: 0.3340 - acc: 0.9611 - val_loss: 0.1349 - val_acc: 0.9665\n",
      "Epoch 62/200\n",
      "13423/13423 [==============================] - 0s 19us/step - loss: 0.3341 - acc: 0.9616 - val_loss: 0.2222 - val_acc: 0.9332\n",
      "Epoch 63/200\n",
      "13423/13423 [==============================] - 0s 17us/step - loss: 0.3370 - acc: 0.9604 - val_loss: 0.1414 - val_acc: 0.9651\n",
      "Epoch 64/200\n",
      "13423/13423 [==============================] - 0s 19us/step - loss: 0.3339 - acc: 0.9602 - val_loss: 0.1220 - val_acc: 0.9703\n",
      "Epoch 65/200\n",
      "13423/13423 [==============================] - 0s 20us/step - loss: 0.3351 - acc: 0.9613 - val_loss: 0.1963 - val_acc: 0.9459\n",
      "Epoch 66/200\n",
      "13423/13423 [==============================] - 0s 19us/step - loss: 0.3361 - acc: 0.9617 - val_loss: 0.1371 - val_acc: 0.9665\n",
      "Epoch 67/200\n",
      "13423/13423 [==============================] - 0s 19us/step - loss: 0.3327 - acc: 0.9607 - val_loss: 0.1578 - val_acc: 0.9575\n",
      "Epoch 68/200\n",
      "13423/13423 [==============================] - 0s 19us/step - loss: 0.3365 - acc: 0.9619 - val_loss: 0.1696 - val_acc: 0.9544\n",
      "Epoch 69/200\n",
      "13423/13423 [==============================] - 0s 19us/step - loss: 0.3332 - acc: 0.9619 - val_loss: 0.1634 - val_acc: 0.9564\n",
      "Epoch 70/200\n",
      "13423/13423 [==============================] - 0s 19us/step - loss: 0.3333 - acc: 0.9614 - val_loss: 0.1433 - val_acc: 0.9651\n",
      "Epoch 71/200\n",
      "13423/13423 [==============================] - 0s 19us/step - loss: 0.3304 - acc: 0.9624 - val_loss: 0.1174 - val_acc: 0.9718\n",
      "Epoch 72/200\n",
      "13423/13423 [==============================] - 0s 19us/step - loss: 0.3338 - acc: 0.9634 - val_loss: 0.1893 - val_acc: 0.9488\n",
      "Epoch 73/200\n",
      "13423/13423 [==============================] - 0s 19us/step - loss: 0.3318 - acc: 0.9630 - val_loss: 0.1468 - val_acc: 0.9629\n",
      "Epoch 74/200\n",
      "13423/13423 [==============================] - 0s 19us/step - loss: 0.3319 - acc: 0.9626 - val_loss: 0.1366 - val_acc: 0.9669\n",
      "Epoch 75/200\n",
      "13423/13423 [==============================] - 0s 19us/step - loss: 0.3289 - acc: 0.9618 - val_loss: 0.1527 - val_acc: 0.9600\n",
      "Epoch 76/200\n",
      "13423/13423 [==============================] - 0s 19us/step - loss: 0.3297 - acc: 0.9639 - val_loss: 0.2656 - val_acc: 0.9126\n",
      "Epoch 77/200\n",
      "13423/13423 [==============================] - 0s 20us/step - loss: 0.3324 - acc: 0.9601 - val_loss: 0.1211 - val_acc: 0.9716\n",
      "Epoch 78/200\n",
      "13423/13423 [==============================] - 0s 20us/step - loss: 0.3276 - acc: 0.9614 - val_loss: 0.1103 - val_acc: 0.9739\n",
      "Epoch 79/200\n",
      "13423/13423 [==============================] - 0s 20us/step - loss: 0.3330 - acc: 0.9627 - val_loss: 0.1791 - val_acc: 0.9508\n",
      "Epoch 80/200\n",
      "13423/13423 [==============================] - 0s 19us/step - loss: 0.3291 - acc: 0.9626 - val_loss: 0.1220 - val_acc: 0.9709\n",
      "Epoch 81/200\n",
      "13423/13423 [==============================] - 0s 19us/step - loss: 0.3277 - acc: 0.9610 - val_loss: 0.1336 - val_acc: 0.9665\n",
      "Epoch 82/200\n",
      "13423/13423 [==============================] - 0s 19us/step - loss: 0.3326 - acc: 0.9630 - val_loss: 0.1318 - val_acc: 0.9669\n",
      "Epoch 83/200\n",
      "13423/13423 [==============================] - 0s 20us/step - loss: 0.3321 - acc: 0.9625 - val_loss: 0.1295 - val_acc: 0.9687\n",
      "Epoch 84/200\n",
      "13423/13423 [==============================] - 0s 19us/step - loss: 0.3276 - acc: 0.9623 - val_loss: 0.1894 - val_acc: 0.9470\n",
      "Epoch 85/200\n",
      "13423/13423 [==============================] - 0s 20us/step - loss: 0.3286 - acc: 0.9621 - val_loss: 0.1067 - val_acc: 0.9754\n",
      "Epoch 86/200\n",
      "13423/13423 [==============================] - 0s 19us/step - loss: 0.3303 - acc: 0.9630 - val_loss: 0.1901 - val_acc: 0.9475\n",
      "Epoch 87/200\n",
      "13423/13423 [==============================] - 0s 20us/step - loss: 0.3316 - acc: 0.9629 - val_loss: 0.1563 - val_acc: 0.9593\n",
      "Epoch 88/200\n",
      "13423/13423 [==============================] - 0s 20us/step - loss: 0.3277 - acc: 0.9631 - val_loss: 0.1432 - val_acc: 0.9640\n",
      "Epoch 89/200\n",
      "13423/13423 [==============================] - 0s 20us/step - loss: 0.3264 - acc: 0.9625 - val_loss: 0.1609 - val_acc: 0.9589\n",
      "Epoch 90/200\n",
      "13423/13423 [==============================] - 0s 19us/step - loss: 0.3268 - acc: 0.9630 - val_loss: 0.1110 - val_acc: 0.9743\n",
      "Epoch 91/200\n",
      "13423/13423 [==============================] - 0s 20us/step - loss: 0.3292 - acc: 0.9630 - val_loss: 0.1112 - val_acc: 0.9747\n",
      "Epoch 92/200\n",
      "13423/13423 [==============================] - 0s 19us/step - loss: 0.3292 - acc: 0.9626 - val_loss: 0.1387 - val_acc: 0.9658\n",
      "Epoch 93/200\n",
      "13423/13423 [==============================] - 0s 19us/step - loss: 0.3283 - acc: 0.9633 - val_loss: 0.1519 - val_acc: 0.9611\n",
      "Epoch 94/200\n",
      "13423/13423 [==============================] - 0s 19us/step - loss: 0.3327 - acc: 0.9630 - val_loss: 0.1194 - val_acc: 0.9712\n",
      "Epoch 95/200\n",
      "13423/13423 [==============================] - 0s 19us/step - loss: 0.3302 - acc: 0.9639 - val_loss: 0.1517 - val_acc: 0.9616\n",
      "Epoch 96/200\n",
      "13423/13423 [==============================] - 0s 20us/step - loss: 0.3299 - acc: 0.9631 - val_loss: 0.1412 - val_acc: 0.9647\n",
      "Epoch 97/200\n",
      "13423/13423 [==============================] - 0s 19us/step - loss: 0.3275 - acc: 0.9612 - val_loss: 0.1667 - val_acc: 0.9555\n",
      "Epoch 98/200\n",
      "13423/13423 [==============================] - 0s 19us/step - loss: 0.3279 - acc: 0.9620 - val_loss: 0.1743 - val_acc: 0.9533\n",
      "Epoch 99/200\n",
      "13423/13423 [==============================] - 0s 20us/step - loss: 0.3300 - acc: 0.9628 - val_loss: 0.1412 - val_acc: 0.9647\n",
      "Epoch 100/200\n",
      "13423/13423 [==============================] - 0s 20us/step - loss: 0.3269 - acc: 0.9626 - val_loss: 0.1166 - val_acc: 0.9730\n",
      "Epoch 101/200\n",
      "13423/13423 [==============================] - 0s 20us/step - loss: 0.3283 - acc: 0.9632 - val_loss: 0.1739 - val_acc: 0.9531\n",
      "Epoch 102/200\n",
      "13423/13423 [==============================] - 0s 19us/step - loss: 0.3260 - acc: 0.9631 - val_loss: 0.1150 - val_acc: 0.9743\n",
      "Epoch 103/200\n",
      "13423/13423 [==============================] - 0s 20us/step - loss: 0.3271 - acc: 0.9642 - val_loss: 0.2423 - val_acc: 0.9267\n",
      "Epoch 104/200\n",
      "13423/13423 [==============================] - 0s 17us/step - loss: 0.3280 - acc: 0.9619 - val_loss: 0.1728 - val_acc: 0.9542\n",
      "Epoch 105/200\n",
      "13423/13423 [==============================] - 0s 19us/step - loss: 0.3311 - acc: 0.9626 - val_loss: 0.2000 - val_acc: 0.9448\n",
      "Epoch 106/200\n",
      "13423/13423 [==============================] - 0s 20us/step - loss: 0.3237 - acc: 0.9648 - val_loss: 0.1056 - val_acc: 0.9761\n",
      "Epoch 107/200\n",
      "13423/13423 [==============================] - 0s 19us/step - loss: 0.3285 - acc: 0.9639 - val_loss: 0.1388 - val_acc: 0.9660\n",
      "Epoch 108/200\n",
      "13423/13423 [==============================] - 0s 20us/step - loss: 0.3247 - acc: 0.9629 - val_loss: 0.1479 - val_acc: 0.9625\n",
      "Epoch 109/200\n",
      "13423/13423 [==============================] - 0s 19us/step - loss: 0.3293 - acc: 0.9610 - val_loss: 0.1341 - val_acc: 0.9674\n",
      "Epoch 110/200\n",
      "13423/13423 [==============================] - 0s 20us/step - loss: 0.3291 - acc: 0.9646 - val_loss: 0.1119 - val_acc: 0.9750\n",
      "Epoch 111/200\n",
      "13423/13423 [==============================] - 0s 20us/step - loss: 0.3258 - acc: 0.9641 - val_loss: 0.1199 - val_acc: 0.9721\n",
      "Epoch 112/200\n",
      "13423/13423 [==============================] - 0s 20us/step - loss: 0.3268 - acc: 0.9642 - val_loss: 0.2326 - val_acc: 0.9312\n",
      "Epoch 113/200\n",
      "13423/13423 [==============================] - 0s 20us/step - loss: 0.3248 - acc: 0.9628 - val_loss: 0.1038 - val_acc: 0.9763\n",
      "Epoch 114/200\n",
      "13423/13423 [==============================] - 0s 20us/step - loss: 0.3271 - acc: 0.9625 - val_loss: 0.0885 - val_acc: 0.9779\n",
      "Epoch 115/200\n",
      "13423/13423 [==============================] - 0s 21us/step - loss: 0.3254 - acc: 0.9639 - val_loss: 0.1224 - val_acc: 0.9701\n",
      "Epoch 116/200\n",
      "13423/13423 [==============================] - 0s 20us/step - loss: 0.3262 - acc: 0.9641 - val_loss: 0.1867 - val_acc: 0.9491\n",
      "Epoch 117/200\n",
      "13423/13423 [==============================] - 0s 20us/step - loss: 0.3241 - acc: 0.9622 - val_loss: 0.1032 - val_acc: 0.9765\n"
     ]
    },
    {
     "name": "stdout",
     "output_type": "stream",
     "text": [
      "Epoch 118/200\n",
      "13423/13423 [==============================] - 0s 19us/step - loss: 0.3265 - acc: 0.9621 - val_loss: 0.1073 - val_acc: 0.9754\n",
      "Epoch 119/200\n",
      "13423/13423 [==============================] - 0s 19us/step - loss: 0.3256 - acc: 0.9636 - val_loss: 0.1772 - val_acc: 0.9526\n",
      "Epoch 120/200\n",
      "13423/13423 [==============================] - 0s 19us/step - loss: 0.3258 - acc: 0.9618 - val_loss: 0.1194 - val_acc: 0.9718\n",
      "Epoch 121/200\n",
      "13423/13423 [==============================] - 0s 20us/step - loss: 0.3272 - acc: 0.9649 - val_loss: 0.1196 - val_acc: 0.9721\n",
      "Epoch 122/200\n",
      "13423/13423 [==============================] - 0s 19us/step - loss: 0.3239 - acc: 0.9625 - val_loss: 0.1355 - val_acc: 0.9669\n",
      "Epoch 123/200\n",
      "13423/13423 [==============================] - 0s 18us/step - loss: 0.3284 - acc: 0.9636 - val_loss: 0.1152 - val_acc: 0.9732\n",
      "Epoch 124/200\n",
      "13423/13423 [==============================] - 0s 19us/step - loss: 0.3228 - acc: 0.9626 - val_loss: 0.0926 - val_acc: 0.9770\n",
      "Epoch 125/200\n",
      "13423/13423 [==============================] - 0s 19us/step - loss: 0.3272 - acc: 0.9639 - val_loss: 0.0970 - val_acc: 0.9772\n",
      "Epoch 126/200\n",
      "13423/13423 [==============================] - 0s 19us/step - loss: 0.3249 - acc: 0.9641 - val_loss: 0.2325 - val_acc: 0.9325\n",
      "Epoch 127/200\n",
      "13423/13423 [==============================] - 0s 20us/step - loss: 0.3256 - acc: 0.9630 - val_loss: 0.1165 - val_acc: 0.9736\n",
      "Epoch 128/200\n",
      "13423/13423 [==============================] - 0s 19us/step - loss: 0.3227 - acc: 0.9642 - val_loss: 0.1058 - val_acc: 0.9761\n",
      "Epoch 129/200\n",
      "13423/13423 [==============================] - 0s 18us/step - loss: 0.3256 - acc: 0.9645 - val_loss: 0.1150 - val_acc: 0.9734\n",
      "Epoch 130/200\n",
      "13423/13423 [==============================] - 0s 19us/step - loss: 0.3252 - acc: 0.9640 - val_loss: 0.1522 - val_acc: 0.9618\n",
      "Epoch 131/200\n",
      "13423/13423 [==============================] - 0s 20us/step - loss: 0.3234 - acc: 0.9641 - val_loss: 0.1408 - val_acc: 0.9649\n",
      "Epoch 132/200\n",
      "13423/13423 [==============================] - 0s 19us/step - loss: 0.3244 - acc: 0.9641 - val_loss: 0.1153 - val_acc: 0.9734\n",
      "Epoch 133/200\n",
      "13423/13423 [==============================] - 0s 19us/step - loss: 0.3246 - acc: 0.9633 - val_loss: 0.1361 - val_acc: 0.9667\n",
      "Epoch 134/200\n",
      "13423/13423 [==============================] - 0s 20us/step - loss: 0.3227 - acc: 0.9648 - val_loss: 0.1464 - val_acc: 0.9627\n",
      "Epoch 135/200\n",
      "13423/13423 [==============================] - 0s 19us/step - loss: 0.3248 - acc: 0.9639 - val_loss: 0.1030 - val_acc: 0.9768\n",
      "Epoch 136/200\n",
      "13423/13423 [==============================] - 0s 20us/step - loss: 0.3224 - acc: 0.9636 - val_loss: 0.1144 - val_acc: 0.9736\n",
      "Epoch 137/200\n",
      "13423/13423 [==============================] - 0s 19us/step - loss: 0.3253 - acc: 0.9632 - val_loss: 0.2647 - val_acc: 0.9182\n",
      "Epoch 138/200\n",
      "13423/13423 [==============================] - 0s 20us/step - loss: 0.3234 - acc: 0.9625 - val_loss: 0.1651 - val_acc: 0.9573\n",
      "Epoch 139/200\n",
      "13423/13423 [==============================] - 0s 19us/step - loss: 0.3275 - acc: 0.9624 - val_loss: 0.1460 - val_acc: 0.9631\n",
      "Epoch 140/200\n",
      "13423/13423 [==============================] - 0s 20us/step - loss: 0.3229 - acc: 0.9622 - val_loss: 0.1382 - val_acc: 0.9654\n",
      "Epoch 141/200\n",
      "13423/13423 [==============================] - 0s 19us/step - loss: 0.3220 - acc: 0.9628 - val_loss: 0.1822 - val_acc: 0.9515\n",
      "Epoch 142/200\n",
      "13423/13423 [==============================] - 0s 20us/step - loss: 0.3223 - acc: 0.9653 - val_loss: 0.2389 - val_acc: 0.9305\n",
      "Epoch 143/200\n",
      "13423/13423 [==============================] - 0s 19us/step - loss: 0.3248 - acc: 0.9630 - val_loss: 0.1431 - val_acc: 0.9645\n",
      "Epoch 144/200\n",
      "13423/13423 [==============================] - 0s 19us/step - loss: 0.3248 - acc: 0.9642 - val_loss: 0.1481 - val_acc: 0.9634\n",
      "Epoch 145/200\n",
      "13423/13423 [==============================] - 0s 20us/step - loss: 0.3233 - acc: 0.9632 - val_loss: 0.1527 - val_acc: 0.9613\n",
      "Epoch 146/200\n",
      "13423/13423 [==============================] - 0s 19us/step - loss: 0.3255 - acc: 0.9630 - val_loss: 0.1194 - val_acc: 0.9718\n",
      "Epoch 147/200\n",
      "13423/13423 [==============================] - 0s 19us/step - loss: 0.3240 - acc: 0.9647 - val_loss: 0.1025 - val_acc: 0.9768\n",
      "Epoch 148/200\n",
      "13423/13423 [==============================] - 0s 20us/step - loss: 0.3250 - acc: 0.9634 - val_loss: 0.1199 - val_acc: 0.9716\n",
      "Epoch 149/200\n",
      "13423/13423 [==============================] - 0s 20us/step - loss: 0.3252 - acc: 0.9665 - val_loss: 0.2063 - val_acc: 0.9421\n",
      "Epoch 150/200\n",
      "13423/13423 [==============================] - 0s 19us/step - loss: 0.3201 - acc: 0.9636 - val_loss: 0.1968 - val_acc: 0.9455\n",
      "Epoch 151/200\n",
      "13423/13423 [==============================] - 0s 19us/step - loss: 0.3211 - acc: 0.9636 - val_loss: 0.1741 - val_acc: 0.9546\n",
      "Epoch 152/200\n",
      "13423/13423 [==============================] - 0s 19us/step - loss: 0.3202 - acc: 0.9643 - val_loss: 0.1151 - val_acc: 0.9736\n",
      "Epoch 153/200\n",
      "13423/13423 [==============================] - 0s 19us/step - loss: 0.3237 - acc: 0.9640 - val_loss: 0.2755 - val_acc: 0.9128\n",
      "Epoch 154/200\n",
      "13423/13423 [==============================] - 0s 19us/step - loss: 0.3226 - acc: 0.9635 - val_loss: 0.1776 - val_acc: 0.9535\n",
      "Epoch 155/200\n",
      "13423/13423 [==============================] - 0s 19us/step - loss: 0.3211 - acc: 0.9633 - val_loss: 0.1600 - val_acc: 0.9589\n",
      "Epoch 156/200\n",
      "13423/13423 [==============================] - 0s 20us/step - loss: 0.3259 - acc: 0.9631 - val_loss: 0.1247 - val_acc: 0.9701\n",
      "Epoch 157/200\n",
      "13423/13423 [==============================] - 0s 20us/step - loss: 0.3226 - acc: 0.9638 - val_loss: 0.1087 - val_acc: 0.9745\n",
      "Epoch 158/200\n",
      "13423/13423 [==============================] - 0s 30us/step - loss: 0.3250 - acc: 0.9644 - val_loss: 0.1906 - val_acc: 0.9486\n",
      "Epoch 159/200\n",
      "13423/13423 [==============================] - 0s 25us/step - loss: 0.3242 - acc: 0.9632 - val_loss: 0.1539 - val_acc: 0.9613\n",
      "Epoch 160/200\n",
      "13423/13423 [==============================] - 0s 29us/step - loss: 0.3214 - acc: 0.9616 - val_loss: 0.0914 - val_acc: 0.9779\n",
      "Epoch 161/200\n",
      "13423/13423 [==============================] - 0s 22us/step - loss: 0.3244 - acc: 0.9625 - val_loss: 0.1173 - val_acc: 0.9723\n",
      "Epoch 162/200\n",
      "13423/13423 [==============================] - 0s 21us/step - loss: 0.3236 - acc: 0.9636 - val_loss: 0.1309 - val_acc: 0.9674\n",
      "Epoch 163/200\n",
      "13423/13423 [==============================] - 0s 23us/step - loss: 0.3192 - acc: 0.9637 - val_loss: 0.0897 - val_acc: 0.9779\n",
      "Epoch 164/200\n",
      "13423/13423 [==============================] - 0s 21us/step - loss: 0.3190 - acc: 0.9641 - val_loss: 0.2353 - val_acc: 0.9321\n",
      "Epoch 165/200\n",
      "13423/13423 [==============================] - 0s 20us/step - loss: 0.3243 - acc: 0.9614 - val_loss: 0.1204 - val_acc: 0.9714\n",
      "Epoch 166/200\n",
      "13423/13423 [==============================] - 0s 30us/step - loss: 0.3218 - acc: 0.9638 - val_loss: 0.0994 - val_acc: 0.9765\n",
      "Epoch 167/200\n",
      "13423/13423 [==============================] - 0s 36us/step - loss: 0.3233 - acc: 0.9648 - val_loss: 0.1471 - val_acc: 0.9636\n",
      "Epoch 168/200\n",
      "13423/13423 [==============================] - 0s 25us/step - loss: 0.3248 - acc: 0.9629 - val_loss: 0.0955 - val_acc: 0.9774\n",
      "Epoch 169/200\n",
      "13423/13423 [==============================] - 0s 23us/step - loss: 0.3206 - acc: 0.9634 - val_loss: 0.0964 - val_acc: 0.9768\n",
      "Epoch 170/200\n",
      "13423/13423 [==============================] - 0s 28us/step - loss: 0.3228 - acc: 0.9646 - val_loss: 0.1181 - val_acc: 0.9721\n",
      "Epoch 171/200\n",
      "13423/13423 [==============================] - 0s 22us/step - loss: 0.3236 - acc: 0.9617 - val_loss: 0.0999 - val_acc: 0.9770\n",
      "Epoch 172/200\n",
      "13423/13423 [==============================] - 0s 16us/step - loss: 0.3230 - acc: 0.9649 - val_loss: 0.2352 - val_acc: 0.9334\n",
      "Epoch 173/200\n",
      "13423/13423 [==============================] - 0s 25us/step - loss: 0.3201 - acc: 0.9624 - val_loss: 0.1187 - val_acc: 0.9723\n",
      "Epoch 174/200\n",
      "13423/13423 [==============================] - 0s 17us/step - loss: 0.3218 - acc: 0.9637 - val_loss: 0.1388 - val_acc: 0.9656\n",
      "Epoch 175/200\n",
      "13423/13423 [==============================] - 0s 17us/step - loss: 0.3229 - acc: 0.9633 - val_loss: 0.1228 - val_acc: 0.9705\n",
      "Epoch 176/200\n"
     ]
    },
    {
     "name": "stdout",
     "output_type": "stream",
     "text": [
      "13423/13423 [==============================] - 0s 16us/step - loss: 0.3250 - acc: 0.9644 - val_loss: 0.1842 - val_acc: 0.9508\n",
      "Epoch 177/200\n",
      "13423/13423 [==============================] - 0s 19us/step - loss: 0.3201 - acc: 0.9633 - val_loss: 0.1369 - val_acc: 0.9663\n",
      "Epoch 178/200\n",
      "13423/13423 [==============================] - 0s 20us/step - loss: 0.3231 - acc: 0.9622 - val_loss: 0.1136 - val_acc: 0.9734\n",
      "Epoch 179/200\n",
      "13423/13423 [==============================] - 0s 16us/step - loss: 0.3203 - acc: 0.9642 - val_loss: 0.1375 - val_acc: 0.9669\n",
      "Epoch 180/200\n",
      "13423/13423 [==============================] - 0s 21us/step - loss: 0.3237 - acc: 0.9626 - val_loss: 0.1301 - val_acc: 0.9689\n",
      "Epoch 181/200\n",
      "13423/13423 [==============================] - 0s 22us/step - loss: 0.3218 - acc: 0.9641 - val_loss: 0.1226 - val_acc: 0.9712\n",
      "Epoch 182/200\n",
      "13423/13423 [==============================] - 0s 24us/step - loss: 0.3210 - acc: 0.9642 - val_loss: 0.1205 - val_acc: 0.9712\n",
      "Epoch 183/200\n",
      "13423/13423 [==============================] - 0s 19us/step - loss: 0.3213 - acc: 0.9642 - val_loss: 0.1880 - val_acc: 0.9493\n",
      "Epoch 184/200\n",
      "13423/13423 [==============================] - 0s 28us/step - loss: 0.3245 - acc: 0.9628 - val_loss: 0.0970 - val_acc: 0.9768\n",
      "Epoch 185/200\n",
      "13423/13423 [==============================] - 0s 17us/step - loss: 0.3205 - acc: 0.9657 - val_loss: 0.1955 - val_acc: 0.9466\n",
      "Epoch 186/200\n",
      "13423/13423 [==============================] - 0s 27us/step - loss: 0.3240 - acc: 0.9637 - val_loss: 0.1411 - val_acc: 0.9654\n",
      "Epoch 187/200\n",
      "13423/13423 [==============================] - 0s 36us/step - loss: 0.3235 - acc: 0.9639 - val_loss: 0.1710 - val_acc: 0.9571\n",
      "Epoch 188/200\n",
      "13423/13423 [==============================] - 0s 28us/step - loss: 0.3203 - acc: 0.9643 - val_loss: 0.1282 - val_acc: 0.9698\n",
      "Epoch 189/200\n",
      "13423/13423 [==============================] - 0s 30us/step - loss: 0.3201 - acc: 0.9636 - val_loss: 0.1840 - val_acc: 0.9513\n",
      "Epoch 190/200\n",
      "13423/13423 [==============================] - 0s 26us/step - loss: 0.3198 - acc: 0.9638 - val_loss: 0.1532 - val_acc: 0.9618\n",
      "Epoch 191/200\n",
      "13423/13423 [==============================] - 0s 26us/step - loss: 0.3237 - acc: 0.9643 - val_loss: 0.1763 - val_acc: 0.9544\n",
      "Epoch 192/200\n",
      "13423/13423 [==============================] - 0s 31us/step - loss: 0.3233 - acc: 0.9640 - val_loss: 0.1252 - val_acc: 0.9707\n",
      "Epoch 193/200\n",
      "13423/13423 [==============================] - 0s 22us/step - loss: 0.3194 - acc: 0.9646 - val_loss: 0.1185 - val_acc: 0.9718\n",
      "Epoch 194/200\n",
      "13423/13423 [==============================] - 0s 26us/step - loss: 0.3234 - acc: 0.9635 - val_loss: 0.1464 - val_acc: 0.9640\n",
      "Epoch 195/200\n",
      "13423/13423 [==============================] - 0s 30us/step - loss: 0.3199 - acc: 0.9645 - val_loss: 0.1410 - val_acc: 0.9658\n",
      "Epoch 196/200\n",
      "13423/13423 [==============================] - 0s 21us/step - loss: 0.3197 - acc: 0.9639 - val_loss: 0.1214 - val_acc: 0.9707\n",
      "Epoch 197/200\n",
      "13423/13423 [==============================] - 0s 18us/step - loss: 0.3187 - acc: 0.9652 - val_loss: 0.1598 - val_acc: 0.9602\n",
      "Epoch 198/200\n",
      "13423/13423 [==============================] - 0s 27us/step - loss: 0.3179 - acc: 0.9628 - val_loss: 0.1214 - val_acc: 0.9712\n",
      "Epoch 199/200\n",
      "13423/13423 [==============================] - 0s 22us/step - loss: 0.3166 - acc: 0.9651 - val_loss: 0.1123 - val_acc: 0.9734\n",
      "Epoch 200/200\n",
      "13423/13423 [==============================] - 0s 25us/step - loss: 0.3216 - acc: 0.9651 - val_loss: 0.1100 - val_acc: 0.9741\n"
     ]
    }
   ],
   "source": [
    "# Stochastic Gradient descent optimizer with learning rate = 0.1\n",
    "sgd = SGD(0.14)\n",
    "\n",
    "model.compile(loss='binary_crossentropy', optimizer=sgd,\n",
    "    metrics=[\"accuracy\"])\n",
    "\n",
    "class_weight = { 0 : 1., 1 : 10.}\n",
    "\n",
    "H = model.fit(trainX, trainY, validation_data=(testX, testY), \n",
    "              batch_size=128, epochs=200, class_weight=class_weight)"
   ]
  },
  {
   "cell_type": "markdown",
   "metadata": {},
   "source": [
    "At this point we are ready to analyze the results from our neural network. Calling the .predict method on our model will give us the predictions from our testing set. In addition, as the output from our network is given by the sigmoid activation function, the outputs values are real number in the range [0,1], so, we need to apply a step function to threshold the outputs to binary class labels. Lastly, we print a report showing us the performance of the model."
   ]
  },
  {
   "cell_type": "code",
   "execution_count": 299,
   "metadata": {
    "_uuid": "1de109def43c2d85aa686fe759a1980957cd6988"
   },
   "outputs": [
    {
     "name": "stdout",
     "output_type": "stream",
     "text": [
      "                 precision    recall  f1-score   support\n",
      "\n",
      "Non-pulsar Star       0.99      0.98      0.99      4087\n",
      "    Pulsar Star       0.81      0.91      0.86       388\n",
      "\n",
      "      micro avg       0.97      0.97      0.97      4475\n",
      "      macro avg       0.90      0.94      0.92      4475\n",
      "   weighted avg       0.98      0.97      0.97      4475\n",
      "\n"
     ]
    }
   ],
   "source": [
    "predictions = model.predict(testX, batch_size=128)\n",
    "\n",
    "# apply a step function to threshold the outputs to binary\n",
    "# class labels\n",
    "predictions[predictions < 0.5] = 0\n",
    "predictions[predictions >= 0.5] = 1\n",
    "\n",
    "print(classification_report(testY, predictions,\n",
    "    target_names=['Non-pulsar Star', 'Pulsar Star']))"
   ]
  },
  {
   "cell_type": "markdown",
   "metadata": {},
   "source": [
    "Look at the above situation, we can see that there way more instances of non-pulsar stars than pulsar stars in our test set, this is called class imbalance. This implies that we can not probe the performance of our model only by taking into account the precision values. In fact, we have 17898 total examples and among those we have 1639 positive and 16259 negative examples."
   ]
  },
  {
   "cell_type": "markdown",
   "metadata": {},
   "source": [
    "It is also important to visualize the confusion matrix of our predictions, this can lead us to a more precise visualization and comprehension about where the numbers in our report came from."
   ]
  },
  {
   "cell_type": "code",
   "execution_count": 300,
   "metadata": {},
   "outputs": [
    {
     "name": "stdout",
     "output_type": "stream",
     "text": [
      "[[4007   80]\n",
      " [  36  352]]\n"
     ]
    }
   ],
   "source": [
    "# Confusion matrix\n",
    "print(confusion_matrix(testY, predictions))"
   ]
  },
  {
   "cell_type": "code",
   "execution_count": 301,
   "metadata": {
    "_uuid": "d1611f860f5b1b2c370da63371a3ff2896ae8626"
   },
   "outputs": [
    {
     "data": {
      "image/png": "[encoded data removed]",
      "text/plain": [
       "<Figure size 432x288 with 1 Axes>"
      ]
     },
     "metadata": {},
     "output_type": "display_data"
    }
   ],
   "source": [
    "# Plotting the curve Epoch vs. Loss/Accuracy\n",
    "plt.style.use(\"ggplot\")\n",
    "plt.figure()\n",
    "plt.plot(np.arange(0, 200), H.history[\"loss\"], label=\"train_loss\")\n",
    "plt.plot(np.arange(0, 200), H.history[\"val_loss\"], label=\"val_loss\")\n",
    "plt.plot(np.arange(0, 200), H.history[\"acc\"], label=\"train_acc\")\n",
    "plt.plot(np.arange(0, 200), H.history[\"val_acc\"], label=\"val_acc\")\n",
    "plt.title(\"Training Loss and Accuracy\")\n",
    "plt.xlabel(\"Epoch #\")\n",
    "plt.ylabel(\"Loss/Accuracy\")\n",
    "plt.legend()\n",
    "plt.savefig('plot_complex.png')"
   ]
  },
  {
   "cell_type": "code",
   "execution_count": null,
   "metadata": {},
   "outputs": [],
   "source": []
  }
 ],
 "metadata": {
  "kernelspec": {
   "display_name": "Python 3",
   "language": "python",
   "name": "python3"
  },
  "language_info": {
   "codemirror_mode": {
    "name": "ipython",
    "version": 3
   },
   "file_extension": ".py",
   "mimetype": "text/x-python",
   "name": "python",
   "nbconvert_exporter": "python",
   "pygments_lexer": "ipython3",
   "version": "3.6.6"
  }
 },
 "nbformat": 4,
 "nbformat_minor": 1
}
