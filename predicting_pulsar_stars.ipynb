{
 "cells": [
  {
   "cell_type": "code",
   "execution_count": 310,
   "metadata": {},
   "outputs": [],
   "source": [
    "# import the necessary packages\n",
    "from sklearn.preprocessing import LabelBinarizer\n",
    "from sklearn.model_selection import train_test_split\n",
    "from sklearn.metrics import classification_report, confusion_matrix\n",
    "\n",
    "from keras.models import Sequential\n",
    "from keras.layers.core import Dense, Dropout\n",
    "from keras.optimizers import SGD\n",
    "from keras import regularizers\n",
    "\n",
    "import seaborn as sns\n",
    "import matplotlib.pyplot as plt\n",
    "import numpy as np\n",
    "import pandas as pd"
   ]
  },
  {
   "cell_type": "code",
   "execution_count": 311,
   "metadata": {},
   "outputs": [],
   "source": [
    "# Loading the dataset\n",
    "dataset = pd.read_csv('pulsar_stars.csv')"
   ]
  },
  {
   "cell_type": "markdown",
   "metadata": {},
   "source": [
    "1. Once the dataset is loaded, let's see some relevant information about the dataset such as column's titles and types, number of records and shape."
   ]
  },
  {
   "cell_type": "code",
   "execution_count": 312,
   "metadata": {},
   "outputs": [
    {
     "name": "stdout",
     "output_type": "stream",
     "text": [
      "<class 'pandas.core.frame.DataFrame'>\n",
      "RangeIndex: 17898 entries, 0 to 17897\n",
      "Data columns (total 9 columns):\n",
      " Mean of the integrated profile                  17898 non-null float64\n",
      " Standard deviation of the integrated profile    17898 non-null float64\n",
      " Excess kurtosis of the integrated profile       17898 non-null float64\n",
      " Skewness of the integrated profile              17898 non-null float64\n",
      " Mean of the DM-SNR curve                        17898 non-null float64\n",
      " Standard deviation of the DM-SNR curve          17898 non-null float64\n",
      " Excess kurtosis of the DM-SNR curve             17898 non-null float64\n",
      " Skewness of the DM-SNR curve                    17898 non-null float64\n",
      "target_class                                     17898 non-null int64\n",
      "dtypes: float64(8), int64(1)\n",
      "memory usage: 1.2 MB\n",
      "None\n"
     ]
    }
   ],
   "source": [
    "# EDA\n",
    "print(dataset.info())"
   ]
  },
  {
   "cell_type": "code",
   "execution_count": 313,
   "metadata": {},
   "outputs": [
    {
     "name": "stdout",
     "output_type": "stream",
     "text": [
      " Mean of the integrated profile                  0\n",
      " Standard deviation of the integrated profile    0\n",
      " Excess kurtosis of the integrated profile       0\n",
      " Skewness of the integrated profile              0\n",
      " Mean of the DM-SNR curve                        0\n",
      " Standard deviation of the DM-SNR curve          0\n",
      " Excess kurtosis of the DM-SNR curve             0\n",
      " Skewness of the DM-SNR curve                    0\n",
      "target_class                                     0\n",
      "dtype: int64\n"
     ]
    }
   ],
   "source": [
    "# Missing values\n",
    "print (dataset.isnull().sum())"
   ]
  },
  {
   "cell_type": "code",
   "execution_count": 314,
   "metadata": {},
   "outputs": [],
   "source": [
    "# Plotting the correlation between variables\n",
    "#correlation = dataset.corr()\n",
    "\n",
    "#plt.figure(figsize=(10,8))\n",
    "\n",
    "#sns.heatmap(correlation,annot=True,\n",
    "            #cmap=sns.color_palette(\"magma\"),\n",
    "            #linewidth=2,edgecolor=\"k\")\n",
    "\n",
    "#plt.title(\"CORRELATION BETWEEN VARIABLES\")\n",
    "#plt.savefig('correlation_between_variabels.png', bbox_inches='tight')"
   ]
  },
  {
   "cell_type": "markdown",
   "metadata": {},
   "source": [
    "Now, Pay close attention to this plot. Note that the proportion between classes in the dataset is very imbalanced, this is a common problem encountered among many datasets in the real-world. This leads to the accuracy paradox, which implies that we'll need to use more than the usual approach to achieve a reasonable performance while training the neural network."
   ]
  },
  {
   "cell_type": "code",
   "execution_count": 315,
   "metadata": {
    "scrolled": true
   },
   "outputs": [],
   "source": [
    "#plt.figure(figsize=(12,6))\n",
    "#plt.subplot(121)\n",
    "#ax = sns.countplot(y = dataset[\"target_class\"],\n",
    "                   #palette=[\"g\",\"b\"],\n",
    "                   #linewidth=1,\n",
    "                   #edgecolor=\"k\"*2)\n",
    "#for i,j in enumerate(dataset[\"target_class\"].value_counts().values):\n",
    "    #ax.text(.7,i,j,weight = \"bold\",fontsize = 27)\n",
    "#plt.title(\"Count for target variable in datset\")\n",
    "\n",
    "\n",
    "#plt.subplot(122)\n",
    "#plt.pie(dataset[\"target_class\"].value_counts().values,\n",
    "        #labels=[\"not pulsar stars\",\"pulsar stars\"],\n",
    "        #autopct=\"%1.0f%%\",wedgeprops={\"linewidth\":2,\"edgecolor\":\"white\"})\n",
    "#my_circ = plt.Circle((0,0),.7,color = \"white\")\n",
    "#plt.gca().add_artist(my_circ)\n",
    "#plt.subplots_adjust(wspace = .2)\n",
    "#plt.title(\"Proportion of target variable in dataset\")\n",
    "#plt.savefig('proportion_between_classes.jpg')"
   ]
  },
  {
   "cell_type": "markdown",
   "metadata": {},
   "source": [
    "2. Now, let's divide our dataset into two subsets: data and target."
   ]
  },
  {
   "cell_type": "code",
   "execution_count": 316,
   "metadata": {},
   "outputs": [],
   "source": [
    "# Droping the target column\n",
    "data = dataset.drop(['target_class'], axis=1)\n",
    "\n",
    "# Normalizing the data for all data points to fit in the range [0,1]\n",
    "data = data / np.max(data)\n",
    "\n",
    "target = dataset[['target_class']]"
   ]
  },
  {
   "cell_type": "code",
   "execution_count": 317,
   "metadata": {},
   "outputs": [],
   "source": [
    "# UNDERSAMPLING Saved for later improvement\n",
    "#from imblearn.under_sampling import RandomUnderSampler\n",
    "\n",
    "#rus = RandomUnderSampler(ratio = {0 : 8000, 1 : 1639}, return_indices=True)\n",
    "#X_rus, y_rus, id_rus = rus.fit_sample(data, target)"
   ]
  },
  {
   "cell_type": "code",
   "execution_count": 318,
   "metadata": {},
   "outputs": [],
   "source": [
    "# Construct the training and testing splits \n",
    "trainX, testX, trainY, testY = train_test_split(data, target, test_size=0.25)"
   ]
  },
  {
   "cell_type": "markdown",
   "metadata": {},
   "source": [
    "Machine Learning algorithms works better when integer labels are transformed into vector labels. In order to accomplish this transformation I will instantiate a LabelBinarizer object and apply the transformation methods into our trainY and testY sets."
   ]
  },
  {
   "cell_type": "code",
   "execution_count": 319,
   "metadata": {},
   "outputs": [],
   "source": [
    "lb = LabelBinarizer()\n",
    "trainY = lb.fit_transform(trainY)\n",
    "testY = lb.transform(testY)"
   ]
  },
  {
   "cell_type": "markdown",
   "metadata": {},
   "source": [
    "With keras, it is possible to define models to our neural network (nn). In this case, we are going to work with a Sequential nn, which is just the nn as we already know, i.e., each layer has as its input the output of the former layer. It is worth mention that our neural network is 8-4-2-1."
   ]
  },
  {
   "cell_type": "code",
   "execution_count": 320,
   "metadata": {},
   "outputs": [],
   "source": [
    "# Defining the model\n",
    "model = Sequential()\n",
    "model.add(Dense(4, input_shape=(8,), activation='sigmoid'))\n",
    "model.add(Dense(2, activation='sigmoid'))\n",
    "model.add(Dense(1, activation='sigmoid'))"
   ]
  },
  {
   "cell_type": "markdown",
   "metadata": {},
   "source": [
    "We are going to use the Stochastic Gradient Descent technique as an optimizer, initially with a learning rate = 0.15 and a momentum = 0.9. Furthermore, as this is a binary classification problem, in this case a common loss function to use is the binary cross-entropy. However, as we have imbalanced classes, we need to tell the network that during the training, the positive class is more important than the negative. This has been done through the class weight dictionary, in this case, I am telling the network that during the training data positive points are 7 times more important than the negative ones."
   ]
  },
  {
   "cell_type": "code",
   "execution_count": 321,
   "metadata": {},
   "outputs": [
    {
     "name": "stdout",
     "output_type": "stream",
     "text": [
      "Train on 13423 samples, validate on 4475 samples\n",
      "Epoch 1/150\n",
      " - 4s - loss: 1.0479 - acc: 0.8330 - val_loss: 0.5561 - val_acc: 0.9050\n",
      "Epoch 2/150\n",
      " - 0s - loss: 1.0389 - acc: 0.9096 - val_loss: 0.5691 - val_acc: 0.9050\n",
      "Epoch 3/150\n",
      " - 0s - loss: 1.0322 - acc: 0.9096 - val_loss: 0.5835 - val_acc: 0.9050\n",
      "Epoch 4/150\n",
      " - 0s - loss: 1.0214 - acc: 0.9096 - val_loss: 0.5605 - val_acc: 0.9050\n",
      "Epoch 5/150\n",
      " - 0s - loss: 1.0005 - acc: 0.9096 - val_loss: 0.5042 - val_acc: 0.9050\n",
      "Epoch 6/150\n",
      " - 0s - loss: 0.9558 - acc: 0.9161 - val_loss: 0.5102 - val_acc: 0.9341\n",
      "Epoch 7/150\n",
      " - 0s - loss: 0.8595 - acc: 0.9533 - val_loss: 0.4037 - val_acc: 0.9553\n",
      "Epoch 8/150\n",
      " - 0s - loss: 0.7025 - acc: 0.9559 - val_loss: 0.3287 - val_acc: 0.9520\n",
      "Epoch 9/150\n",
      " - 0s - loss: 0.5522 - acc: 0.9491 - val_loss: 0.2591 - val_acc: 0.9455\n",
      "Epoch 10/150\n",
      " - 0s - loss: 0.4592 - acc: 0.9484 - val_loss: 0.2172 - val_acc: 0.9470\n",
      "Epoch 11/150\n",
      " - 0s - loss: 0.4077 - acc: 0.9495 - val_loss: 0.1881 - val_acc: 0.9520\n",
      "Epoch 12/150\n",
      " - 0s - loss: 0.3761 - acc: 0.9531 - val_loss: 0.2120 - val_acc: 0.9421\n",
      "Epoch 13/150\n",
      " - 0s - loss: 0.3549 - acc: 0.9549 - val_loss: 0.1749 - val_acc: 0.9546\n",
      "Epoch 14/150\n",
      " - 0s - loss: 0.3379 - acc: 0.9578 - val_loss: 0.1544 - val_acc: 0.9625\n",
      "Epoch 15/150\n",
      " - 0s - loss: 0.3262 - acc: 0.9611 - val_loss: 0.1622 - val_acc: 0.9598\n",
      "Epoch 16/150\n",
      " - 0s - loss: 0.3155 - acc: 0.9633 - val_loss: 0.1417 - val_acc: 0.9656\n",
      "Epoch 17/150\n",
      " - 0s - loss: 0.3088 - acc: 0.9643 - val_loss: 0.1465 - val_acc: 0.9647\n",
      "Epoch 18/150\n",
      " - 0s - loss: 0.3034 - acc: 0.9651 - val_loss: 0.1559 - val_acc: 0.9618\n",
      "Epoch 19/150\n",
      " - 0s - loss: 0.2985 - acc: 0.9660 - val_loss: 0.1524 - val_acc: 0.9622\n",
      "Epoch 20/150\n",
      " - 0s - loss: 0.2955 - acc: 0.9645 - val_loss: 0.1308 - val_acc: 0.9674\n",
      "Epoch 21/150\n",
      " - 0s - loss: 0.2926 - acc: 0.9647 - val_loss: 0.1484 - val_acc: 0.9620\n",
      "Epoch 22/150\n",
      " - 0s - loss: 0.2902 - acc: 0.9652 - val_loss: 0.1586 - val_acc: 0.9593\n",
      "Epoch 23/150\n",
      " - 0s - loss: 0.2894 - acc: 0.9648 - val_loss: 0.1722 - val_acc: 0.9540\n",
      "Epoch 24/150\n",
      " - 0s - loss: 0.2883 - acc: 0.9647 - val_loss: 0.1525 - val_acc: 0.9600\n",
      "Epoch 25/150\n",
      " - 0s - loss: 0.2867 - acc: 0.9652 - val_loss: 0.1575 - val_acc: 0.9582\n",
      "Epoch 26/150\n",
      " - 0s - loss: 0.2847 - acc: 0.9646 - val_loss: 0.1472 - val_acc: 0.9609\n",
      "Epoch 27/150\n",
      " - 0s - loss: 0.2839 - acc: 0.9656 - val_loss: 0.1674 - val_acc: 0.9542\n",
      "Epoch 28/150\n",
      " - 0s - loss: 0.2831 - acc: 0.9644 - val_loss: 0.1405 - val_acc: 0.9625\n",
      "Epoch 29/150\n",
      " - 0s - loss: 0.2830 - acc: 0.9648 - val_loss: 0.1441 - val_acc: 0.9613\n",
      "Epoch 30/150\n",
      " - 0s - loss: 0.2831 - acc: 0.9632 - val_loss: 0.1263 - val_acc: 0.9665\n",
      "Epoch 31/150\n",
      " - 0s - loss: 0.2817 - acc: 0.9651 - val_loss: 0.1289 - val_acc: 0.9658\n",
      "Epoch 32/150\n",
      " - 0s - loss: 0.2810 - acc: 0.9649 - val_loss: 0.1321 - val_acc: 0.9645\n",
      "Epoch 33/150\n",
      " - 0s - loss: 0.2790 - acc: 0.9648 - val_loss: 0.1515 - val_acc: 0.9589\n",
      "Epoch 34/150\n",
      " - 0s - loss: 0.2800 - acc: 0.9633 - val_loss: 0.1456 - val_acc: 0.9611\n",
      "Epoch 35/150\n",
      " - 0s - loss: 0.2789 - acc: 0.9639 - val_loss: 0.1220 - val_acc: 0.9683\n",
      "Epoch 36/150\n",
      " - 0s - loss: 0.2787 - acc: 0.9647 - val_loss: 0.1515 - val_acc: 0.9584\n",
      "Epoch 37/150\n",
      " - 0s - loss: 0.2771 - acc: 0.9642 - val_loss: 0.1237 - val_acc: 0.9683\n",
      "Epoch 38/150\n",
      " - 0s - loss: 0.2779 - acc: 0.9655 - val_loss: 0.1501 - val_acc: 0.9589\n",
      "Epoch 39/150\n",
      " - 0s - loss: 0.2780 - acc: 0.9642 - val_loss: 0.1202 - val_acc: 0.9689\n",
      "Epoch 40/150\n",
      " - 0s - loss: 0.2775 - acc: 0.9648 - val_loss: 0.1319 - val_acc: 0.9647\n",
      "Epoch 41/150\n",
      " - 0s - loss: 0.2755 - acc: 0.9654 - val_loss: 0.1276 - val_acc: 0.9669\n",
      "Epoch 42/150\n",
      " - 0s - loss: 0.2755 - acc: 0.9651 - val_loss: 0.1128 - val_acc: 0.9705\n",
      "Epoch 43/150\n",
      " - 0s - loss: 0.2749 - acc: 0.9671 - val_loss: 0.1978 - val_acc: 0.9394\n",
      "Epoch 44/150\n",
      " - 0s - loss: 0.2750 - acc: 0.9649 - val_loss: 0.1497 - val_acc: 0.9600\n",
      "Epoch 45/150\n",
      " - 0s - loss: 0.2741 - acc: 0.9648 - val_loss: 0.1893 - val_acc: 0.9423\n",
      "Epoch 46/150\n",
      " - 0s - loss: 0.2741 - acc: 0.9659 - val_loss: 0.1510 - val_acc: 0.9598\n",
      "Epoch 47/150\n",
      " - 0s - loss: 0.2737 - acc: 0.9661 - val_loss: 0.1398 - val_acc: 0.9627\n",
      "Epoch 48/150\n",
      " - 0s - loss: 0.2728 - acc: 0.9663 - val_loss: 0.1397 - val_acc: 0.9631\n",
      "Epoch 49/150\n",
      " - 0s - loss: 0.2727 - acc: 0.9656 - val_loss: 0.1471 - val_acc: 0.9613\n",
      "Epoch 50/150\n",
      " - 0s - loss: 0.2721 - acc: 0.9665 - val_loss: 0.1373 - val_acc: 0.9640\n",
      "Epoch 51/150\n",
      " - 0s - loss: 0.2716 - acc: 0.9650 - val_loss: 0.1245 - val_acc: 0.9678\n",
      "Epoch 52/150\n",
      " - 0s - loss: 0.2721 - acc: 0.9658 - val_loss: 0.1310 - val_acc: 0.9656\n",
      "Epoch 53/150\n",
      " - 0s - loss: 0.2702 - acc: 0.9659 - val_loss: 0.1505 - val_acc: 0.9600\n",
      "Epoch 54/150\n",
      " - 0s - loss: 0.2694 - acc: 0.9656 - val_loss: 0.1269 - val_acc: 0.9672\n",
      "Epoch 55/150\n",
      " - 0s - loss: 0.2702 - acc: 0.9672 - val_loss: 0.1325 - val_acc: 0.9656\n",
      "Epoch 56/150\n",
      " - 0s - loss: 0.2707 - acc: 0.9674 - val_loss: 0.1562 - val_acc: 0.9578\n",
      "Epoch 57/150\n",
      " - 0s - loss: 0.2694 - acc: 0.9665 - val_loss: 0.1351 - val_acc: 0.9658\n",
      "Epoch 58/150\n",
      " - 0s - loss: 0.2703 - acc: 0.9669 - val_loss: 0.1231 - val_acc: 0.9685\n",
      "Epoch 59/150\n",
      " - 0s - loss: 0.2706 - acc: 0.9679 - val_loss: 0.1271 - val_acc: 0.9672\n",
      "Epoch 60/150\n",
      " - 0s - loss: 0.2683 - acc: 0.9686 - val_loss: 0.1252 - val_acc: 0.9674\n",
      "Epoch 61/150\n",
      " - 0s - loss: 0.2675 - acc: 0.9674 - val_loss: 0.1083 - val_acc: 0.9723\n",
      "Epoch 62/150\n",
      " - 0s - loss: 0.2684 - acc: 0.9668 - val_loss: 0.1194 - val_acc: 0.9696\n",
      "Epoch 63/150\n",
      " - 0s - loss: 0.2685 - acc: 0.9674 - val_loss: 0.1267 - val_acc: 0.9676\n",
      "Epoch 64/150\n",
      " - 0s - loss: 0.2687 - acc: 0.9674 - val_loss: 0.1543 - val_acc: 0.9593\n",
      "Epoch 65/150\n",
      " - 0s - loss: 0.2685 - acc: 0.9674 - val_loss: 0.1435 - val_acc: 0.9631\n",
      "Epoch 66/150\n",
      " - 0s - loss: 0.2680 - acc: 0.9671 - val_loss: 0.1398 - val_acc: 0.9642\n",
      "Epoch 67/150\n",
      " - 0s - loss: 0.2665 - acc: 0.9663 - val_loss: 0.1418 - val_acc: 0.9638\n",
      "Epoch 68/150\n",
      " - 0s - loss: 0.2667 - acc: 0.9686 - val_loss: 0.1628 - val_acc: 0.9558\n",
      "Epoch 69/150\n",
      " - 0s - loss: 0.2677 - acc: 0.9680 - val_loss: 0.1239 - val_acc: 0.9685\n",
      "Epoch 70/150\n",
      " - 0s - loss: 0.2672 - acc: 0.9683 - val_loss: 0.1441 - val_acc: 0.9638\n",
      "Epoch 71/150\n",
      " - 0s - loss: 0.2648 - acc: 0.9679 - val_loss: 0.1309 - val_acc: 0.9672\n",
      "Epoch 72/150\n",
      " - 0s - loss: 0.2651 - acc: 0.9683 - val_loss: 0.1183 - val_acc: 0.9714\n",
      "Epoch 73/150\n",
      " - 0s - loss: 0.2653 - acc: 0.9685 - val_loss: 0.1182 - val_acc: 0.9714\n",
      "Epoch 74/150\n",
      " - 0s - loss: 0.2646 - acc: 0.9690 - val_loss: 0.1341 - val_acc: 0.9663\n",
      "Epoch 75/150\n",
      " - 0s - loss: 0.2659 - acc: 0.9692 - val_loss: 0.1755 - val_acc: 0.9535\n",
      "Epoch 76/150\n",
      " - 0s - loss: 0.2649 - acc: 0.9684 - val_loss: 0.1478 - val_acc: 0.9627\n",
      "Epoch 77/150\n",
      " - 0s - loss: 0.2651 - acc: 0.9686 - val_loss: 0.1411 - val_acc: 0.9642\n",
      "Epoch 78/150\n",
      " - 0s - loss: 0.2657 - acc: 0.9684 - val_loss: 0.1465 - val_acc: 0.9627\n",
      "Epoch 79/150\n",
      " - 0s - loss: 0.2646 - acc: 0.9686 - val_loss: 0.1221 - val_acc: 0.9696\n",
      "Epoch 80/150\n",
      " - 0s - loss: 0.2641 - acc: 0.9688 - val_loss: 0.1306 - val_acc: 0.9680\n",
      "Epoch 81/150\n",
      " - 0s - loss: 0.2629 - acc: 0.9689 - val_loss: 0.1246 - val_acc: 0.9692\n",
      "Epoch 82/150\n",
      " - 0s - loss: 0.2624 - acc: 0.9689 - val_loss: 0.1041 - val_acc: 0.9745\n",
      "Epoch 83/150\n",
      " - 0s - loss: 0.2635 - acc: 0.9704 - val_loss: 0.1288 - val_acc: 0.9680\n",
      "Epoch 84/150\n",
      " - 0s - loss: 0.2624 - acc: 0.9698 - val_loss: 0.1216 - val_acc: 0.9707\n",
      "Epoch 85/150\n",
      " - 0s - loss: 0.2612 - acc: 0.9689 - val_loss: 0.1203 - val_acc: 0.9712\n",
      "Epoch 86/150\n",
      " - 0s - loss: 0.2641 - acc: 0.9692 - val_loss: 0.1491 - val_acc: 0.9616\n",
      "Epoch 87/150\n",
      " - 0s - loss: 0.2631 - acc: 0.9686 - val_loss: 0.1255 - val_acc: 0.9694\n",
      "Epoch 88/150\n",
      " - 0s - loss: 0.2633 - acc: 0.9697 - val_loss: 0.1367 - val_acc: 0.9658\n",
      "Epoch 89/150\n",
      " - 0s - loss: 0.2627 - acc: 0.9693 - val_loss: 0.1228 - val_acc: 0.9703\n",
      "Epoch 90/150\n",
      " - 0s - loss: 0.2618 - acc: 0.9700 - val_loss: 0.1115 - val_acc: 0.9725\n",
      "Epoch 91/150\n",
      " - 0s - loss: 0.2604 - acc: 0.9701 - val_loss: 0.1485 - val_acc: 0.9611\n",
      "Epoch 92/150\n",
      " - 0s - loss: 0.2619 - acc: 0.9698 - val_loss: 0.1100 - val_acc: 0.9730\n",
      "Epoch 93/150\n",
      " - 0s - loss: 0.2620 - acc: 0.9705 - val_loss: 0.1240 - val_acc: 0.9701\n",
      "Epoch 94/150\n",
      " - 0s - loss: 0.2605 - acc: 0.9706 - val_loss: 0.1156 - val_acc: 0.9716\n",
      "Epoch 95/150\n",
      " - 0s - loss: 0.2606 - acc: 0.9693 - val_loss: 0.1225 - val_acc: 0.9707\n",
      "Epoch 96/150\n",
      " - 0s - loss: 0.2614 - acc: 0.9702 - val_loss: 0.1215 - val_acc: 0.9714\n"
     ]
    },
    {
     "name": "stdout",
     "output_type": "stream",
     "text": [
      "Epoch 97/150\n",
      " - 0s - loss: 0.2610 - acc: 0.9703 - val_loss: 0.1208 - val_acc: 0.9721\n",
      "Epoch 98/150\n",
      " - 0s - loss: 0.2610 - acc: 0.9708 - val_loss: 0.1270 - val_acc: 0.9696\n",
      "Epoch 99/150\n",
      " - 0s - loss: 0.2598 - acc: 0.9703 - val_loss: 0.1519 - val_acc: 0.9604\n",
      "Epoch 100/150\n",
      " - 0s - loss: 0.2595 - acc: 0.9692 - val_loss: 0.1668 - val_acc: 0.9564\n",
      "Epoch 101/150\n",
      " - 0s - loss: 0.2605 - acc: 0.9704 - val_loss: 0.1190 - val_acc: 0.9721\n",
      "Epoch 102/150\n",
      " - 0s - loss: 0.2603 - acc: 0.9706 - val_loss: 0.1319 - val_acc: 0.9683\n",
      "Epoch 103/150\n",
      " - 0s - loss: 0.2593 - acc: 0.9708 - val_loss: 0.1225 - val_acc: 0.9712\n",
      "Epoch 104/150\n",
      " - 0s - loss: 0.2577 - acc: 0.9706 - val_loss: 0.1292 - val_acc: 0.9689\n",
      "Epoch 105/150\n",
      " - 0s - loss: 0.2593 - acc: 0.9703 - val_loss: 0.1397 - val_acc: 0.9654\n",
      "Epoch 106/150\n",
      " - 0s - loss: 0.2586 - acc: 0.9706 - val_loss: 0.1120 - val_acc: 0.9730\n",
      "Epoch 107/150\n",
      " - 0s - loss: 0.2580 - acc: 0.9708 - val_loss: 0.1204 - val_acc: 0.9718\n",
      "Epoch 108/150\n",
      " - 0s - loss: 0.2590 - acc: 0.9709 - val_loss: 0.1275 - val_acc: 0.9694\n",
      "Epoch 109/150\n",
      " - 0s - loss: 0.2588 - acc: 0.9703 - val_loss: 0.1661 - val_acc: 0.9564\n",
      "Epoch 110/150\n",
      " - 0s - loss: 0.2572 - acc: 0.9703 - val_loss: 0.1331 - val_acc: 0.9680\n",
      "Epoch 111/150\n",
      " - 0s - loss: 0.2586 - acc: 0.9703 - val_loss: 0.1825 - val_acc: 0.9520\n",
      "Epoch 112/150\n",
      " - 0s - loss: 0.2585 - acc: 0.9707 - val_loss: 0.1302 - val_acc: 0.9689\n",
      "Epoch 113/150\n",
      " - 0s - loss: 0.2583 - acc: 0.9706 - val_loss: 0.1238 - val_acc: 0.9703\n",
      "Epoch 114/150\n",
      " - 0s - loss: 0.2594 - acc: 0.9709 - val_loss: 0.1439 - val_acc: 0.9631\n",
      "Epoch 115/150\n",
      " - 0s - loss: 0.2584 - acc: 0.9706 - val_loss: 0.1004 - val_acc: 0.9756\n",
      "Epoch 116/150\n",
      " - 0s - loss: 0.2586 - acc: 0.9705 - val_loss: 0.1160 - val_acc: 0.9732\n",
      "Epoch 117/150\n",
      " - 0s - loss: 0.2570 - acc: 0.9701 - val_loss: 0.1519 - val_acc: 0.9609\n",
      "Epoch 118/150\n",
      " - 0s - loss: 0.2567 - acc: 0.9718 - val_loss: 0.1294 - val_acc: 0.9692\n",
      "Epoch 119/150\n",
      " - 0s - loss: 0.2569 - acc: 0.9712 - val_loss: 0.1022 - val_acc: 0.9752\n",
      "Epoch 120/150\n",
      " - 0s - loss: 0.2560 - acc: 0.9722 - val_loss: 0.1641 - val_acc: 0.9571\n",
      "Epoch 121/150\n",
      " - 0s - loss: 0.2560 - acc: 0.9708 - val_loss: 0.1192 - val_acc: 0.9712\n",
      "Epoch 122/150\n",
      " - 0s - loss: 0.2570 - acc: 0.9705 - val_loss: 0.1048 - val_acc: 0.9747\n",
      "Epoch 123/150\n",
      " - 0s - loss: 0.2576 - acc: 0.9717 - val_loss: 0.1095 - val_acc: 0.9732\n",
      "Epoch 124/150\n",
      " - 0s - loss: 0.2575 - acc: 0.9703 - val_loss: 0.1131 - val_acc: 0.9736\n",
      "Epoch 125/150\n",
      " - 0s - loss: 0.2567 - acc: 0.9707 - val_loss: 0.1168 - val_acc: 0.9727\n",
      "Epoch 126/150\n",
      " - 0s - loss: 0.2565 - acc: 0.9720 - val_loss: 0.1753 - val_acc: 0.9553\n",
      "Epoch 127/150\n",
      " - 0s - loss: 0.2565 - acc: 0.9701 - val_loss: 0.1319 - val_acc: 0.9683\n",
      "Epoch 128/150\n",
      " - 0s - loss: 0.2560 - acc: 0.9712 - val_loss: 0.1112 - val_acc: 0.9736\n",
      "Epoch 129/150\n",
      " - 0s - loss: 0.2575 - acc: 0.9708 - val_loss: 0.1011 - val_acc: 0.9750\n",
      "Epoch 130/150\n",
      " - 0s - loss: 0.2582 - acc: 0.9715 - val_loss: 0.1305 - val_acc: 0.9692\n",
      "Epoch 131/150\n",
      " - 0s - loss: 0.2557 - acc: 0.9718 - val_loss: 0.1208 - val_acc: 0.9709\n",
      "Epoch 132/150\n",
      " - 0s - loss: 0.2570 - acc: 0.9718 - val_loss: 0.1227 - val_acc: 0.9709\n",
      "Epoch 133/150\n",
      " - 0s - loss: 0.2554 - acc: 0.9709 - val_loss: 0.1030 - val_acc: 0.9747\n",
      "Epoch 134/150\n",
      " - 0s - loss: 0.2563 - acc: 0.9714 - val_loss: 0.1035 - val_acc: 0.9747\n",
      "Epoch 135/150\n",
      " - 0s - loss: 0.2571 - acc: 0.9715 - val_loss: 0.1367 - val_acc: 0.9658\n",
      "Epoch 136/150\n",
      " - 0s - loss: 0.2557 - acc: 0.9715 - val_loss: 0.1903 - val_acc: 0.9522\n",
      "Epoch 137/150\n",
      " - 0s - loss: 0.2559 - acc: 0.9723 - val_loss: 0.1087 - val_acc: 0.9743\n",
      "Epoch 138/150\n",
      " - 0s - loss: 0.2548 - acc: 0.9722 - val_loss: 0.1364 - val_acc: 0.9663\n",
      "Epoch 139/150\n",
      " - 0s - loss: 0.2554 - acc: 0.9719 - val_loss: 0.1672 - val_acc: 0.9569\n",
      "Epoch 140/150\n",
      " - 0s - loss: 0.2545 - acc: 0.9721 - val_loss: 0.1513 - val_acc: 0.9609\n",
      "Epoch 141/150\n",
      " - 0s - loss: 0.2559 - acc: 0.9709 - val_loss: 0.1068 - val_acc: 0.9745\n",
      "Epoch 142/150\n",
      " - 0s - loss: 0.2549 - acc: 0.9718 - val_loss: 0.1162 - val_acc: 0.9730\n",
      "Epoch 143/150\n",
      " - 0s - loss: 0.2554 - acc: 0.9704 - val_loss: 0.1249 - val_acc: 0.9701\n",
      "Epoch 144/150\n",
      " - 0s - loss: 0.2540 - acc: 0.9718 - val_loss: 0.2170 - val_acc: 0.9383\n",
      "Epoch 145/150\n",
      " - 0s - loss: 0.2539 - acc: 0.9718 - val_loss: 0.1341 - val_acc: 0.9669\n",
      "Epoch 146/150\n",
      " - 0s - loss: 0.2550 - acc: 0.9716 - val_loss: 0.1580 - val_acc: 0.9591\n",
      "Epoch 147/150\n",
      " - 0s - loss: 0.2545 - acc: 0.9719 - val_loss: 0.1588 - val_acc: 0.9589\n",
      "Epoch 148/150\n",
      " - 0s - loss: 0.2563 - acc: 0.9719 - val_loss: 0.1162 - val_acc: 0.9725\n",
      "Epoch 149/150\n",
      " - 0s - loss: 0.2556 - acc: 0.9717 - val_loss: 0.1025 - val_acc: 0.9750\n",
      "Epoch 150/150\n",
      " - 0s - loss: 0.2567 - acc: 0.9717 - val_loss: 0.1505 - val_acc: 0.9618\n"
     ]
    }
   ],
   "source": [
    "sgd = SGD(0.12, momentum = 0.9)\n",
    "\n",
    "model.compile(loss='binary_crossentropy', optimizer=sgd,\n",
    "    metrics=[\"accuracy\"])\n",
    "\n",
    "class_weight = {0 : 1., 1 : 7.}\n",
    "\n",
    "H = model.fit(trainX, trainY, validation_data=(testX, testY), \n",
    "              batch_size=128, epochs=150, class_weight=class_weight, verbose=2)\n",
    "\n",
    "scores = model.evaluate(testX, testY, verbose = 0)"
   ]
  },
  {
   "cell_type": "markdown",
   "metadata": {},
   "source": [
    "At this point we are ready to analyze the results from our neural network. Calling the .predict method on our model will give us the predictions from our testing set. In addition, as the output from our network is given by the sigmoid activation function, the outputs values are real number in the range [0,1], so, we need to apply a step function to threshold the outputs to binary class labels. Lastly, we print a report showing us the performance of the model."
   ]
  },
  {
   "cell_type": "code",
   "execution_count": 322,
   "metadata": {},
   "outputs": [
    {
     "name": "stdout",
     "output_type": "stream",
     "text": [
      "[0.15047266699581838, 0.9617877096304014]\n",
      "                 precision    recall  f1-score   support\n",
      "\n",
      "Non-pulsar Star       0.99      0.97      0.98      4050\n",
      "    Pulsar Star       0.74      0.92      0.82       425\n",
      "\n",
      "      micro avg       0.96      0.96      0.96      4475\n",
      "      macro avg       0.87      0.94      0.90      4475\n",
      "   weighted avg       0.97      0.96      0.96      4475\n",
      "\n"
     ]
    }
   ],
   "source": [
    "predictions = model.predict(testX, batch_size=128)\n",
    "\n",
    "# apply a step function to threshold the outputs to binary\n",
    "# class labels\n",
    "predictions[predictions < 0.5] = 0\n",
    "predictions[predictions >= 0.5] = 1\n",
    "\n",
    "report = classification_report(testY, predictions, \n",
    "                               target_names=['Non-pulsar Star', 'Pulsar Star'])\n",
    "\n",
    "print(scores)\n",
    "print(report)"
   ]
  },
  {
   "cell_type": "markdown",
   "metadata": {},
   "source": [
    "It is also important to visualize the confusion matrix of our predictions, this can lead us to a more precise visualization and comprehension about where the numbers in our report came from."
   ]
  },
  {
   "cell_type": "code",
   "execution_count": 323,
   "metadata": {},
   "outputs": [
    {
     "data": {
      "text/plain": [
       "[Text(0,0.5,'Non-Pulsar'), Text(0,1.5,'Pulsar')]"
      ]
     },
     "execution_count": 323,
     "metadata": {},
     "output_type": "execute_result"
    },
    {
     "data": {
      "image/png": "[encoded data removed]",
      "text/plain": [
       "<Figure size 720x576 with 2 Axes>"
      ]
     },
     "metadata": {},
     "output_type": "display_data"
    }
   ],
   "source": [
    "conf_matrix = confusion_matrix(testY, predictions)\n",
    "\n",
    "# Plot the confusion matrix\n",
    "import seaborn as sns\n",
    "import matplotlib.pyplot as plt     \n",
    "\n",
    "plt.figure(figsize=(10,8))\n",
    "ax = plt.subplot()\n",
    "sns.heatmap(conf_matrix, annot=True, ax = ax, fmt='d') #annot=True to annotate cells\n",
    "\n",
    "# labels, title and ticks\n",
    "ax.set_xlabel('Predicted labels')\n",
    "ax.set_ylabel('True labels')\n",
    "ax.set_title('Confusion Matrix')\n",
    "ax.xaxis.set_ticklabels(['Non-Pulsar', 'Pulsar'])\n",
    "ax.yaxis.set_ticklabels(['Non-Pulsar', 'Pulsar'])\n",
    "#plt.savefig('confusion_matrix_wcw.png')"
   ]
  },
  {
   "cell_type": "markdown",
   "metadata": {},
   "source": [
    "Note that the training loss is much higher than the testing loss, why is it?\n",
    "\n",
    "A Keras model has two modes: training and testing. Regularization mechanisms, such as Dropout and L1/L2 weight regularization, are turned off at testing time.\n",
    "\n",
    "Besides, the training loss is the average of the losses over each batch of training data. Because your model is changing over time, the loss over the first batches of an epoch is generally higher than over the last batches. On the other hand, the testing loss for an epoch is computed using the model as it is at the end of the epoch, resulting in a lower loss.\n",
    "\n",
    "For more informations, see:\n",
    "http://blog.datumbox.com/the-batch-normalization-layer-of-keras-is-broken/\n",
    "https://forums.fast.ai/t/validation-loss-lower-than-training-loss/4581/2"
   ]
  },
  {
   "cell_type": "code",
   "execution_count": 324,
   "metadata": {},
   "outputs": [
    {
     "data": {
      "text/plain": [
       "<matplotlib.legend.Legend at 0x7f22175d1cf8>"
      ]
     },
     "execution_count": 324,
     "metadata": {},
     "output_type": "execute_result"
    },
    {
     "data": {
      "image/png": "[encoded data removed]",
      "text/plain": [
       "<Figure size 720x576 with 1 Axes>"
      ]
     },
     "metadata": {},
     "output_type": "display_data"
    }
   ],
   "source": [
    "# Plotting the curve Epoch vs. Loss/Accuracy\n",
    "plt.style.use(\"ggplot\")\n",
    "plt.figure(figsize=(10,8))\n",
    "plt.plot(np.arange(0, 150), H.history[\"loss\"], label=\"train_loss\")\n",
    "plt.plot(np.arange(0, 150), H.history[\"val_loss\"], label=\"val_loss\")\n",
    "plt.plot(np.arange(0, 150), H.history[\"acc\"], label=\"train_acc\")\n",
    "plt.plot(np.arange(0, 150), H.history[\"val_acc\"], label=\"val_acc\")\n",
    "plt.title(\"Training Loss and Accuracy\")\n",
    "plt.xlabel(\"Epoch #\")\n",
    "plt.ylabel(\"Loss/Accuracy\")\n",
    "plt.legend()\n",
    "#plt.savefig('plot_wcw.png')"
   ]
  },
  {
   "cell_type": "code",
   "execution_count": null,
   "metadata": {},
   "outputs": [],
   "source": []
  }
 ],
 "metadata": {
  "kernelspec": {
   "display_name": "Python 3",
   "language": "python",
   "name": "python3"
  },
  "language_info": {
   "codemirror_mode": {
    "name": "ipython",
    "version": 3
   },
   "file_extension": ".py",
   "mimetype": "text/x-python",
   "name": "python",
   "nbconvert_exporter": "python",
   "pygments_lexer": "ipython3",
   "version": "3.6.6"
  }
 },
 "nbformat": 4,
 "nbformat_minor": 2
}
