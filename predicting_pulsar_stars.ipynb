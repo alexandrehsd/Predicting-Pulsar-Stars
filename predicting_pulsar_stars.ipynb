{
 "cells": [
  {
   "cell_type": "code",
   "execution_count": 17,
   "metadata": {
    "_cell_guid": "b1076dfc-b9ad-4769-8c92-a6c4dae69d19",
    "_uuid": "8f2839f25d086af736a60e9eeb907d3b93b6e0e5"
   },
   "outputs": [
    {
     "name": "stdout",
     "output_type": "stream",
     "text": [
      "['pulsar_stars.csv']\n"
     ]
    }
   ],
   "source": [
    "# import the necessary packages\n",
    "from sklearn.preprocessing import LabelBinarizer\n",
    "from sklearn.model_selection import train_test_split\n",
    "from sklearn.metrics import classification_report\n",
    "\n",
    "from keras.models import Sequential\n",
    "from keras.layers.core import Dense\n",
    "from keras.optimizers import SGD\n",
    "from keras import losses\n",
    "\n",
    "import matplotlib.pyplot as plt\n",
    "import numpy as np\n",
    "import pandas as pd"
   ]
  },
  {
   "cell_type": "code",
   "execution_count": 18,
   "metadata": {
    "_cell_guid": "79c7e3d0-c299-4dcb-8224-4455121ee9b0",
    "_uuid": "d629ff2d2480ee46fbb7e2d37f6b5fab8052498a"
   },
   "outputs": [],
   "source": [
    "# Loading the dataset\n",
    "dataset = pd.read_csv('pulsar_stars.csv')"
   ]
  },
  {
   "cell_type": "markdown",
   "metadata": {
    "_uuid": "9fe739112befa8fb7895d7b1e786ceb251a07fa9"
   },
   "source": [
    "1. Once the dataset is loaded, let's see some relevant information about the dataset such as column's titles and types, number of records and shape."
   ]
  },
  {
   "cell_type": "code",
   "execution_count": 19,
   "metadata": {
    "_uuid": "7b38a95fd67169cdf19f4b9730a9c1ac7b5aeece",
    "collapsed": true
   },
   "outputs": [
    {
     "name": "stdout",
     "output_type": "stream",
     "text": [
      "<class 'pandas.core.frame.DataFrame'>\n",
      "RangeIndex: 17898 entries, 0 to 17897\n",
      "Data columns (total 9 columns):\n",
      " Mean of the integrated profile                  17898 non-null float64\n",
      " Standard deviation of the integrated profile    17898 non-null float64\n",
      " Excess kurtosis of the integrated profile       17898 non-null float64\n",
      " Skewness of the integrated profile              17898 non-null float64\n",
      " Mean of the DM-SNR curve                        17898 non-null float64\n",
      " Standard deviation of the DM-SNR curve          17898 non-null float64\n",
      " Excess kurtosis of the DM-SNR curve             17898 non-null float64\n",
      " Skewness of the DM-SNR curve                    17898 non-null float64\n",
      "target_class                                     17898 non-null int64\n",
      "dtypes: float64(8), int64(1)\n",
      "memory usage: 1.2 MB\n",
      "None\n"
     ]
    }
   ],
   "source": [
    "# EDA\n",
    "print(dataset.info())"
   ]
  },
  {
   "cell_type": "markdown",
   "metadata": {
    "_uuid": "67889e172218a90a818263626ecc3d664cffb929"
   },
   "source": [
    "2. Now, let's divide our dataset into two subsets: data and target."
   ]
  },
  {
   "cell_type": "code",
   "execution_count": 20,
   "metadata": {
    "_uuid": "bd23ddabb0612244c6240871edc8c6ab8cd7a60a"
   },
   "outputs": [],
   "source": [
    "# Droping the target column\n",
    "data = dataset.drop(['target_class'], axis=1)\n",
    "\n",
    "# Normalizing the data for all data points to fit in the range [0,1]\n",
    "data = data / np.max(data)\n",
    "\n",
    "target = dataset[['target_class']]"
   ]
  },
  {
   "cell_type": "code",
   "execution_count": 21,
   "metadata": {
    "_uuid": "e0192aa64ca2a7d5fcb99549e21349bcb01c92aa"
   },
   "outputs": [],
   "source": [
    "# Construct the training and testing splits \n",
    "trainX, testX, trainY, testY = train_test_split(data, target, test_size=0.25)"
   ]
  },
  {
   "cell_type": "markdown",
   "metadata": {
    "_uuid": "983a1f5f87eadaa31ce04178e37f3d4cc981088d"
   },
   "source": [
    "Machine Learning algorithms works better when integer labels are transformed into vector labels. In order to accomplish this transformation I will instantiate a LabelBinarizer object and apply the transformation methods into our trainY and testY sets."
   ]
  },
  {
   "cell_type": "code",
   "execution_count": 22,
   "metadata": {
    "_uuid": "1315d227e4982c4ea529f01223a10a9475a7ad1e"
   },
   "outputs": [],
   "source": [
    "lb = LabelBinarizer()\n",
    "trainY = lb.fit_transform(trainY)\n",
    "testY = lb.transform(testY)"
   ]
  },
  {
   "cell_type": "markdown",
   "metadata": {
    "_uuid": "391d1fe28b56d737665d07666428cf1fc39b6bda"
   },
   "source": [
    "With keras, it is possible to define models to our neural network (nn). In this case, we are going to work with a Sequential nn, which is just the nn as we already know, i.e., each layer has as its input the output of the former layer. It is worth mention that our neural network is 8-4-2-1."
   ]
  },
  {
   "cell_type": "code",
   "execution_count": 24,
   "metadata": {
    "_uuid": "60bb73df10aa290dc09b65259e988855e4a08a6c"
   },
   "outputs": [],
   "source": [
    "# Defining the model\n",
    "model = Sequential()\n",
    "model.add(Dense(4, input_shape=(8,), activation='sigmoid'))\n",
    "model.add(Dense(2, activation='sigmoid'))\n",
    "model.add(Dense(1, activation='sigmoid'))"
   ]
  },
  {
   "cell_type": "markdown",
   "metadata": {
    "_uuid": "59eb9e91bd5c00b37dbeb580c9bc5e91f5a6cc04"
   },
   "source": [
    "We are going to use the Stochastic Gradient Descent technique as an optimizer, initially with a learning rate = 0.1. Furthermore, as this is a binary classification problem, in this case a common loss function to use is the binary cross-entropy."
   ]
  },
  {
   "cell_type": "code",
   "execution_count": 25,
   "metadata": {
    "_uuid": "d8e991ba785b2b7e9de04a49be0dcddb461ca6f4",
    "collapsed": true
   },
   "outputs": [
    {
     "name": "stdout",
     "output_type": "stream",
     "text": [
      "Train on 13423 samples, validate on 4475 samples\n",
      "Epoch 1/200\n",
      "13423/13423 [==============================] - 1s 38us/step - loss: 0.3578 - acc: 0.9090 - val_loss: 0.3127 - val_acc: 0.9068\n",
      "Epoch 2/200\n",
      "13423/13423 [==============================] - 0s 18us/step - loss: 0.3061 - acc: 0.9090 - val_loss: 0.3100 - val_acc: 0.9068\n",
      "Epoch 3/200\n",
      "13423/13423 [==============================] - 0s 12us/step - loss: 0.3050 - acc: 0.9090 - val_loss: 0.3095 - val_acc: 0.9068\n",
      "Epoch 4/200\n",
      "13423/13423 [==============================] - 0s 12us/step - loss: 0.3045 - acc: 0.9090 - val_loss: 0.3090 - val_acc: 0.9068\n",
      "Epoch 5/200\n",
      "13423/13423 [==============================] - 0s 12us/step - loss: 0.3040 - acc: 0.9090 - val_loss: 0.3085 - val_acc: 0.9068\n",
      "Epoch 6/200\n",
      "13423/13423 [==============================] - 0s 12us/step - loss: 0.3035 - acc: 0.9090 - val_loss: 0.3080 - val_acc: 0.9068\n",
      "Epoch 7/200\n",
      "13423/13423 [==============================] - 0s 12us/step - loss: 0.3030 - acc: 0.9090 - val_loss: 0.3075 - val_acc: 0.9068\n",
      "Epoch 8/200\n",
      "13423/13423 [==============================] - 0s 12us/step - loss: 0.3024 - acc: 0.9090 - val_loss: 0.3069 - val_acc: 0.9068\n",
      "Epoch 9/200\n",
      "13423/13423 [==============================] - 0s 12us/step - loss: 0.3018 - acc: 0.9090 - val_loss: 0.3063 - val_acc: 0.9068\n",
      "Epoch 10/200\n",
      "13423/13423 [==============================] - 0s 12us/step - loss: 0.3011 - acc: 0.9090 - val_loss: 0.3055 - val_acc: 0.9068\n",
      "Epoch 11/200\n",
      "13423/13423 [==============================] - 0s 13us/step - loss: 0.3003 - acc: 0.9090 - val_loss: 0.3047 - val_acc: 0.9068\n",
      "Epoch 12/200\n",
      "13423/13423 [==============================] - 0s 15us/step - loss: 0.2994 - acc: 0.9090 - val_loss: 0.3037 - val_acc: 0.9068\n",
      "Epoch 13/200\n",
      "13423/13423 [==============================] - 0s 12us/step - loss: 0.2985 - acc: 0.9090 - val_loss: 0.3027 - val_acc: 0.9068\n",
      "Epoch 14/200\n",
      "13423/13423 [==============================] - 0s 11us/step - loss: 0.2974 - acc: 0.9090 - val_loss: 0.3015 - val_acc: 0.9068\n",
      "Epoch 15/200\n",
      "13423/13423 [==============================] - 0s 11us/step - loss: 0.2961 - acc: 0.9090 - val_loss: 0.3001 - val_acc: 0.9068\n",
      "Epoch 16/200\n",
      "13423/13423 [==============================] - 0s 11us/step - loss: 0.2946 - acc: 0.9090 - val_loss: 0.2985 - val_acc: 0.9068\n",
      "Epoch 17/200\n",
      "13423/13423 [==============================] - 0s 11us/step - loss: 0.2930 - acc: 0.9090 - val_loss: 0.2967 - val_acc: 0.9068\n",
      "Epoch 18/200\n",
      "13423/13423 [==============================] - 0s 11us/step - loss: 0.2910 - acc: 0.9090 - val_loss: 0.2946 - val_acc: 0.9068\n",
      "Epoch 19/200\n",
      "13423/13423 [==============================] - 0s 11us/step - loss: 0.2888 - acc: 0.9090 - val_loss: 0.2922 - val_acc: 0.9068\n",
      "Epoch 20/200\n",
      "13423/13423 [==============================] - 0s 10us/step - loss: 0.2862 - acc: 0.9090 - val_loss: 0.2893 - val_acc: 0.9068\n",
      "Epoch 21/200\n",
      "13423/13423 [==============================] - 0s 10us/step - loss: 0.2832 - acc: 0.9090 - val_loss: 0.2861 - val_acc: 0.9068\n",
      "Epoch 22/200\n",
      "13423/13423 [==============================] - 0s 10us/step - loss: 0.2797 - acc: 0.9090 - val_loss: 0.2823 - val_acc: 0.9068\n",
      "Epoch 23/200\n",
      "13423/13423 [==============================] - 0s 10us/step - loss: 0.2757 - acc: 0.9090 - val_loss: 0.2779 - val_acc: 0.9068\n",
      "Epoch 24/200\n",
      "13423/13423 [==============================] - 0s 10us/step - loss: 0.2711 - acc: 0.9090 - val_loss: 0.2730 - val_acc: 0.9068\n",
      "Epoch 25/200\n",
      "13423/13423 [==============================] - 0s 10us/step - loss: 0.2658 - acc: 0.9090 - val_loss: 0.2672 - val_acc: 0.9068\n",
      "Epoch 26/200\n",
      "13423/13423 [==============================] - 0s 10us/step - loss: 0.2598 - acc: 0.9090 - val_loss: 0.2607 - val_acc: 0.9068\n",
      "Epoch 27/200\n",
      "13423/13423 [==============================] - 0s 10us/step - loss: 0.2530 - acc: 0.9090 - val_loss: 0.2535 - val_acc: 0.9068\n",
      "Epoch 28/200\n",
      "13423/13423 [==============================] - 0s 10us/step - loss: 0.2455 - acc: 0.9090 - val_loss: 0.2454 - val_acc: 0.9068\n",
      "Epoch 29/200\n",
      "13423/13423 [==============================] - 0s 10us/step - loss: 0.2374 - acc: 0.9090 - val_loss: 0.2368 - val_acc: 0.9068\n",
      "Epoch 30/200\n",
      "13423/13423 [==============================] - 0s 10us/step - loss: 0.2286 - acc: 0.9090 - val_loss: 0.2275 - val_acc: 0.9068\n",
      "Epoch 31/200\n",
      "13423/13423 [==============================] - 0s 10us/step - loss: 0.2193 - acc: 0.9090 - val_loss: 0.2179 - val_acc: 0.9068\n",
      "Epoch 32/200\n",
      "13423/13423 [==============================] - 0s 10us/step - loss: 0.2098 - acc: 0.9090 - val_loss: 0.2081 - val_acc: 0.9068\n",
      "Epoch 33/200\n",
      "13423/13423 [==============================] - 0s 11us/step - loss: 0.2002 - acc: 0.9090 - val_loss: 0.1983 - val_acc: 0.9068\n",
      "Epoch 34/200\n",
      "13423/13423 [==============================] - 0s 10us/step - loss: 0.1908 - acc: 0.9090 - val_loss: 0.1887 - val_acc: 0.9068\n",
      "Epoch 35/200\n",
      "13423/13423 [==============================] - 0s 10us/step - loss: 0.1817 - acc: 0.9090 - val_loss: 0.1797 - val_acc: 0.9068\n",
      "Epoch 36/200\n",
      "13423/13423 [==============================] - 0s 10us/step - loss: 0.1731 - acc: 0.9148 - val_loss: 0.1712 - val_acc: 0.9182\n",
      "Epoch 37/200\n",
      "13423/13423 [==============================] - 0s 10us/step - loss: 0.1652 - acc: 0.9286 - val_loss: 0.1632 - val_acc: 0.9345\n",
      "Epoch 38/200\n",
      "13423/13423 [==============================] - 0s 10us/step - loss: 0.1579 - acc: 0.9406 - val_loss: 0.1560 - val_acc: 0.9437\n",
      "Epoch 39/200\n",
      "13423/13423 [==============================] - 0s 10us/step - loss: 0.1513 - acc: 0.9476 - val_loss: 0.1495 - val_acc: 0.9470\n",
      "Epoch 40/200\n",
      "13423/13423 [==============================] - 0s 10us/step - loss: 0.1455 - acc: 0.9518 - val_loss: 0.1436 - val_acc: 0.9522\n",
      "Epoch 41/200\n",
      "13423/13423 [==============================] - 0s 10us/step - loss: 0.1402 - acc: 0.9549 - val_loss: 0.1385 - val_acc: 0.9549\n",
      "Epoch 42/200\n",
      "13423/13423 [==============================] - 0s 10us/step - loss: 0.1355 - acc: 0.9569 - val_loss: 0.1337 - val_acc: 0.9566\n",
      "Epoch 43/200\n",
      "13423/13423 [==============================] - 0s 10us/step - loss: 0.1312 - acc: 0.9592 - val_loss: 0.1294 - val_acc: 0.9598\n",
      "Epoch 44/200\n",
      "13423/13423 [==============================] - 0s 10us/step - loss: 0.1274 - acc: 0.9610 - val_loss: 0.1256 - val_acc: 0.9609\n",
      "Epoch 45/200\n",
      "13423/13423 [==============================] - 0s 10us/step - loss: 0.1240 - acc: 0.9630 - val_loss: 0.1222 - val_acc: 0.9625\n",
      "Epoch 46/200\n",
      "13423/13423 [==============================] - 0s 10us/step - loss: 0.1210 - acc: 0.9644 - val_loss: 0.1190 - val_acc: 0.9638\n",
      "Epoch 47/200\n",
      "13423/13423 [==============================] - 0s 10us/step - loss: 0.1182 - acc: 0.9657 - val_loss: 0.1161 - val_acc: 0.9649\n",
      "Epoch 48/200\n",
      "13423/13423 [==============================] - 0s 10us/step - loss: 0.1155 - acc: 0.9671 - val_loss: 0.1138 - val_acc: 0.9647\n",
      "Epoch 49/200\n",
      "13423/13423 [==============================] - 0s 10us/step - loss: 0.1133 - acc: 0.9674 - val_loss: 0.1112 - val_acc: 0.9667\n",
      "Epoch 50/200\n",
      "13423/13423 [==============================] - 0s 10us/step - loss: 0.1112 - acc: 0.9684 - val_loss: 0.1090 - val_acc: 0.9674\n",
      "Epoch 51/200\n",
      "13423/13423 [==============================] - 0s 10us/step - loss: 0.1093 - acc: 0.9688 - val_loss: 0.1070 - val_acc: 0.9676\n",
      "Epoch 52/200\n",
      "13423/13423 [==============================] - 0s 10us/step - loss: 0.1075 - acc: 0.9691 - val_loss: 0.1051 - val_acc: 0.9692\n",
      "Epoch 53/200\n",
      "13423/13423 [==============================] - 0s 10us/step - loss: 0.1058 - acc: 0.9697 - val_loss: 0.1034 - val_acc: 0.9696\n",
      "Epoch 54/200\n",
      "13423/13423 [==============================] - 0s 10us/step - loss: 0.1043 - acc: 0.9706 - val_loss: 0.1017 - val_acc: 0.9709\n",
      "Epoch 55/200\n",
      "13423/13423 [==============================] - 0s 10us/step - loss: 0.1029 - acc: 0.9707 - val_loss: 0.1002 - val_acc: 0.9718\n",
      "Epoch 56/200\n",
      "13423/13423 [==============================] - 0s 10us/step - loss: 0.1015 - acc: 0.9707 - val_loss: 0.0989 - val_acc: 0.9723\n",
      "Epoch 57/200\n",
      "13423/13423 [==============================] - 0s 10us/step - loss: 0.1003 - acc: 0.9713 - val_loss: 0.0977 - val_acc: 0.9721\n",
      "Epoch 58/200\n",
      "13423/13423 [==============================] - 0s 10us/step - loss: 0.0992 - acc: 0.9715 - val_loss: 0.0964 - val_acc: 0.9727\n",
      "Epoch 59/200\n",
      "13423/13423 [==============================] - 0s 10us/step - loss: 0.0981 - acc: 0.9715 - val_loss: 0.0953 - val_acc: 0.9736\n",
      "Epoch 60/200\n",
      "13423/13423 [==============================] - 0s 10us/step - loss: 0.0972 - acc: 0.9715 - val_loss: 0.0942 - val_acc: 0.9736\n",
      "Epoch 61/200\n",
      "13423/13423 [==============================] - 0s 10us/step - loss: 0.0962 - acc: 0.9720 - val_loss: 0.0933 - val_acc: 0.9741\n",
      "Epoch 62/200\n",
      "13423/13423 [==============================] - 0s 10us/step - loss: 0.0954 - acc: 0.9719 - val_loss: 0.0924 - val_acc: 0.9741\n",
      "Epoch 63/200\n",
      "13423/13423 [==============================] - 0s 10us/step - loss: 0.0946 - acc: 0.9723 - val_loss: 0.0915 - val_acc: 0.9747\n",
      "Epoch 64/200\n",
      "13423/13423 [==============================] - 0s 10us/step - loss: 0.0939 - acc: 0.9725 - val_loss: 0.0907 - val_acc: 0.9743\n",
      "Epoch 65/200\n",
      "13423/13423 [==============================] - 0s 10us/step - loss: 0.0931 - acc: 0.9730 - val_loss: 0.0901 - val_acc: 0.9747\n",
      "Epoch 66/200\n",
      "13423/13423 [==============================] - 0s 10us/step - loss: 0.0925 - acc: 0.9728 - val_loss: 0.0894 - val_acc: 0.9752\n",
      "Epoch 67/200\n",
      "13423/13423 [==============================] - 0s 11us/step - loss: 0.0920 - acc: 0.9733 - val_loss: 0.0887 - val_acc: 0.9754\n",
      "Epoch 68/200\n",
      "13423/13423 [==============================] - 0s 10us/step - loss: 0.0914 - acc: 0.9735 - val_loss: 0.0881 - val_acc: 0.9756\n",
      "Epoch 69/200\n",
      "13423/13423 [==============================] - 0s 10us/step - loss: 0.0909 - acc: 0.9739 - val_loss: 0.0875 - val_acc: 0.9754\n",
      "Epoch 70/200\n",
      "13423/13423 [==============================] - 0s 10us/step - loss: 0.0904 - acc: 0.9743 - val_loss: 0.0870 - val_acc: 0.9754\n",
      "Epoch 71/200\n",
      "13423/13423 [==============================] - 0s 10us/step - loss: 0.0899 - acc: 0.9744 - val_loss: 0.0865 - val_acc: 0.9754\n",
      "Epoch 72/200\n",
      "13423/13423 [==============================] - 0s 10us/step - loss: 0.0895 - acc: 0.9740 - val_loss: 0.0860 - val_acc: 0.9756\n",
      "Epoch 73/200\n",
      "13423/13423 [==============================] - 0s 10us/step - loss: 0.0891 - acc: 0.9745 - val_loss: 0.0856 - val_acc: 0.9756\n",
      "Epoch 74/200\n",
      "13423/13423 [==============================] - 0s 10us/step - loss: 0.0887 - acc: 0.9745 - val_loss: 0.0853 - val_acc: 0.9756\n",
      "Epoch 75/200\n",
      "13423/13423 [==============================] - 0s 10us/step - loss: 0.0884 - acc: 0.9742 - val_loss: 0.0848 - val_acc: 0.9756\n",
      "Epoch 76/200\n",
      "13423/13423 [==============================] - 0s 10us/step - loss: 0.0881 - acc: 0.9747 - val_loss: 0.0844 - val_acc: 0.9759\n",
      "Epoch 77/200\n",
      "13423/13423 [==============================] - 0s 10us/step - loss: 0.0878 - acc: 0.9747 - val_loss: 0.0841 - val_acc: 0.9763\n",
      "Epoch 78/200\n",
      "13423/13423 [==============================] - 0s 10us/step - loss: 0.0875 - acc: 0.9751 - val_loss: 0.0838 - val_acc: 0.9765\n",
      "Epoch 79/200\n",
      "13423/13423 [==============================] - 0s 10us/step - loss: 0.0872 - acc: 0.9749 - val_loss: 0.0834 - val_acc: 0.9765\n",
      "Epoch 80/200\n",
      "13423/13423 [==============================] - 0s 10us/step - loss: 0.0868 - acc: 0.9750 - val_loss: 0.0835 - val_acc: 0.9772\n",
      "Epoch 81/200\n",
      "13423/13423 [==============================] - 0s 10us/step - loss: 0.0867 - acc: 0.9758 - val_loss: 0.0829 - val_acc: 0.9765\n",
      "Epoch 82/200\n",
      "13423/13423 [==============================] - 0s 10us/step - loss: 0.0865 - acc: 0.9751 - val_loss: 0.0827 - val_acc: 0.9765\n",
      "Epoch 83/200\n",
      "13423/13423 [==============================] - 0s 10us/step - loss: 0.0862 - acc: 0.9753 - val_loss: 0.0824 - val_acc: 0.9765\n",
      "Epoch 84/200\n",
      "13423/13423 [==============================] - 0s 10us/step - loss: 0.0861 - acc: 0.9754 - val_loss: 0.0821 - val_acc: 0.9765\n",
      "Epoch 85/200\n",
      "13423/13423 [==============================] - 0s 10us/step - loss: 0.0859 - acc: 0.9753 - val_loss: 0.0819 - val_acc: 0.9770\n",
      "Epoch 86/200\n",
      "13423/13423 [==============================] - 0s 10us/step - loss: 0.0857 - acc: 0.9757 - val_loss: 0.0817 - val_acc: 0.9765\n",
      "Epoch 87/200\n",
      "13423/13423 [==============================] - 0s 10us/step - loss: 0.0856 - acc: 0.9753 - val_loss: 0.0815 - val_acc: 0.9768\n",
      "Epoch 88/200\n",
      "13423/13423 [==============================] - 0s 10us/step - loss: 0.0854 - acc: 0.9755 - val_loss: 0.0813 - val_acc: 0.9772\n",
      "Epoch 89/200\n",
      "13423/13423 [==============================] - 0s 10us/step - loss: 0.0852 - acc: 0.9760 - val_loss: 0.0811 - val_acc: 0.9768\n",
      "Epoch 90/200\n",
      "13423/13423 [==============================] - 0s 10us/step - loss: 0.0851 - acc: 0.9758 - val_loss: 0.0809 - val_acc: 0.9772\n",
      "Epoch 91/200\n",
      "13423/13423 [==============================] - 0s 10us/step - loss: 0.0850 - acc: 0.9757 - val_loss: 0.0808 - val_acc: 0.9774\n",
      "Epoch 92/200\n",
      "13423/13423 [==============================] - 0s 10us/step - loss: 0.0848 - acc: 0.9757 - val_loss: 0.0806 - val_acc: 0.9772\n",
      "Epoch 93/200\n",
      "13423/13423 [==============================] - 0s 10us/step - loss: 0.0847 - acc: 0.9757 - val_loss: 0.0804 - val_acc: 0.9772\n",
      "Epoch 94/200\n",
      "13423/13423 [==============================] - 0s 10us/step - loss: 0.0846 - acc: 0.9757 - val_loss: 0.0803 - val_acc: 0.9772\n",
      "Epoch 95/200\n",
      "13423/13423 [==============================] - 0s 10us/step - loss: 0.0845 - acc: 0.9757 - val_loss: 0.0802 - val_acc: 0.9777\n",
      "Epoch 96/200\n",
      "13423/13423 [==============================] - 0s 10us/step - loss: 0.0844 - acc: 0.9757 - val_loss: 0.0801 - val_acc: 0.9777\n",
      "Epoch 97/200\n",
      "13423/13423 [==============================] - 0s 10us/step - loss: 0.0842 - acc: 0.9762 - val_loss: 0.0799 - val_acc: 0.9770\n",
      "Epoch 98/200\n",
      "13423/13423 [==============================] - 0s 10us/step - loss: 0.0841 - acc: 0.9757 - val_loss: 0.0798 - val_acc: 0.9772\n",
      "Epoch 99/200\n",
      "13423/13423 [==============================] - 0s 10us/step - loss: 0.0841 - acc: 0.9758 - val_loss: 0.0796 - val_acc: 0.9777\n",
      "Epoch 100/200\n",
      "13423/13423 [==============================] - 0s 10us/step - loss: 0.0840 - acc: 0.9757 - val_loss: 0.0795 - val_acc: 0.9777\n",
      "Epoch 101/200\n",
      "13423/13423 [==============================] - 0s 10us/step - loss: 0.0839 - acc: 0.9759 - val_loss: 0.0794 - val_acc: 0.9777\n",
      "Epoch 102/200\n",
      "13423/13423 [==============================] - 0s 10us/step - loss: 0.0838 - acc: 0.9759 - val_loss: 0.0793 - val_acc: 0.9777\n",
      "Epoch 103/200\n",
      "13423/13423 [==============================] - 0s 10us/step - loss: 0.0837 - acc: 0.9757 - val_loss: 0.0792 - val_acc: 0.9777\n",
      "Epoch 104/200\n",
      "13423/13423 [==============================] - 0s 10us/step - loss: 0.0836 - acc: 0.9761 - val_loss: 0.0791 - val_acc: 0.9777\n",
      "Epoch 105/200\n",
      "13423/13423 [==============================] - 0s 10us/step - loss: 0.0836 - acc: 0.9760 - val_loss: 0.0790 - val_acc: 0.9777\n",
      "Epoch 106/200\n",
      "13423/13423 [==============================] - 0s 10us/step - loss: 0.0835 - acc: 0.9762 - val_loss: 0.0789 - val_acc: 0.9777\n",
      "Epoch 107/200\n",
      "13423/13423 [==============================] - 0s 10us/step - loss: 0.0834 - acc: 0.9760 - val_loss: 0.0788 - val_acc: 0.9777\n",
      "Epoch 108/200\n",
      "13423/13423 [==============================] - 0s 10us/step - loss: 0.0833 - acc: 0.9762 - val_loss: 0.0787 - val_acc: 0.9777\n",
      "Epoch 109/200\n",
      "13423/13423 [==============================] - 0s 10us/step - loss: 0.0832 - acc: 0.9758 - val_loss: 0.0787 - val_acc: 0.9777\n",
      "Epoch 110/200\n",
      "13423/13423 [==============================] - 0s 10us/step - loss: 0.0832 - acc: 0.9762 - val_loss: 0.0785 - val_acc: 0.9779\n",
      "Epoch 111/200\n",
      "13423/13423 [==============================] - 0s 10us/step - loss: 0.0830 - acc: 0.9759 - val_loss: 0.0785 - val_acc: 0.9777\n",
      "Epoch 112/200\n",
      "13423/13423 [==============================] - 0s 10us/step - loss: 0.0830 - acc: 0.9765 - val_loss: 0.0784 - val_acc: 0.9781\n",
      "Epoch 113/200\n",
      "13423/13423 [==============================] - 0s 10us/step - loss: 0.0830 - acc: 0.9759 - val_loss: 0.0783 - val_acc: 0.9777\n",
      "Epoch 114/200\n",
      "13423/13423 [==============================] - 0s 10us/step - loss: 0.0829 - acc: 0.9766 - val_loss: 0.0782 - val_acc: 0.9777\n",
      "Epoch 115/200\n",
      "13423/13423 [==============================] - 0s 10us/step - loss: 0.0829 - acc: 0.9764 - val_loss: 0.0781 - val_acc: 0.9781\n",
      "Epoch 116/200\n",
      "13423/13423 [==============================] - 0s 10us/step - loss: 0.0828 - acc: 0.9762 - val_loss: 0.0780 - val_acc: 0.9781\n",
      "Epoch 117/200\n",
      "13423/13423 [==============================] - 0s 10us/step - loss: 0.0827 - acc: 0.9765 - val_loss: 0.0779 - val_acc: 0.9781\n"
     ]
    },
    {
     "name": "stdout",
     "output_type": "stream",
     "text": [
      "Epoch 118/200\n",
      "13423/13423 [==============================] - 0s 10us/step - loss: 0.0827 - acc: 0.9762 - val_loss: 0.0779 - val_acc: 0.9781\n",
      "Epoch 119/200\n",
      "13423/13423 [==============================] - 0s 10us/step - loss: 0.0826 - acc: 0.9764 - val_loss: 0.0778 - val_acc: 0.9781\n",
      "Epoch 120/200\n",
      "13423/13423 [==============================] - 0s 10us/step - loss: 0.0826 - acc: 0.9761 - val_loss: 0.0777 - val_acc: 0.9781\n",
      "Epoch 121/200\n",
      "13423/13423 [==============================] - 0s 10us/step - loss: 0.0825 - acc: 0.9762 - val_loss: 0.0777 - val_acc: 0.9781\n",
      "Epoch 122/200\n",
      "13423/13423 [==============================] - 0s 10us/step - loss: 0.0825 - acc: 0.9765 - val_loss: 0.0776 - val_acc: 0.9781\n",
      "Epoch 123/200\n",
      "13423/13423 [==============================] - 0s 10us/step - loss: 0.0824 - acc: 0.9766 - val_loss: 0.0775 - val_acc: 0.9781\n",
      "Epoch 124/200\n",
      "13423/13423 [==============================] - 0s 10us/step - loss: 0.0824 - acc: 0.9764 - val_loss: 0.0775 - val_acc: 0.9781\n",
      "Epoch 125/200\n",
      "13423/13423 [==============================] - 0s 10us/step - loss: 0.0824 - acc: 0.9762 - val_loss: 0.0774 - val_acc: 0.9781\n",
      "Epoch 126/200\n",
      "13423/13423 [==============================] - 0s 10us/step - loss: 0.0823 - acc: 0.9765 - val_loss: 0.0773 - val_acc: 0.9781\n",
      "Epoch 127/200\n",
      "13423/13423 [==============================] - 0s 10us/step - loss: 0.0823 - acc: 0.9765 - val_loss: 0.0773 - val_acc: 0.9781\n",
      "Epoch 128/200\n",
      "13423/13423 [==============================] - 0s 10us/step - loss: 0.0822 - acc: 0.9763 - val_loss: 0.0774 - val_acc: 0.9781\n",
      "Epoch 129/200\n",
      "13423/13423 [==============================] - 0s 10us/step - loss: 0.0822 - acc: 0.9765 - val_loss: 0.0771 - val_acc: 0.9781\n",
      "Epoch 130/200\n",
      "13423/13423 [==============================] - 0s 10us/step - loss: 0.0821 - acc: 0.9765 - val_loss: 0.0771 - val_acc: 0.9781\n",
      "Epoch 131/200\n",
      "13423/13423 [==============================] - 0s 10us/step - loss: 0.0820 - acc: 0.9764 - val_loss: 0.0771 - val_acc: 0.9783\n",
      "Epoch 132/200\n",
      "13423/13423 [==============================] - 0s 10us/step - loss: 0.0820 - acc: 0.9767 - val_loss: 0.0770 - val_acc: 0.9783\n",
      "Epoch 133/200\n",
      "13423/13423 [==============================] - 0s 10us/step - loss: 0.0819 - acc: 0.9762 - val_loss: 0.0769 - val_acc: 0.9781\n",
      "Epoch 134/200\n",
      "13423/13423 [==============================] - 0s 10us/step - loss: 0.0819 - acc: 0.9763 - val_loss: 0.0770 - val_acc: 0.9783\n",
      "Epoch 135/200\n",
      "13423/13423 [==============================] - 0s 10us/step - loss: 0.0819 - acc: 0.9768 - val_loss: 0.0769 - val_acc: 0.9783\n",
      "Epoch 136/200\n",
      "13423/13423 [==============================] - 0s 10us/step - loss: 0.0819 - acc: 0.9766 - val_loss: 0.0769 - val_acc: 0.9783\n",
      "Epoch 137/200\n",
      "13423/13423 [==============================] - 0s 10us/step - loss: 0.0818 - acc: 0.9766 - val_loss: 0.0767 - val_acc: 0.9783\n",
      "Epoch 138/200\n",
      "13423/13423 [==============================] - 0s 10us/step - loss: 0.0818 - acc: 0.9768 - val_loss: 0.0766 - val_acc: 0.9783\n",
      "Epoch 139/200\n",
      "13423/13423 [==============================] - 0s 10us/step - loss: 0.0817 - acc: 0.9767 - val_loss: 0.0766 - val_acc: 0.9783\n",
      "Epoch 140/200\n",
      "13423/13423 [==============================] - 0s 10us/step - loss: 0.0816 - acc: 0.9767 - val_loss: 0.0768 - val_acc: 0.9785\n",
      "Epoch 141/200\n",
      "13423/13423 [==============================] - 0s 10us/step - loss: 0.0817 - acc: 0.9765 - val_loss: 0.0765 - val_acc: 0.9783\n",
      "Epoch 142/200\n",
      "13423/13423 [==============================] - 0s 10us/step - loss: 0.0816 - acc: 0.9765 - val_loss: 0.0764 - val_acc: 0.9785\n",
      "Epoch 143/200\n",
      "13423/13423 [==============================] - 0s 10us/step - loss: 0.0815 - acc: 0.9766 - val_loss: 0.0764 - val_acc: 0.9783\n",
      "Epoch 144/200\n",
      "13423/13423 [==============================] - 0s 10us/step - loss: 0.0815 - acc: 0.9766 - val_loss: 0.0763 - val_acc: 0.9785\n",
      "Epoch 145/200\n",
      "13423/13423 [==============================] - 0s 10us/step - loss: 0.0814 - acc: 0.9765 - val_loss: 0.0763 - val_acc: 0.9783\n",
      "Epoch 146/200\n",
      "13423/13423 [==============================] - 0s 10us/step - loss: 0.0815 - acc: 0.9768 - val_loss: 0.0762 - val_acc: 0.9781\n",
      "Epoch 147/200\n",
      "13423/13423 [==============================] - 0s 10us/step - loss: 0.0814 - acc: 0.9765 - val_loss: 0.0761 - val_acc: 0.9785\n",
      "Epoch 148/200\n",
      "13423/13423 [==============================] - 0s 10us/step - loss: 0.0814 - acc: 0.9768 - val_loss: 0.0761 - val_acc: 0.9785\n",
      "Epoch 149/200\n",
      "13423/13423 [==============================] - 0s 10us/step - loss: 0.0813 - acc: 0.9768 - val_loss: 0.0761 - val_acc: 0.9781\n",
      "Epoch 150/200\n",
      "13423/13423 [==============================] - 0s 10us/step - loss: 0.0813 - acc: 0.9767 - val_loss: 0.0760 - val_acc: 0.9783\n",
      "Epoch 151/200\n",
      "13423/13423 [==============================] - 0s 10us/step - loss: 0.0813 - acc: 0.9766 - val_loss: 0.0759 - val_acc: 0.9785\n",
      "Epoch 152/200\n",
      "13423/13423 [==============================] - 0s 10us/step - loss: 0.0812 - acc: 0.9768 - val_loss: 0.0759 - val_acc: 0.9783\n",
      "Epoch 153/200\n",
      "13423/13423 [==============================] - 0s 10us/step - loss: 0.0812 - acc: 0.9768 - val_loss: 0.0759 - val_acc: 0.9785\n",
      "Epoch 154/200\n",
      "13423/13423 [==============================] - 0s 10us/step - loss: 0.0811 - acc: 0.9770 - val_loss: 0.0758 - val_acc: 0.9785\n",
      "Epoch 155/200\n",
      "13423/13423 [==============================] - 0s 10us/step - loss: 0.0811 - acc: 0.9768 - val_loss: 0.0758 - val_acc: 0.9783\n",
      "Epoch 156/200\n",
      "13423/13423 [==============================] - 0s 10us/step - loss: 0.0811 - acc: 0.9770 - val_loss: 0.0757 - val_acc: 0.9783\n",
      "Epoch 157/200\n",
      "13423/13423 [==============================] - 0s 10us/step - loss: 0.0810 - acc: 0.9768 - val_loss: 0.0758 - val_acc: 0.9788\n",
      "Epoch 158/200\n",
      "13423/13423 [==============================] - 0s 10us/step - loss: 0.0811 - acc: 0.9768 - val_loss: 0.0757 - val_acc: 0.9785\n",
      "Epoch 159/200\n",
      "13423/13423 [==============================] - 0s 10us/step - loss: 0.0809 - acc: 0.9768 - val_loss: 0.0756 - val_acc: 0.9785\n",
      "Epoch 160/200\n",
      "13423/13423 [==============================] - 0s 10us/step - loss: 0.0809 - acc: 0.9768 - val_loss: 0.0757 - val_acc: 0.9788\n",
      "Epoch 161/200\n",
      "13423/13423 [==============================] - 0s 10us/step - loss: 0.0809 - acc: 0.9768 - val_loss: 0.0755 - val_acc: 0.9785\n",
      "Epoch 162/200\n",
      "13423/13423 [==============================] - 0s 10us/step - loss: 0.0808 - acc: 0.9769 - val_loss: 0.0755 - val_acc: 0.9788\n",
      "Epoch 163/200\n",
      "13423/13423 [==============================] - 0s 10us/step - loss: 0.0808 - acc: 0.9768 - val_loss: 0.0754 - val_acc: 0.9783\n",
      "Epoch 164/200\n",
      "13423/13423 [==============================] - 0s 10us/step - loss: 0.0808 - acc: 0.9767 - val_loss: 0.0754 - val_acc: 0.9785\n",
      "Epoch 165/200\n",
      "13423/13423 [==============================] - 0s 10us/step - loss: 0.0807 - acc: 0.9765 - val_loss: 0.0753 - val_acc: 0.9788\n",
      "Epoch 166/200\n",
      "13423/13423 [==============================] - 0s 10us/step - loss: 0.0807 - acc: 0.9769 - val_loss: 0.0754 - val_acc: 0.9790\n",
      "Epoch 167/200\n",
      "13423/13423 [==============================] - 0s 10us/step - loss: 0.0806 - acc: 0.9770 - val_loss: 0.0753 - val_acc: 0.9788\n",
      "Epoch 168/200\n",
      "13423/13423 [==============================] - 0s 10us/step - loss: 0.0806 - acc: 0.9766 - val_loss: 0.0752 - val_acc: 0.9785\n",
      "Epoch 169/200\n",
      "13423/13423 [==============================] - 0s 10us/step - loss: 0.0807 - acc: 0.9768 - val_loss: 0.0751 - val_acc: 0.9785\n",
      "Epoch 170/200\n",
      "13423/13423 [==============================] - 0s 10us/step - loss: 0.0806 - acc: 0.9768 - val_loss: 0.0751 - val_acc: 0.9788\n",
      "Epoch 171/200\n",
      "13423/13423 [==============================] - 0s 10us/step - loss: 0.0806 - acc: 0.9768 - val_loss: 0.0752 - val_acc: 0.9790\n",
      "Epoch 172/200\n",
      "13423/13423 [==============================] - 0s 11us/step - loss: 0.0806 - acc: 0.9768 - val_loss: 0.0750 - val_acc: 0.9785\n",
      "Epoch 173/200\n",
      "13423/13423 [==============================] - 0s 10us/step - loss: 0.0805 - acc: 0.9768 - val_loss: 0.0750 - val_acc: 0.9788\n",
      "Epoch 174/200\n",
      "13423/13423 [==============================] - 0s 10us/step - loss: 0.0805 - acc: 0.9770 - val_loss: 0.0750 - val_acc: 0.9790\n",
      "Epoch 175/200\n",
      "13423/13423 [==============================] - 0s 10us/step - loss: 0.0805 - acc: 0.9771 - val_loss: 0.0749 - val_acc: 0.9785\n",
      "Epoch 176/200\n",
      "13423/13423 [==============================] - 0s 10us/step - loss: 0.0805 - acc: 0.9770 - val_loss: 0.0748 - val_acc: 0.9785\n",
      "Epoch 177/200\n",
      "13423/13423 [==============================] - 0s 10us/step - loss: 0.0803 - acc: 0.9768 - val_loss: 0.0750 - val_acc: 0.9790\n",
      "Epoch 178/200\n",
      "13423/13423 [==============================] - 0s 10us/step - loss: 0.0803 - acc: 0.9770 - val_loss: 0.0748 - val_acc: 0.9785\n",
      "Epoch 179/200\n",
      "13423/13423 [==============================] - 0s 11us/step - loss: 0.0803 - acc: 0.9769 - val_loss: 0.0747 - val_acc: 0.9785\n",
      "Epoch 180/200\n",
      "13423/13423 [==============================] - 0s 10us/step - loss: 0.0802 - acc: 0.9771 - val_loss: 0.0749 - val_acc: 0.9785\n",
      "Epoch 181/200\n",
      "13423/13423 [==============================] - 0s 10us/step - loss: 0.0803 - acc: 0.9769 - val_loss: 0.0747 - val_acc: 0.9792\n",
      "Epoch 182/200\n",
      "13423/13423 [==============================] - 0s 10us/step - loss: 0.0802 - acc: 0.9771 - val_loss: 0.0746 - val_acc: 0.9792\n",
      "Epoch 183/200\n",
      "13423/13423 [==============================] - 0s 10us/step - loss: 0.0803 - acc: 0.9768 - val_loss: 0.0746 - val_acc: 0.9792\n",
      "Epoch 184/200\n",
      "13423/13423 [==============================] - 0s 10us/step - loss: 0.0801 - acc: 0.9771 - val_loss: 0.0745 - val_acc: 0.9788\n",
      "Epoch 185/200\n",
      "13423/13423 [==============================] - 0s 10us/step - loss: 0.0802 - acc: 0.9769 - val_loss: 0.0745 - val_acc: 0.9788\n",
      "Epoch 186/200\n",
      "13423/13423 [==============================] - 0s 10us/step - loss: 0.0801 - acc: 0.9770 - val_loss: 0.0745 - val_acc: 0.9788\n",
      "Epoch 187/200\n",
      "13423/13423 [==============================] - 0s 10us/step - loss: 0.0801 - acc: 0.9769 - val_loss: 0.0744 - val_acc: 0.9792\n",
      "Epoch 188/200\n",
      "13423/13423 [==============================] - 0s 10us/step - loss: 0.0800 - acc: 0.9771 - val_loss: 0.0744 - val_acc: 0.9788\n",
      "Epoch 189/200\n",
      "13423/13423 [==============================] - 0s 10us/step - loss: 0.0800 - acc: 0.9769 - val_loss: 0.0743 - val_acc: 0.9785\n",
      "Epoch 190/200\n",
      "13423/13423 [==============================] - 0s 10us/step - loss: 0.0800 - acc: 0.9770 - val_loss: 0.0743 - val_acc: 0.9792\n",
      "Epoch 191/200\n",
      "13423/13423 [==============================] - 0s 10us/step - loss: 0.0800 - acc: 0.9769 - val_loss: 0.0743 - val_acc: 0.9792\n",
      "Epoch 192/200\n",
      "13423/13423 [==============================] - 0s 10us/step - loss: 0.0799 - acc: 0.9772 - val_loss: 0.0742 - val_acc: 0.9792\n",
      "Epoch 193/200\n",
      "13423/13423 [==============================] - 0s 10us/step - loss: 0.0799 - acc: 0.9773 - val_loss: 0.0742 - val_acc: 0.9792\n",
      "Epoch 194/200\n",
      "13423/13423 [==============================] - 0s 10us/step - loss: 0.0799 - acc: 0.9771 - val_loss: 0.0742 - val_acc: 0.9792\n",
      "Epoch 195/200\n",
      "13423/13423 [==============================] - 0s 10us/step - loss: 0.0798 - acc: 0.9772 - val_loss: 0.0742 - val_acc: 0.9792\n",
      "Epoch 196/200\n",
      "13423/13423 [==============================] - 0s 10us/step - loss: 0.0798 - acc: 0.9772 - val_loss: 0.0744 - val_acc: 0.9792\n",
      "Epoch 197/200\n",
      "13423/13423 [==============================] - 0s 10us/step - loss: 0.0798 - acc: 0.9768 - val_loss: 0.0741 - val_acc: 0.9792\n",
      "Epoch 198/200\n",
      "13423/13423 [==============================] - 0s 10us/step - loss: 0.0798 - acc: 0.9769 - val_loss: 0.0740 - val_acc: 0.9792\n",
      "Epoch 199/200\n",
      "13423/13423 [==============================] - 0s 10us/step - loss: 0.0796 - acc: 0.9769 - val_loss: 0.0740 - val_acc: 0.9790\n",
      "Epoch 200/200\n",
      "13423/13423 [==============================] - 0s 10us/step - loss: 0.0797 - acc: 0.9770 - val_loss: 0.0740 - val_acc: 0.9792\n"
     ]
    }
   ],
   "source": [
    "# Stochastic Gradient descent optimizer with learning rate = 0.1\n",
    "sgd = SGD(0.1)\n",
    "\n",
    "model.compile(loss='binary_crossentropy', optimizer=sgd,\n",
    "    metrics=[\"accuracy\"])\n",
    "H = model.fit(trainX, trainY, validation_data=(testX, testY), batch_size=128, epochs=200)"
   ]
  },
  {
   "cell_type": "code",
   "execution_count": 28,
   "metadata": {
    "_uuid": "1de109def43c2d85aa686fe759a1980957cd6988",
    "collapsed": true
   },
   "outputs": [
    {
     "name": "stdout",
     "output_type": "stream",
     "text": [
      "              precision    recall  f1-score   support\n",
      "\n",
      "  Prediction       1.00      1.00      1.00      4475\n",
      "\n",
      "   micro avg       1.00      1.00      1.00      4475\n",
      "   macro avg       1.00      1.00      1.00      4475\n",
      "weighted avg       1.00      1.00      1.00      4475\n",
      "\n"
     ]
    }
   ],
   "source": [
    "predictions = model.predict(testX, batch_size=128)\n",
    "print(classification_report(testY.argmax(axis=1),\n",
    "    predictions.argmax(axis=1),\n",
    "    target_names=['Prediction']))"
   ]
  },
  {
   "cell_type": "code",
   "execution_count": 17,
   "metadata": {
    "_uuid": "d1611f860f5b1b2c370da63371a3ff2896ae8626"
   },
   "outputs": [
    {
     "data": {
      "image/png": "[encoded data removed]",
      "text/plain": [
       "<Figure size 432x288 with 1 Axes>"
      ]
     },
     "metadata": {},
     "output_type": "display_data"
    }
   ],
   "source": [
    "# Plotting the curve Epoch vs. Loss/Accuracy\n",
    "plt.style.use(\"ggplot\")\n",
    "plt.figure()\n",
    "plt.plot(np.arange(0, 200), H.history[\"loss\"], label=\"train_loss\")\n",
    "plt.plot(np.arange(0, 200), H.history[\"val_loss\"], label=\"val_loss\")\n",
    "plt.plot(np.arange(0, 200), H.history[\"acc\"], label=\"train_acc\")\n",
    "plt.plot(np.arange(0, 200), H.history[\"val_acc\"], label=\"val_acc\")\n",
    "plt.title(\"Training Loss and Accuracy\")\n",
    "plt.xlabel(\"Epoch #\")\n",
    "plt.ylabel(\"Loss/Accuracy\")\n",
    "plt.legend()\n",
    "plt.savefig('plot.png')"
   ]
  },
  {
   "cell_type": "code",
   "execution_count": null,
   "metadata": {
    "_uuid": "db6dc8908975dcaea032c7e28a4662644bd5513c"
   },
   "outputs": [],
   "source": []
  }
 ],
 "metadata": {
  "kernelspec": {
   "display_name": "Python 3",
   "language": "python",
   "name": "python3"
  },
  "language_info": {
   "codemirror_mode": {
    "name": "ipython",
    "version": 3
   },
   "file_extension": ".py",
   "mimetype": "text/x-python",
   "name": "python",
   "nbconvert_exporter": "python",
   "pygments_lexer": "ipython3",
   "version": "3.6.6"
  }
 },
 "nbformat": 4,
 "nbformat_minor": 1
}
