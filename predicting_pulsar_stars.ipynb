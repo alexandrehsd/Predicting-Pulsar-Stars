{
 "cells": [
  {
   "cell_type": "code",
   "execution_count": 82,
   "metadata": {
    "_cell_guid": "b1076dfc-b9ad-4769-8c92-a6c4dae69d19",
    "_uuid": "8f2839f25d086af736a60e9eeb907d3b93b6e0e5"
   },
   "outputs": [],
   "source": [
    "# import the necessary packages\n",
    "from sklearn.preprocessing import LabelBinarizer\n",
    "from sklearn.model_selection import train_test_split\n",
    "from sklearn.metrics import classification_report, confusion_matrix\n",
    "\n",
    "from keras.models import Sequential\n",
    "from keras.layers.core import Dense\n",
    "from keras.optimizers import SGD\n",
    "from keras import regularizers\n",
    "\n",
    "import matplotlib.pyplot as plt\n",
    "import numpy as np\n",
    "import pandas as pd"
   ]
  },
  {
   "cell_type": "code",
   "execution_count": 83,
   "metadata": {
    "_cell_guid": "79c7e3d0-c299-4dcb-8224-4455121ee9b0",
    "_uuid": "d629ff2d2480ee46fbb7e2d37f6b5fab8052498a"
   },
   "outputs": [],
   "source": [
    "# Loading the dataset\n",
    "dataset = pd.read_csv('pulsar_stars.csv')"
   ]
  },
  {
   "cell_type": "markdown",
   "metadata": {
    "_uuid": "9fe739112befa8fb7895d7b1e786ceb251a07fa9"
   },
   "source": [
    "1. Once the dataset is loaded, let's see some relevant information about the dataset such as column's titles and types, number of records and shape."
   ]
  },
  {
   "cell_type": "code",
   "execution_count": 84,
   "metadata": {
    "_uuid": "7b38a95fd67169cdf19f4b9730a9c1ac7b5aeece"
   },
   "outputs": [
    {
     "name": "stdout",
     "output_type": "stream",
     "text": [
      "<class 'pandas.core.frame.DataFrame'>\n",
      "RangeIndex: 17898 entries, 0 to 17897\n",
      "Data columns (total 9 columns):\n",
      " Mean of the integrated profile                  17898 non-null float64\n",
      " Standard deviation of the integrated profile    17898 non-null float64\n",
      " Excess kurtosis of the integrated profile       17898 non-null float64\n",
      " Skewness of the integrated profile              17898 non-null float64\n",
      " Mean of the DM-SNR curve                        17898 non-null float64\n",
      " Standard deviation of the DM-SNR curve          17898 non-null float64\n",
      " Excess kurtosis of the DM-SNR curve             17898 non-null float64\n",
      " Skewness of the DM-SNR curve                    17898 non-null float64\n",
      "target_class                                     17898 non-null int64\n",
      "dtypes: float64(8), int64(1)\n",
      "memory usage: 1.2 MB\n",
      "None\n"
     ]
    }
   ],
   "source": [
    "# EDA\n",
    "print(dataset.info())"
   ]
  },
  {
   "cell_type": "markdown",
   "metadata": {
    "_uuid": "67889e172218a90a818263626ecc3d664cffb929"
   },
   "source": [
    "2. Now, let's divide our dataset into two subsets: data and target."
   ]
  },
  {
   "cell_type": "code",
   "execution_count": 85,
   "metadata": {
    "_uuid": "bd23ddabb0612244c6240871edc8c6ab8cd7a60a"
   },
   "outputs": [],
   "source": [
    "# Droping the target column\n",
    "data = dataset.drop(['target_class'], axis=1)\n",
    "\n",
    "# Normalizing the data for all data points to fit in the range [0,1]\n",
    "data = data / np.max(data)\n",
    "\n",
    "target = dataset[['target_class']]"
   ]
  },
  {
   "cell_type": "code",
   "execution_count": 86,
   "metadata": {
    "_uuid": "e0192aa64ca2a7d5fcb99549e21349bcb01c92aa"
   },
   "outputs": [],
   "source": [
    "# Construct the training and testing splits \n",
    "trainX, testX, trainY, testY = train_test_split(data, target, test_size=0.25)"
   ]
  },
  {
   "cell_type": "markdown",
   "metadata": {
    "_uuid": "983a1f5f87eadaa31ce04178e37f3d4cc981088d"
   },
   "source": [
    "Machine Learning algorithms works better when integer labels are transformed into vector labels. In order to accomplish this transformation I will instantiate a LabelBinarizer object and apply the transformation methods into our trainY and testY sets."
   ]
  },
  {
   "cell_type": "code",
   "execution_count": 87,
   "metadata": {
    "_uuid": "1315d227e4982c4ea529f01223a10a9475a7ad1e"
   },
   "outputs": [],
   "source": [
    "lb = LabelBinarizer()\n",
    "trainY = lb.fit_transform(trainY)\n",
    "testY = lb.transform(testY)"
   ]
  },
  {
   "cell_type": "markdown",
   "metadata": {
    "_uuid": "391d1fe28b56d737665d07666428cf1fc39b6bda"
   },
   "source": [
    "With keras, it is possible to define models to our neural network (nn). In this case, we are going to work with a Sequential nn, which is just the nn as we already know, i.e., each layer has as its input the output of the former layer. It is worth mention that our neural network is 8-4-2-1."
   ]
  },
  {
   "cell_type": "code",
   "execution_count": 88,
   "metadata": {
    "_uuid": "60bb73df10aa290dc09b65259e988855e4a08a6c"
   },
   "outputs": [],
   "source": [
    "# Defining the model\n",
    "model = Sequential()\n",
    "model.add(Dense(4, input_shape=(8,), activation='sigmoid'))\n",
    "model.add(Dense(2, activation='sigmoid'))\n",
    "model.add(Dense(1, activation='sigmoid'))"
   ]
  },
  {
   "cell_type": "markdown",
   "metadata": {
    "_uuid": "59eb9e91bd5c00b37dbeb580c9bc5e91f5a6cc04"
   },
   "source": [
    "We are going to use the Stochastic Gradient Descent technique as an optimizer, initially with a learning rate = 0.1. Furthermore, as this is a binary classification problem, in this case a common loss function to use is the binary cross-entropy. Also, our dataset is extremely unbalanced instances of classes, in order to achieve more balance between classes, we weighted the class 1 (is pulsar) ten times more than class 0 (not a pulsar)."
   ]
  },
  {
   "cell_type": "code",
   "execution_count": 89,
   "metadata": {
    "_uuid": "d8e991ba785b2b7e9de04a49be0dcddb461ca6f4"
   },
   "outputs": [
    {
     "name": "stdout",
     "output_type": "stream",
     "text": [
      "Train on 13423 samples, validate on 4475 samples\n",
      "Epoch 1/150\n",
      "13423/13423 [==============================] - 1s 39us/step - loss: 0.8980 - acc: 0.8716 - val_loss: 0.4677 - val_acc: 0.9053\n",
      "Epoch 2/150\n",
      "13423/13423 [==============================] - 0s 13us/step - loss: 0.6150 - acc: 0.9383 - val_loss: 0.1768 - val_acc: 0.9645\n",
      "Epoch 3/150\n",
      "13423/13423 [==============================] - 0s 14us/step - loss: 0.2673 - acc: 0.9668 - val_loss: 0.1391 - val_acc: 0.9663\n",
      "Epoch 4/150\n",
      "13423/13423 [==============================] - 0s 14us/step - loss: 0.2397 - acc: 0.9697 - val_loss: 0.0856 - val_acc: 0.9770\n",
      "Epoch 5/150\n",
      "13423/13423 [==============================] - 0s 13us/step - loss: 0.2346 - acc: 0.9692 - val_loss: 0.0982 - val_acc: 0.9745\n",
      "Epoch 6/150\n",
      "13423/13423 [==============================] - 0s 15us/step - loss: 0.2359 - acc: 0.9668 - val_loss: 0.1081 - val_acc: 0.9712\n",
      "Epoch 7/150\n",
      "13423/13423 [==============================] - 0s 13us/step - loss: 0.2336 - acc: 0.9683 - val_loss: 0.0905 - val_acc: 0.9756\n",
      "Epoch 8/150\n",
      "13423/13423 [==============================] - 0s 13us/step - loss: 0.2251 - acc: 0.9704 - val_loss: 0.1019 - val_acc: 0.9743\n",
      "Epoch 9/150\n",
      "13423/13423 [==============================] - 0s 13us/step - loss: 0.2256 - acc: 0.9703 - val_loss: 0.0943 - val_acc: 0.9761\n",
      "Epoch 10/150\n",
      "13423/13423 [==============================] - 0s 13us/step - loss: 0.2239 - acc: 0.9713 - val_loss: 0.0924 - val_acc: 0.9761\n",
      "Epoch 11/150\n",
      "13423/13423 [==============================] - 0s 13us/step - loss: 0.2248 - acc: 0.9721 - val_loss: 0.1108 - val_acc: 0.9718\n",
      "Epoch 12/150\n",
      "13423/13423 [==============================] - 0s 13us/step - loss: 0.2200 - acc: 0.9729 - val_loss: 0.0937 - val_acc: 0.9750\n",
      "Epoch 13/150\n",
      "13423/13423 [==============================] - 0s 13us/step - loss: 0.2260 - acc: 0.9696 - val_loss: 0.1722 - val_acc: 0.9508\n",
      "Epoch 14/150\n",
      "13423/13423 [==============================] - 0s 13us/step - loss: 0.2226 - acc: 0.9715 - val_loss: 0.1238 - val_acc: 0.9680\n",
      "Epoch 15/150\n",
      "13423/13423 [==============================] - 0s 17us/step - loss: 0.2217 - acc: 0.9723 - val_loss: 0.1160 - val_acc: 0.9698\n",
      "Epoch 16/150\n",
      "13423/13423 [==============================] - 0s 17us/step - loss: 0.2195 - acc: 0.9699 - val_loss: 0.0867 - val_acc: 0.9783\n",
      "Epoch 17/150\n",
      "13423/13423 [==============================] - 0s 19us/step - loss: 0.2227 - acc: 0.9727 - val_loss: 0.1197 - val_acc: 0.9687\n",
      "Epoch 18/150\n",
      "13423/13423 [==============================] - 0s 17us/step - loss: 0.2150 - acc: 0.9721 - val_loss: 0.0801 - val_acc: 0.9785\n",
      "Epoch 19/150\n",
      "13423/13423 [==============================] - 0s 16us/step - loss: 0.2161 - acc: 0.9718 - val_loss: 0.0914 - val_acc: 0.9761\n",
      "Epoch 20/150\n",
      "13423/13423 [==============================] - 0s 15us/step - loss: 0.2211 - acc: 0.9715 - val_loss: 0.1178 - val_acc: 0.9694\n",
      "Epoch 21/150\n",
      "13423/13423 [==============================] - 0s 14us/step - loss: 0.2158 - acc: 0.9724 - val_loss: 0.0766 - val_acc: 0.9792\n",
      "Epoch 22/150\n",
      "13423/13423 [==============================] - 0s 12us/step - loss: 0.2187 - acc: 0.9730 - val_loss: 0.1126 - val_acc: 0.9718\n",
      "Epoch 23/150\n",
      "13423/13423 [==============================] - 0s 14us/step - loss: 0.2103 - acc: 0.9743 - val_loss: 0.1153 - val_acc: 0.9709\n",
      "Epoch 24/150\n",
      "13423/13423 [==============================] - 0s 13us/step - loss: 0.2230 - acc: 0.9714 - val_loss: 0.0764 - val_acc: 0.9790\n",
      "Epoch 25/150\n",
      "13423/13423 [==============================] - 0s 16us/step - loss: 0.2224 - acc: 0.9733 - val_loss: 0.1194 - val_acc: 0.9712\n",
      "Epoch 26/150\n",
      "13423/13423 [==============================] - 0s 15us/step - loss: 0.2245 - acc: 0.9708 - val_loss: 0.1499 - val_acc: 0.9611\n",
      "Epoch 27/150\n",
      "13423/13423 [==============================] - 0s 16us/step - loss: 0.2182 - acc: 0.9715 - val_loss: 0.1375 - val_acc: 0.9642\n",
      "Epoch 28/150\n",
      "13423/13423 [==============================] - 0s 15us/step - loss: 0.2125 - acc: 0.9737 - val_loss: 0.1590 - val_acc: 0.9564\n",
      "Epoch 29/150\n",
      "13423/13423 [==============================] - 0s 15us/step - loss: 0.2151 - acc: 0.9730 - val_loss: 0.1071 - val_acc: 0.9727\n",
      "Epoch 30/150\n",
      "13423/13423 [==============================] - 0s 19us/step - loss: 0.2118 - acc: 0.9742 - val_loss: 0.1241 - val_acc: 0.9674\n",
      "Epoch 31/150\n",
      "13423/13423 [==============================] - 0s 15us/step - loss: 0.2127 - acc: 0.9743 - val_loss: 0.0964 - val_acc: 0.9756\n",
      "Epoch 32/150\n",
      "13423/13423 [==============================] - 0s 14us/step - loss: 0.2090 - acc: 0.9736 - val_loss: 0.0839 - val_acc: 0.9772\n",
      "Epoch 33/150\n",
      "13423/13423 [==============================] - 0s 14us/step - loss: 0.2097 - acc: 0.9732 - val_loss: 0.0937 - val_acc: 0.9750\n",
      "Epoch 34/150\n",
      "13423/13423 [==============================] - 0s 14us/step - loss: 0.2169 - acc: 0.9729 - val_loss: 0.0904 - val_acc: 0.9765\n",
      "Epoch 35/150\n",
      "13423/13423 [==============================] - 0s 15us/step - loss: 0.2138 - acc: 0.9745 - val_loss: 0.0844 - val_acc: 0.9779\n",
      "Epoch 36/150\n",
      "13423/13423 [==============================] - 0s 13us/step - loss: 0.2112 - acc: 0.9738 - val_loss: 0.1478 - val_acc: 0.9613\n",
      "Epoch 37/150\n",
      "13423/13423 [==============================] - 0s 13us/step - loss: 0.2134 - acc: 0.9730 - val_loss: 0.0976 - val_acc: 0.9754\n",
      "Epoch 38/150\n",
      "13423/13423 [==============================] - 0s 13us/step - loss: 0.2106 - acc: 0.9733 - val_loss: 0.1303 - val_acc: 0.9667\n",
      "Epoch 39/150\n",
      "13423/13423 [==============================] - 0s 20us/step - loss: 0.2143 - acc: 0.9739 - val_loss: 0.0923 - val_acc: 0.9754\n",
      "Epoch 40/150\n",
      "13423/13423 [==============================] - 0s 17us/step - loss: 0.2198 - acc: 0.9721 - val_loss: 0.0832 - val_acc: 0.9785\n",
      "Epoch 41/150\n",
      "13423/13423 [==============================] - 0s 17us/step - loss: 0.2076 - acc: 0.9730 - val_loss: 0.0837 - val_acc: 0.9774\n",
      "Epoch 42/150\n",
      "13423/13423 [==============================] - 0s 14us/step - loss: 0.2080 - acc: 0.9735 - val_loss: 0.0756 - val_acc: 0.9794\n",
      "Epoch 43/150\n",
      "13423/13423 [==============================] - 0s 20us/step - loss: 0.2109 - acc: 0.9734 - val_loss: 0.0991 - val_acc: 0.9752\n",
      "Epoch 44/150\n",
      "13423/13423 [==============================] - 0s 14us/step - loss: 0.2084 - acc: 0.9749 - val_loss: 0.1088 - val_acc: 0.9727\n",
      "Epoch 45/150\n",
      "13423/13423 [==============================] - 0s 15us/step - loss: 0.2062 - acc: 0.9747 - val_loss: 0.0772 - val_acc: 0.9794\n",
      "Epoch 46/150\n",
      "13423/13423 [==============================] - 0s 14us/step - loss: 0.2091 - acc: 0.9743 - val_loss: 0.1136 - val_acc: 0.9723\n",
      "Epoch 47/150\n",
      "13423/13423 [==============================] - 0s 14us/step - loss: 0.2100 - acc: 0.9727 - val_loss: 0.1032 - val_acc: 0.9743\n",
      "Epoch 48/150\n",
      "13423/13423 [==============================] - 0s 14us/step - loss: 0.2081 - acc: 0.9736 - val_loss: 0.1076 - val_acc: 0.9734\n",
      "Epoch 49/150\n",
      "13423/13423 [==============================] - 0s 14us/step - loss: 0.2136 - acc: 0.9737 - val_loss: 0.0973 - val_acc: 0.9754\n",
      "Epoch 50/150\n",
      "13423/13423 [==============================] - 0s 13us/step - loss: 0.2069 - acc: 0.9739 - val_loss: 0.1120 - val_acc: 0.9714\n",
      "Epoch 51/150\n",
      "13423/13423 [==============================] - 0s 15us/step - loss: 0.2109 - acc: 0.9734 - val_loss: 0.0887 - val_acc: 0.9763\n",
      "Epoch 52/150\n",
      "13423/13423 [==============================] - 0s 14us/step - loss: 0.2075 - acc: 0.9752 - val_loss: 0.0995 - val_acc: 0.9752\n",
      "Epoch 53/150\n",
      "13423/13423 [==============================] - 0s 15us/step - loss: 0.2059 - acc: 0.9752 - val_loss: 0.1204 - val_acc: 0.9698\n",
      "Epoch 54/150\n",
      "13423/13423 [==============================] - 0s 15us/step - loss: 0.2165 - acc: 0.9718 - val_loss: 0.1136 - val_acc: 0.9723\n",
      "Epoch 55/150\n",
      "13423/13423 [==============================] - 0s 16us/step - loss: 0.2055 - acc: 0.9751 - val_loss: 0.0939 - val_acc: 0.9756\n",
      "Epoch 56/150\n",
      "13423/13423 [==============================] - 0s 14us/step - loss: 0.2063 - acc: 0.9741 - val_loss: 0.0761 - val_acc: 0.9799\n",
      "Epoch 57/150\n",
      "13423/13423 [==============================] - 0s 14us/step - loss: 0.2070 - acc: 0.9725 - val_loss: 0.0954 - val_acc: 0.9756\n",
      "Epoch 58/150\n",
      "13423/13423 [==============================] - 0s 21us/step - loss: 0.2127 - acc: 0.9737 - val_loss: 0.1016 - val_acc: 0.9747\n",
      "Epoch 59/150\n"
     ]
    },
    {
     "name": "stdout",
     "output_type": "stream",
     "text": [
      "13423/13423 [==============================] - 0s 21us/step - loss: 0.2085 - acc: 0.9737 - val_loss: 0.1075 - val_acc: 0.9727\n",
      "Epoch 60/150\n",
      "13423/13423 [==============================] - 0s 17us/step - loss: 0.2107 - acc: 0.9741 - val_loss: 0.1147 - val_acc: 0.9696\n",
      "Epoch 61/150\n",
      "13423/13423 [==============================] - 0s 17us/step - loss: 0.2059 - acc: 0.9741 - val_loss: 0.0808 - val_acc: 0.9779\n",
      "Epoch 62/150\n",
      "13423/13423 [==============================] - 0s 19us/step - loss: 0.2117 - acc: 0.9715 - val_loss: 0.0966 - val_acc: 0.9754\n",
      "Epoch 63/150\n",
      "13423/13423 [==============================] - 0s 18us/step - loss: 0.2096 - acc: 0.9740 - val_loss: 0.0810 - val_acc: 0.9772\n",
      "Epoch 64/150\n",
      "13423/13423 [==============================] - 0s 15us/step - loss: 0.2050 - acc: 0.9747 - val_loss: 0.1422 - val_acc: 0.9627\n",
      "Epoch 65/150\n",
      "13423/13423 [==============================] - 0s 15us/step - loss: 0.2082 - acc: 0.9741 - val_loss: 0.1124 - val_acc: 0.9723\n",
      "Epoch 66/150\n",
      "13423/13423 [==============================] - 0s 13us/step - loss: 0.2069 - acc: 0.9750 - val_loss: 0.1074 - val_acc: 0.9734\n",
      "Epoch 67/150\n",
      "13423/13423 [==============================] - 0s 15us/step - loss: 0.2041 - acc: 0.9758 - val_loss: 0.0999 - val_acc: 0.9743\n",
      "Epoch 68/150\n",
      "13423/13423 [==============================] - 0s 15us/step - loss: 0.2033 - acc: 0.9742 - val_loss: 0.0891 - val_acc: 0.9765\n",
      "Epoch 69/150\n",
      "13423/13423 [==============================] - 0s 14us/step - loss: 0.2067 - acc: 0.9735 - val_loss: 0.0965 - val_acc: 0.9750\n",
      "Epoch 70/150\n",
      "13423/13423 [==============================] - 0s 13us/step - loss: 0.2061 - acc: 0.9740 - val_loss: 0.1268 - val_acc: 0.9669\n",
      "Epoch 71/150\n",
      "13423/13423 [==============================] - 0s 15us/step - loss: 0.2038 - acc: 0.9747 - val_loss: 0.1015 - val_acc: 0.9741\n",
      "Epoch 72/150\n",
      "13423/13423 [==============================] - 0s 15us/step - loss: 0.2031 - acc: 0.9736 - val_loss: 0.1030 - val_acc: 0.9736\n",
      "Epoch 73/150\n",
      "13423/13423 [==============================] - 0s 15us/step - loss: 0.2042 - acc: 0.9747 - val_loss: 0.0811 - val_acc: 0.9772\n",
      "Epoch 74/150\n",
      "13423/13423 [==============================] - 0s 15us/step - loss: 0.2025 - acc: 0.9745 - val_loss: 0.0940 - val_acc: 0.9756\n",
      "Epoch 75/150\n",
      "13423/13423 [==============================] - 0s 15us/step - loss: 0.2061 - acc: 0.9749 - val_loss: 0.1017 - val_acc: 0.9739\n",
      "Epoch 76/150\n",
      "13423/13423 [==============================] - 0s 15us/step - loss: 0.2015 - acc: 0.9752 - val_loss: 0.1087 - val_acc: 0.9714\n",
      "Epoch 77/150\n",
      "13423/13423 [==============================] - 0s 14us/step - loss: 0.2022 - acc: 0.9741 - val_loss: 0.0902 - val_acc: 0.9761\n",
      "Epoch 78/150\n",
      "13423/13423 [==============================] - 0s 13us/step - loss: 0.2032 - acc: 0.9752 - val_loss: 0.1820 - val_acc: 0.9437\n",
      "Epoch 79/150\n",
      "13423/13423 [==============================] - 0s 13us/step - loss: 0.2032 - acc: 0.9751 - val_loss: 0.0848 - val_acc: 0.9768\n",
      "Epoch 80/150\n",
      "13423/13423 [==============================] - 0s 13us/step - loss: 0.2038 - acc: 0.9737 - val_loss: 0.0822 - val_acc: 0.9781\n",
      "Epoch 81/150\n",
      "13423/13423 [==============================] - 0s 14us/step - loss: 0.2044 - acc: 0.9751 - val_loss: 0.0912 - val_acc: 0.9761\n",
      "Epoch 82/150\n",
      "13423/13423 [==============================] - 0s 14us/step - loss: 0.2004 - acc: 0.9744 - val_loss: 0.1013 - val_acc: 0.9741\n",
      "Epoch 83/150\n",
      "13423/13423 [==============================] - 0s 14us/step - loss: 0.2025 - acc: 0.9751 - val_loss: 0.1208 - val_acc: 0.9676\n",
      "Epoch 84/150\n",
      "13423/13423 [==============================] - 0s 13us/step - loss: 0.2058 - acc: 0.9744 - val_loss: 0.0905 - val_acc: 0.9761\n",
      "Epoch 85/150\n",
      "13423/13423 [==============================] - 0s 14us/step - loss: 0.2077 - acc: 0.9740 - val_loss: 0.0968 - val_acc: 0.9752\n",
      "Epoch 86/150\n",
      "13423/13423 [==============================] - 0s 13us/step - loss: 0.2107 - acc: 0.9718 - val_loss: 0.1146 - val_acc: 0.9698\n",
      "Epoch 87/150\n",
      "13423/13423 [==============================] - 0s 15us/step - loss: 0.2044 - acc: 0.9747 - val_loss: 0.0909 - val_acc: 0.9763\n",
      "Epoch 88/150\n",
      "13423/13423 [==============================] - 0s 23us/step - loss: 0.2026 - acc: 0.9747 - val_loss: 0.0814 - val_acc: 0.9774\n",
      "Epoch 89/150\n",
      "13423/13423 [==============================] - 0s 16us/step - loss: 0.2008 - acc: 0.9750 - val_loss: 0.0904 - val_acc: 0.9768\n",
      "Epoch 90/150\n",
      "13423/13423 [==============================] - 0s 15us/step - loss: 0.2009 - acc: 0.9744 - val_loss: 0.0917 - val_acc: 0.9765\n",
      "Epoch 91/150\n",
      "13423/13423 [==============================] - 0s 15us/step - loss: 0.2037 - acc: 0.9749 - val_loss: 0.1354 - val_acc: 0.9647\n",
      "Epoch 92/150\n",
      "13423/13423 [==============================] - 0s 15us/step - loss: 0.2042 - acc: 0.9740 - val_loss: 0.0895 - val_acc: 0.9759\n",
      "Epoch 93/150\n",
      "13423/13423 [==============================] - 0s 14us/step - loss: 0.2035 - acc: 0.9736 - val_loss: 0.1101 - val_acc: 0.9721\n",
      "Epoch 94/150\n",
      "13423/13423 [==============================] - 0s 20us/step - loss: 0.2010 - acc: 0.9756 - val_loss: 0.1155 - val_acc: 0.9707\n",
      "Epoch 95/150\n",
      "13423/13423 [==============================] - 0s 16us/step - loss: 0.2016 - acc: 0.9733 - val_loss: 0.1235 - val_acc: 0.9685\n",
      "Epoch 96/150\n",
      "13423/13423 [==============================] - 0s 15us/step - loss: 0.2021 - acc: 0.9741 - val_loss: 0.0892 - val_acc: 0.9756\n",
      "Epoch 97/150\n",
      "13423/13423 [==============================] - 0s 15us/step - loss: 0.2046 - acc: 0.9728 - val_loss: 0.0987 - val_acc: 0.9739\n",
      "Epoch 98/150\n",
      "13423/13423 [==============================] - 0s 14us/step - loss: 0.1979 - acc: 0.9744 - val_loss: 0.0779 - val_acc: 0.9779\n",
      "Epoch 99/150\n",
      "13423/13423 [==============================] - 0s 13us/step - loss: 0.1986 - acc: 0.9747 - val_loss: 0.1433 - val_acc: 0.9596\n",
      "Epoch 100/150\n",
      "13423/13423 [==============================] - 0s 14us/step - loss: 0.2082 - acc: 0.9732 - val_loss: 0.1155 - val_acc: 0.9694\n",
      "Epoch 101/150\n",
      "13423/13423 [==============================] - 0s 13us/step - loss: 0.2039 - acc: 0.9745 - val_loss: 0.0992 - val_acc: 0.9747\n",
      "Epoch 102/150\n",
      "13423/13423 [==============================] - 0s 14us/step - loss: 0.2006 - acc: 0.9722 - val_loss: 0.0733 - val_acc: 0.9792\n",
      "Epoch 103/150\n",
      "13423/13423 [==============================] - 0s 17us/step - loss: 0.2006 - acc: 0.9754 - val_loss: 0.0910 - val_acc: 0.9754\n",
      "Epoch 104/150\n",
      "13423/13423 [==============================] - 0s 20us/step - loss: 0.2005 - acc: 0.9742 - val_loss: 0.1145 - val_acc: 0.9707\n",
      "Epoch 105/150\n",
      "13423/13423 [==============================] - 0s 15us/step - loss: 0.1999 - acc: 0.9746 - val_loss: 0.0993 - val_acc: 0.9747\n",
      "Epoch 106/150\n",
      "13423/13423 [==============================] - 0s 16us/step - loss: 0.1984 - acc: 0.9739 - val_loss: 0.1098 - val_acc: 0.9712\n",
      "Epoch 107/150\n",
      "13423/13423 [==============================] - 0s 16us/step - loss: 0.1995 - acc: 0.9733 - val_loss: 0.1368 - val_acc: 0.9636\n",
      "Epoch 108/150\n",
      "13423/13423 [==============================] - 0s 15us/step - loss: 0.2010 - acc: 0.9743 - val_loss: 0.0962 - val_acc: 0.9752\n",
      "Epoch 109/150\n",
      "13423/13423 [==============================] - 0s 16us/step - loss: 0.2067 - acc: 0.9720 - val_loss: 0.0786 - val_acc: 0.9783\n",
      "Epoch 110/150\n",
      "13423/13423 [==============================] - 0s 15us/step - loss: 0.2018 - acc: 0.9741 - val_loss: 0.0761 - val_acc: 0.9788\n",
      "Epoch 111/150\n",
      "13423/13423 [==============================] - 0s 14us/step - loss: 0.2037 - acc: 0.9738 - val_loss: 0.0813 - val_acc: 0.9772\n",
      "Epoch 112/150\n",
      "13423/13423 [==============================] - 0s 14us/step - loss: 0.1977 - acc: 0.9741 - val_loss: 0.0897 - val_acc: 0.9756\n",
      "Epoch 113/150\n",
      "13423/13423 [==============================] - 0s 13us/step - loss: 0.2006 - acc: 0.9739 - val_loss: 0.1368 - val_acc: 0.9611\n",
      "Epoch 114/150\n",
      "13423/13423 [==============================] - 0s 14us/step - loss: 0.2047 - acc: 0.9730 - val_loss: 0.1050 - val_acc: 0.9727\n",
      "Epoch 115/150\n",
      "13423/13423 [==============================] - 0s 14us/step - loss: 0.2000 - acc: 0.9735 - val_loss: 0.0908 - val_acc: 0.9765\n",
      "Epoch 116/150\n",
      "13423/13423 [==============================] - 0s 14us/step - loss: 0.2001 - acc: 0.9746 - val_loss: 0.0808 - val_acc: 0.9770\n",
      "Epoch 117/150\n",
      "13423/13423 [==============================] - 0s 14us/step - loss: 0.2003 - acc: 0.9739 - val_loss: 0.1436 - val_acc: 0.9604\n"
     ]
    },
    {
     "name": "stdout",
     "output_type": "stream",
     "text": [
      "Epoch 118/150\n",
      "13423/13423 [==============================] - 0s 13us/step - loss: 0.2040 - acc: 0.9727 - val_loss: 0.0987 - val_acc: 0.9736\n",
      "Epoch 119/150\n",
      "13423/13423 [==============================] - 0s 13us/step - loss: 0.1998 - acc: 0.9751 - val_loss: 0.0969 - val_acc: 0.9736\n",
      "Epoch 120/150\n",
      "13423/13423 [==============================] - 0s 14us/step - loss: 0.1981 - acc: 0.9738 - val_loss: 0.0997 - val_acc: 0.9747\n",
      "Epoch 121/150\n",
      "13423/13423 [==============================] - 0s 13us/step - loss: 0.1977 - acc: 0.9742 - val_loss: 0.0924 - val_acc: 0.9750\n",
      "Epoch 122/150\n",
      "13423/13423 [==============================] - 0s 20us/step - loss: 0.2012 - acc: 0.9750 - val_loss: 0.1229 - val_acc: 0.9669\n",
      "Epoch 123/150\n",
      "13423/13423 [==============================] - 0s 15us/step - loss: 0.1966 - acc: 0.9739 - val_loss: 0.1215 - val_acc: 0.9678\n",
      "Epoch 124/150\n",
      "13423/13423 [==============================] - 0s 15us/step - loss: 0.2024 - acc: 0.9717 - val_loss: 0.0782 - val_acc: 0.9772\n",
      "Epoch 125/150\n",
      "13423/13423 [==============================] - 0s 15us/step - loss: 0.2043 - acc: 0.9736 - val_loss: 0.0900 - val_acc: 0.9759\n",
      "Epoch 126/150\n",
      "13423/13423 [==============================] - 0s 15us/step - loss: 0.1957 - acc: 0.9744 - val_loss: 0.1249 - val_acc: 0.9658\n",
      "Epoch 127/150\n",
      "13423/13423 [==============================] - 0s 15us/step - loss: 0.1989 - acc: 0.9740 - val_loss: 0.0979 - val_acc: 0.9732\n",
      "Epoch 128/150\n",
      "13423/13423 [==============================] - 0s 16us/step - loss: 0.2003 - acc: 0.9742 - val_loss: 0.0807 - val_acc: 0.9777\n",
      "Epoch 129/150\n",
      "13423/13423 [==============================] - 0s 15us/step - loss: 0.1954 - acc: 0.9743 - val_loss: 0.1000 - val_acc: 0.9741\n",
      "Epoch 130/150\n",
      "13423/13423 [==============================] - 0s 13us/step - loss: 0.1962 - acc: 0.9757 - val_loss: 0.0949 - val_acc: 0.9750\n",
      "Epoch 131/150\n",
      "13423/13423 [==============================] - 0s 13us/step - loss: 0.1970 - acc: 0.9746 - val_loss: 0.0939 - val_acc: 0.9743\n",
      "Epoch 132/150\n",
      "13423/13423 [==============================] - 0s 15us/step - loss: 0.1963 - acc: 0.9742 - val_loss: 0.0903 - val_acc: 0.9752\n",
      "Epoch 133/150\n",
      "13423/13423 [==============================] - 0s 13us/step - loss: 0.2019 - acc: 0.9732 - val_loss: 0.0881 - val_acc: 0.9763\n",
      "Epoch 134/150\n",
      "13423/13423 [==============================] - 0s 15us/step - loss: 0.1966 - acc: 0.9733 - val_loss: 0.0898 - val_acc: 0.9761\n",
      "Epoch 135/150\n",
      "13423/13423 [==============================] - 0s 13us/step - loss: 0.2075 - acc: 0.9729 - val_loss: 0.0795 - val_acc: 0.9765\n",
      "Epoch 136/150\n",
      "13423/13423 [==============================] - 0s 19us/step - loss: 0.1972 - acc: 0.9739 - val_loss: 0.0830 - val_acc: 0.9772\n",
      "Epoch 137/150\n",
      "13423/13423 [==============================] - 0s 21us/step - loss: 0.1960 - acc: 0.9733 - val_loss: 0.1624 - val_acc: 0.9531\n",
      "Epoch 138/150\n",
      "13423/13423 [==============================] - 0s 21us/step - loss: 0.1985 - acc: 0.9740 - val_loss: 0.0983 - val_acc: 0.9739\n",
      "Epoch 139/150\n",
      "13423/13423 [==============================] - 0s 15us/step - loss: 0.1972 - acc: 0.9749 - val_loss: 0.1128 - val_acc: 0.9721\n",
      "Epoch 140/150\n",
      "13423/13423 [==============================] - 0s 24us/step - loss: 0.1950 - acc: 0.9744 - val_loss: 0.1076 - val_acc: 0.9721\n",
      "Epoch 141/150\n",
      "13423/13423 [==============================] - 0s 20us/step - loss: 0.1993 - acc: 0.9744 - val_loss: 0.0949 - val_acc: 0.9741\n",
      "Epoch 142/150\n",
      "13423/13423 [==============================] - 0s 16us/step - loss: 0.1993 - acc: 0.9740 - val_loss: 0.0918 - val_acc: 0.9754\n",
      "Epoch 143/150\n",
      "13423/13423 [==============================] - 0s 14us/step - loss: 0.2009 - acc: 0.9732 - val_loss: 0.1191 - val_acc: 0.9689\n",
      "Epoch 144/150\n",
      "13423/13423 [==============================] - 0s 15us/step - loss: 0.1977 - acc: 0.9741 - val_loss: 0.0913 - val_acc: 0.9741\n",
      "Epoch 145/150\n",
      "13423/13423 [==============================] - 0s 15us/step - loss: 0.1974 - acc: 0.9735 - val_loss: 0.0841 - val_acc: 0.9763\n",
      "Epoch 146/150\n",
      "13423/13423 [==============================] - 0s 15us/step - loss: 0.2002 - acc: 0.9736 - val_loss: 0.0932 - val_acc: 0.9745\n",
      "Epoch 147/150\n",
      "13423/13423 [==============================] - 0s 15us/step - loss: 0.1977 - acc: 0.9743 - val_loss: 0.0786 - val_acc: 0.9772\n",
      "Epoch 148/150\n",
      "13423/13423 [==============================] - 0s 16us/step - loss: 0.1957 - acc: 0.9731 - val_loss: 0.1103 - val_acc: 0.9707\n",
      "Epoch 149/150\n",
      "13423/13423 [==============================] - 0s 15us/step - loss: 0.1948 - acc: 0.9750 - val_loss: 0.1289 - val_acc: 0.9649\n",
      "Epoch 150/150\n",
      "13423/13423 [==============================] - 0s 15us/step - loss: 0.1986 - acc: 0.9743 - val_loss: 0.0804 - val_acc: 0.9770\n"
     ]
    }
   ],
   "source": [
    "# Stochastic Gradient descent optimizer with learning rate = 0.12\n",
    "sgd = SGD(lr=0.12, momentum=0.9)\n",
    "\n",
    "model.compile(loss='binary_crossentropy', optimizer=sgd,\n",
    "    metrics=[\"accuracy\"])\n",
    "\n",
    "class_weight = { 0 : 1., 1 : 5.}\n",
    "\n",
    "H = model.fit(trainX, trainY, validation_data=(testX, testY), \n",
    "              batch_size=128, epochs=150, class_weight=class_weight)"
   ]
  },
  {
   "cell_type": "markdown",
   "metadata": {},
   "source": [
    "At this point we are ready to analyze the results from our neural network. Calling the .predict method on our model will give us the predictions from our testing set. In addition, as the output from our network is given by the sigmoid activation function, the outputs values are real number in the range [0,1], so, we need to apply a step function to threshold the outputs to binary class labels. Lastly, we print a report showing us the performance of the model."
   ]
  },
  {
   "cell_type": "code",
   "execution_count": 90,
   "metadata": {
    "_uuid": "1de109def43c2d85aa686fe759a1980957cd6988"
   },
   "outputs": [
    {
     "name": "stdout",
     "output_type": "stream",
     "text": [
      "                 precision    recall  f1-score   support\n",
      "\n",
      "Non-pulsar Star       0.99      0.99      0.99      4051\n",
      "    Pulsar Star       0.88      0.88      0.88       424\n",
      "\n",
      "      micro avg       0.98      0.98      0.98      4475\n",
      "      macro avg       0.93      0.93      0.93      4475\n",
      "   weighted avg       0.98      0.98      0.98      4475\n",
      "\n"
     ]
    }
   ],
   "source": [
    "predictions = model.predict(testX, batch_size=128)\n",
    "\n",
    "# apply a step function to threshold the outputs to binary\n",
    "# class labels\n",
    "predictions[predictions < 0.5] = 0\n",
    "predictions[predictions >= 0.5] = 1\n",
    "\n",
    "print(classification_report(testY, predictions,\n",
    "    target_names=['Non-pulsar Star', 'Pulsar Star']))"
   ]
  },
  {
   "cell_type": "markdown",
   "metadata": {},
   "source": [
    "Look at the above situation, we can see that there way more instances of non-pulsar stars than pulsar stars in our test set, this is called class imbalance. This implies that we can not probe the performance of our model only by taking into account the precision values. In fact, we have 17898 total examples and among those we have 1639 positive and 16259 negative examples."
   ]
  },
  {
   "cell_type": "markdown",
   "metadata": {},
   "source": [
    "It is also important to visualize the confusion matrix of our predictions, this can lead us to a more precise visualization and comprehension about where the numbers in our report came from."
   ]
  },
  {
   "cell_type": "code",
   "execution_count": 91,
   "metadata": {},
   "outputs": [
    {
     "name": "stdout",
     "output_type": "stream",
     "text": [
      "[[3999   52]\n",
      " [  51  373]]\n"
     ]
    }
   ],
   "source": [
    "# Confusion matrix\n",
    "print(confusion_matrix(testY, predictions))"
   ]
  },
  {
   "cell_type": "code",
   "execution_count": 92,
   "metadata": {
    "_uuid": "d1611f860f5b1b2c370da63371a3ff2896ae8626"
   },
   "outputs": [
    {
     "data": {
      "text/plain": [
       "<matplotlib.legend.Legend at 0x7eff781c8240>"
      ]
     },
     "execution_count": 92,
     "metadata": {},
     "output_type": "execute_result"
    },
    {
     "data": {
      "image/png": "[encoded data removed]",
      "text/plain": [
       "<Figure size 432x288 with 1 Axes>"
      ]
     },
     "metadata": {},
     "output_type": "display_data"
    }
   ],
   "source": [
    "# Plotting the curve Epoch vs. Loss/Accuracy\n",
    "plt.style.use(\"ggplot\")\n",
    "plt.figure()\n",
    "plt.plot(np.arange(0, 150), H.history[\"loss\"], label=\"train_loss\")\n",
    "plt.plot(np.arange(0, 150), H.history[\"val_loss\"], label=\"val_loss\")\n",
    "plt.plot(np.arange(0, 150), H.history[\"acc\"], label=\"train_acc\")\n",
    "plt.plot(np.arange(0, 150), H.history[\"val_acc\"], label=\"val_acc\")\n",
    "plt.title(\"Training Loss and Accuracy\")\n",
    "plt.xlabel(\"Epoch #\")\n",
    "plt.ylabel(\"Loss/Accuracy\")\n",
    "plt.legend()\n",
    "#plt.savefig('plot_complex.png')"
   ]
  },
  {
   "cell_type": "code",
   "execution_count": 37,
   "metadata": {},
   "outputs": [
    {
     "data": {
      "text/html": [
       "<div>\n",
       "<style scoped>\n",
       "    .dataframe tbody tr th:only-of-type {\n",
       "        vertical-align: middle;\n",
       "    }\n",
       "\n",
       "    .dataframe tbody tr th {\n",
       "        vertical-align: top;\n",
       "    }\n",
       "\n",
       "    .dataframe thead th {\n",
       "        text-align: right;\n",
       "    }\n",
       "</style>\n",
       "<table border=\"1\" class=\"dataframe\">\n",
       "  <thead>\n",
       "    <tr style=\"text-align: right;\">\n",
       "      <th></th>\n",
       "      <th>Mean of the integrated profile</th>\n",
       "      <th>Standard deviation of the integrated profile</th>\n",
       "      <th>Excess kurtosis of the integrated profile</th>\n",
       "      <th>Skewness of the integrated profile</th>\n",
       "      <th>Mean of the DM-SNR curve</th>\n",
       "      <th>Standard deviation of the DM-SNR curve</th>\n",
       "      <th>Excess kurtosis of the DM-SNR curve</th>\n",
       "      <th>Skewness of the DM-SNR curve</th>\n",
       "      <th>target_class</th>\n",
       "    </tr>\n",
       "  </thead>\n",
       "  <tbody>\n",
       "    <tr>\n",
       "      <th>0</th>\n",
       "      <td>140.562500</td>\n",
       "      <td>55.683782</td>\n",
       "      <td>-0.234571</td>\n",
       "      <td>-0.699648</td>\n",
       "      <td>3.199833</td>\n",
       "      <td>19.110426</td>\n",
       "      <td>7.975532</td>\n",
       "      <td>74.242225</td>\n",
       "      <td>0</td>\n",
       "    </tr>\n",
       "    <tr>\n",
       "      <th>1</th>\n",
       "      <td>102.507812</td>\n",
       "      <td>58.882430</td>\n",
       "      <td>0.465318</td>\n",
       "      <td>-0.515088</td>\n",
       "      <td>1.677258</td>\n",
       "      <td>14.860146</td>\n",
       "      <td>10.576487</td>\n",
       "      <td>127.393580</td>\n",
       "      <td>0</td>\n",
       "    </tr>\n",
       "    <tr>\n",
       "      <th>2</th>\n",
       "      <td>103.015625</td>\n",
       "      <td>39.341649</td>\n",
       "      <td>0.323328</td>\n",
       "      <td>1.051164</td>\n",
       "      <td>3.121237</td>\n",
       "      <td>21.744669</td>\n",
       "      <td>7.735822</td>\n",
       "      <td>63.171909</td>\n",
       "      <td>0</td>\n",
       "    </tr>\n",
       "    <tr>\n",
       "      <th>3</th>\n",
       "      <td>136.750000</td>\n",
       "      <td>57.178449</td>\n",
       "      <td>-0.068415</td>\n",
       "      <td>-0.636238</td>\n",
       "      <td>3.642977</td>\n",
       "      <td>20.959280</td>\n",
       "      <td>6.896499</td>\n",
       "      <td>53.593661</td>\n",
       "      <td>0</td>\n",
       "    </tr>\n",
       "    <tr>\n",
       "      <th>4</th>\n",
       "      <td>88.726562</td>\n",
       "      <td>40.672225</td>\n",
       "      <td>0.600866</td>\n",
       "      <td>1.123492</td>\n",
       "      <td>1.178930</td>\n",
       "      <td>11.468720</td>\n",
       "      <td>14.269573</td>\n",
       "      <td>252.567306</td>\n",
       "      <td>0</td>\n",
       "    </tr>\n",
       "  </tbody>\n",
       "</table>\n",
       "</div>"
      ],
      "text/plain": [
       "    Mean of the integrated profile  \\\n",
       "0                       140.562500   \n",
       "1                       102.507812   \n",
       "2                       103.015625   \n",
       "3                       136.750000   \n",
       "4                        88.726562   \n",
       "\n",
       "    Standard deviation of the integrated profile  \\\n",
       "0                                      55.683782   \n",
       "1                                      58.882430   \n",
       "2                                      39.341649   \n",
       "3                                      57.178449   \n",
       "4                                      40.672225   \n",
       "\n",
       "    Excess kurtosis of the integrated profile  \\\n",
       "0                                   -0.234571   \n",
       "1                                    0.465318   \n",
       "2                                    0.323328   \n",
       "3                                   -0.068415   \n",
       "4                                    0.600866   \n",
       "\n",
       "    Skewness of the integrated profile   Mean of the DM-SNR curve  \\\n",
       "0                            -0.699648                   3.199833   \n",
       "1                            -0.515088                   1.677258   \n",
       "2                             1.051164                   3.121237   \n",
       "3                            -0.636238                   3.642977   \n",
       "4                             1.123492                   1.178930   \n",
       "\n",
       "    Standard deviation of the DM-SNR curve  \\\n",
       "0                                19.110426   \n",
       "1                                14.860146   \n",
       "2                                21.744669   \n",
       "3                                20.959280   \n",
       "4                                11.468720   \n",
       "\n",
       "    Excess kurtosis of the DM-SNR curve   Skewness of the DM-SNR curve  \\\n",
       "0                              7.975532                      74.242225   \n",
       "1                             10.576487                     127.393580   \n",
       "2                              7.735822                      63.171909   \n",
       "3                              6.896499                      53.593661   \n",
       "4                             14.269573                     252.567306   \n",
       "\n",
       "   target_class  \n",
       "0             0  \n",
       "1             0  \n",
       "2             0  \n",
       "3             0  \n",
       "4             0  "
      ]
     },
     "execution_count": 37,
     "metadata": {},
     "output_type": "execute_result"
    }
   ],
   "source": [
    "dataset.head()"
   ]
  },
  {
   "cell_type": "code",
   "execution_count": null,
   "metadata": {},
   "outputs": [],
   "source": []
  }
 ],
 "metadata": {
  "kernelspec": {
   "display_name": "Python 3",
   "language": "python",
   "name": "python3"
  },
  "language_info": {
   "codemirror_mode": {
    "name": "ipython",
    "version": 3
   },
   "file_extension": ".py",
   "mimetype": "text/x-python",
   "name": "python",
   "nbconvert_exporter": "python",
   "pygments_lexer": "ipython3",
   "version": "3.6.6"
  }
 },
 "nbformat": 4,
 "nbformat_minor": 1
}
