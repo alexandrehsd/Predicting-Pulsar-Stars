{
 "cells": [
  {
   "cell_type": "code",
   "execution_count": 138,
   "metadata": {},
   "outputs": [],
   "source": [
    "# import the necessary packages\n",
    "from sklearn.preprocessing import LabelBinarizer\n",
    "from sklearn.model_selection import train_test_split\n",
    "from sklearn.metrics import classification_report, confusion_matrix\n",
    "\n",
    "from keras.models import Sequential\n",
    "from keras.layers.core import Dense, Dropout\n",
    "from keras.optimizers import SGD\n",
    "from keras import regularizers\n",
    "\n",
    "import seaborn as sns\n",
    "import matplotlib.pyplot as plt\n",
    "import numpy as np\n",
    "import pandas as pd"
   ]
  },
  {
   "cell_type": "code",
   "execution_count": 139,
   "metadata": {},
   "outputs": [],
   "source": [
    "# Loading the dataset\n",
    "dataset = pd.read_csv('pulsar_stars.csv')"
   ]
  },
  {
   "cell_type": "markdown",
   "metadata": {},
   "source": [
    "1. Once the dataset is loaded, let's see some relevant information about the dataset such as column's titles and types, number of records and shape."
   ]
  },
  {
   "cell_type": "code",
   "execution_count": 140,
   "metadata": {},
   "outputs": [
    {
     "name": "stdout",
     "output_type": "stream",
     "text": [
      "<class 'pandas.core.frame.DataFrame'>\n",
      "RangeIndex: 17898 entries, 0 to 17897\n",
      "Data columns (total 9 columns):\n",
      " Mean of the integrated profile                  17898 non-null float64\n",
      " Standard deviation of the integrated profile    17898 non-null float64\n",
      " Excess kurtosis of the integrated profile       17898 non-null float64\n",
      " Skewness of the integrated profile              17898 non-null float64\n",
      " Mean of the DM-SNR curve                        17898 non-null float64\n",
      " Standard deviation of the DM-SNR curve          17898 non-null float64\n",
      " Excess kurtosis of the DM-SNR curve             17898 non-null float64\n",
      " Skewness of the DM-SNR curve                    17898 non-null float64\n",
      "target_class                                     17898 non-null int64\n",
      "dtypes: float64(8), int64(1)\n",
      "memory usage: 1.2 MB\n",
      "None\n"
     ]
    }
   ],
   "source": [
    "# EDA\n",
    "print(dataset.info())"
   ]
  },
  {
   "cell_type": "code",
   "execution_count": 141,
   "metadata": {},
   "outputs": [
    {
     "name": "stdout",
     "output_type": "stream",
     "text": [
      " Mean of the integrated profile                  0\n",
      " Standard deviation of the integrated profile    0\n",
      " Excess kurtosis of the integrated profile       0\n",
      " Skewness of the integrated profile              0\n",
      " Mean of the DM-SNR curve                        0\n",
      " Standard deviation of the DM-SNR curve          0\n",
      " Excess kurtosis of the DM-SNR curve             0\n",
      " Skewness of the DM-SNR curve                    0\n",
      "target_class                                     0\n",
      "dtype: int64\n"
     ]
    }
   ],
   "source": [
    "# Missing values\n",
    "print (dataset.isnull().sum())"
   ]
  },
  {
   "cell_type": "code",
   "execution_count": 142,
   "metadata": {},
   "outputs": [],
   "source": [
    "# Plotting the correlation between variables\n",
    "#correlation = dataset.corr()\n",
    "\n",
    "#plt.figure(figsize=(10,8))\n",
    "\n",
    "#sns.heatmap(correlation,annot=True,\n",
    "            #cmap=sns.color_palette(\"magma\"),\n",
    "            #linewidth=2,edgecolor=\"k\")\n",
    "\n",
    "#plt.title(\"CORRELATION BETWEEN VARIABLES\")\n",
    "#plt.savefig('correlation_between_variabels.png', bbox_inches='tight')"
   ]
  },
  {
   "cell_type": "markdown",
   "metadata": {},
   "source": [
    "Now, Pay close attention to this plot. Note that the proportion between classes in the dataset is very imbalanced, this is a common problem encountered among many datasets in the real-world. This leads to the accuracy paradox, which implies that we'll need to use more than the usual approach to achieve a reasonable performance while training the neural network."
   ]
  },
  {
   "cell_type": "code",
   "execution_count": 143,
   "metadata": {
    "scrolled": true
   },
   "outputs": [],
   "source": [
    "#plt.figure(figsize=(12,6))\n",
    "#plt.subplot(121)\n",
    "#ax = sns.countplot(y = dataset[\"target_class\"],\n",
    "                   #palette=[\"g\",\"b\"],\n",
    "                   #linewidth=1,\n",
    "                   #edgecolor=\"k\"*2)\n",
    "#for i,j in enumerate(dataset[\"target_class\"].value_counts().values):\n",
    "    #ax.text(.7,i,j,weight = \"bold\",fontsize = 27)\n",
    "#plt.title(\"Count for target variable in datset\")\n",
    "\n",
    "\n",
    "#plt.subplot(122)\n",
    "#plt.pie(dataset[\"target_class\"].value_counts().values,\n",
    "        #labels=[\"not pulsar stars\",\"pulsar stars\"],\n",
    "        #autopct=\"%1.0f%%\",wedgeprops={\"linewidth\":2,\"edgecolor\":\"white\"})\n",
    "#my_circ = plt.Circle((0,0),.7,color = \"white\")\n",
    "#plt.gca().add_artist(my_circ)\n",
    "#plt.subplots_adjust(wspace = .2)\n",
    "#plt.title(\"Proportion of target variable in dataset\")\n",
    "#plt.savefig('proportion_between_classes.jpg')"
   ]
  },
  {
   "cell_type": "markdown",
   "metadata": {},
   "source": [
    "2. Now, let's divide our dataset into two subsets: data and target."
   ]
  },
  {
   "cell_type": "code",
   "execution_count": 144,
   "metadata": {},
   "outputs": [],
   "source": [
    "from sklearn.preprocessing import StandardScaler\n",
    "# Droping the target column\n",
    "data = dataset.drop(['target_class'], axis=1)\n",
    "\n",
    "# Normalizing the data for all data points to fit in the range [0,1]\n",
    "scaler = StandardScaler()\n",
    "data = scaler.fit_transform(data)\n",
    "\n",
    "target = dataset[['target_class']]"
   ]
  },
  {
   "cell_type": "code",
   "execution_count": 145,
   "metadata": {},
   "outputs": [],
   "source": [
    "# UNDERSAMPLING Saved for later improvement\n",
    "#from imblearn.under_sampling import RandomUnderSampler\n",
    "\n",
    "#rus = RandomUnderSampler(ratio = {0 : 8000, 1 : 1639}, return_indices=True)\n",
    "#X_rus, y_rus, id_rus = rus.fit_sample(data, target)"
   ]
  },
  {
   "cell_type": "code",
   "execution_count": 146,
   "metadata": {},
   "outputs": [],
   "source": [
    "# Construct the training and testing splits \n",
    "trainX, testX, trainY, testY = train_test_split(data, target, test_size=0.25)"
   ]
  },
  {
   "cell_type": "markdown",
   "metadata": {},
   "source": [
    "Machine Learning algorithms works better when integer labels are transformed into vector labels. In order to accomplish this transformation I will instantiate a LabelBinarizer object and apply the transformation methods into our trainY and testY sets."
   ]
  },
  {
   "cell_type": "code",
   "execution_count": 147,
   "metadata": {},
   "outputs": [],
   "source": [
    "lb = LabelBinarizer()\n",
    "trainY = lb.fit_transform(trainY)\n",
    "testY = lb.transform(testY)"
   ]
  },
  {
   "cell_type": "markdown",
   "metadata": {},
   "source": [
    "With keras, it is possible to define models to our neural network (nn). In this case, we are going to work with a Sequential nn, which is just the nn as we already know, i.e., each layer has as its input the output of the former layer. It is worth mention that our neural network is 8-4-2-1."
   ]
  },
  {
   "cell_type": "code",
   "execution_count": 148,
   "metadata": {},
   "outputs": [],
   "source": [
    "# Defining the model\n",
    "model = Sequential()\n",
    "model.add(Dense(4, input_shape=(8,), activation='sigmoid'))\n",
    "model.add(Dense(2, activation='sigmoid'))\n",
    "model.add(Dense(1, activation='sigmoid'))"
   ]
  },
  {
   "cell_type": "markdown",
   "metadata": {},
   "source": [
    "We are going to use the Stochastic Gradient Descent technique as an optimizer, initially with a learning rate = 0.12 and a momentum = 0.7. Furthermore, as this is a binary classification problem, in this case a common loss function to use is the binary cross-entropy. However, as we have imbalanced classes, we need to tell the network that during the training, the positive class is more important than the negative. This has been done through the class weight dictionary, in this case, I am telling the network that during the training data positive points are 7 times more important than the negative ones."
   ]
  },
  {
   "cell_type": "code",
   "execution_count": 149,
   "metadata": {},
   "outputs": [
    {
     "name": "stdout",
     "output_type": "stream",
     "text": [
      "Train on 13423 samples, validate on 4475 samples\n",
      "Epoch 1/150\n",
      " - 2s - loss: 0.4281 - acc: 0.9103 - val_loss: 0.2601 - val_acc: 0.9028\n",
      "Epoch 2/150\n",
      " - 0s - loss: 0.3357 - acc: 0.9103 - val_loss: 0.2050 - val_acc: 0.9028\n",
      "Epoch 3/150\n",
      " - 0s - loss: 0.2672 - acc: 0.9251 - val_loss: 0.1742 - val_acc: 0.9540\n",
      "Epoch 4/150\n",
      " - 0s - loss: 0.2235 - acc: 0.9607 - val_loss: 0.1466 - val_acc: 0.9634\n",
      "Epoch 5/150\n",
      " - 0s - loss: 0.1893 - acc: 0.9724 - val_loss: 0.1225 - val_acc: 0.9716\n",
      "Epoch 6/150\n",
      " - 0s - loss: 0.1647 - acc: 0.9772 - val_loss: 0.1101 - val_acc: 0.9736\n",
      "Epoch 7/150\n",
      " - 0s - loss: 0.1501 - acc: 0.9778 - val_loss: 0.1010 - val_acc: 0.9759\n",
      "Epoch 8/150\n",
      " - 0s - loss: 0.1410 - acc: 0.9777 - val_loss: 0.0974 - val_acc: 0.9759\n",
      "Epoch 9/150\n",
      " - 0s - loss: 0.1350 - acc: 0.9778 - val_loss: 0.0926 - val_acc: 0.9777\n",
      "Epoch 10/150\n",
      " - 0s - loss: 0.1309 - acc: 0.9781 - val_loss: 0.0915 - val_acc: 0.9768\n",
      "Epoch 11/150\n",
      " - 0s - loss: 0.1279 - acc: 0.9782 - val_loss: 0.0892 - val_acc: 0.9772\n",
      "Epoch 12/150\n",
      " - 0s - loss: 0.1257 - acc: 0.9784 - val_loss: 0.0877 - val_acc: 0.9779\n",
      "Epoch 13/150\n",
      " - 0s - loss: 0.1238 - acc: 0.9782 - val_loss: 0.0853 - val_acc: 0.9777\n",
      "Epoch 14/150\n",
      " - 0s - loss: 0.1226 - acc: 0.9788 - val_loss: 0.0866 - val_acc: 0.9765\n",
      "Epoch 15/150\n",
      " - 0s - loss: 0.1213 - acc: 0.9785 - val_loss: 0.0853 - val_acc: 0.9777\n",
      "Epoch 16/150\n",
      " - 0s - loss: 0.1204 - acc: 0.9785 - val_loss: 0.0861 - val_acc: 0.9768\n",
      "Epoch 17/150\n",
      " - 0s - loss: 0.1195 - acc: 0.9783 - val_loss: 0.0848 - val_acc: 0.9770\n",
      "Epoch 18/150\n",
      " - 0s - loss: 0.1187 - acc: 0.9788 - val_loss: 0.0859 - val_acc: 0.9774\n",
      "Epoch 19/150\n",
      " - 0s - loss: 0.1181 - acc: 0.9781 - val_loss: 0.0840 - val_acc: 0.9779\n",
      "Epoch 20/150\n",
      " - 0s - loss: 0.1173 - acc: 0.9784 - val_loss: 0.0818 - val_acc: 0.9772\n",
      "Epoch 21/150\n",
      " - 0s - loss: 0.1169 - acc: 0.9785 - val_loss: 0.0826 - val_acc: 0.9785\n",
      "Epoch 22/150\n",
      " - 0s - loss: 0.1163 - acc: 0.9791 - val_loss: 0.0845 - val_acc: 0.9770\n",
      "Epoch 23/150\n",
      " - 0s - loss: 0.1160 - acc: 0.9783 - val_loss: 0.0820 - val_acc: 0.9788\n",
      "Epoch 24/150\n",
      " - 0s - loss: 0.1153 - acc: 0.9789 - val_loss: 0.0811 - val_acc: 0.9779\n",
      "Epoch 25/150\n",
      " - 0s - loss: 0.1150 - acc: 0.9791 - val_loss: 0.0804 - val_acc: 0.9792\n",
      "Epoch 26/150\n",
      " - 0s - loss: 0.1145 - acc: 0.9793 - val_loss: 0.0810 - val_acc: 0.9788\n",
      "Epoch 27/150\n",
      " - 0s - loss: 0.1141 - acc: 0.9792 - val_loss: 0.0815 - val_acc: 0.9777\n",
      "Epoch 28/150\n",
      " - 0s - loss: 0.1136 - acc: 0.9792 - val_loss: 0.0812 - val_acc: 0.9783\n",
      "Epoch 29/150\n",
      " - 0s - loss: 0.1133 - acc: 0.9792 - val_loss: 0.0800 - val_acc: 0.9785\n",
      "Epoch 30/150\n",
      " - 0s - loss: 0.1129 - acc: 0.9791 - val_loss: 0.0821 - val_acc: 0.9779\n",
      "Epoch 31/150\n",
      " - 0s - loss: 0.1126 - acc: 0.9788 - val_loss: 0.0792 - val_acc: 0.9794\n",
      "Epoch 32/150\n",
      " - 0s - loss: 0.1124 - acc: 0.9794 - val_loss: 0.0817 - val_acc: 0.9777\n",
      "Epoch 33/150\n",
      " - 0s - loss: 0.1120 - acc: 0.9797 - val_loss: 0.0788 - val_acc: 0.9792\n",
      "Epoch 34/150\n",
      " - 0s - loss: 0.1118 - acc: 0.9795 - val_loss: 0.0786 - val_acc: 0.9797\n",
      "Epoch 35/150\n",
      " - 0s - loss: 0.1113 - acc: 0.9792 - val_loss: 0.0790 - val_acc: 0.9792\n",
      "Epoch 36/150\n",
      " - 0s - loss: 0.1112 - acc: 0.9794 - val_loss: 0.0808 - val_acc: 0.9783\n",
      "Epoch 37/150\n",
      " - 0s - loss: 0.1111 - acc: 0.9794 - val_loss: 0.0805 - val_acc: 0.9781\n",
      "Epoch 38/150\n",
      " - 0s - loss: 0.1109 - acc: 0.9788 - val_loss: 0.0779 - val_acc: 0.9792\n",
      "Epoch 39/150\n",
      " - 0s - loss: 0.1107 - acc: 0.9796 - val_loss: 0.0783 - val_acc: 0.9797\n",
      "Epoch 40/150\n",
      " - 0s - loss: 0.1106 - acc: 0.9792 - val_loss: 0.0788 - val_acc: 0.9790\n",
      "Epoch 41/150\n",
      " - 0s - loss: 0.1102 - acc: 0.9793 - val_loss: 0.0774 - val_acc: 0.9794\n",
      "Epoch 42/150\n",
      " - 0s - loss: 0.1102 - acc: 0.9795 - val_loss: 0.0780 - val_acc: 0.9792\n",
      "Epoch 43/150\n",
      " - 0s - loss: 0.1099 - acc: 0.9794 - val_loss: 0.0792 - val_acc: 0.9790\n",
      "Epoch 44/150\n",
      " - 0s - loss: 0.1098 - acc: 0.9795 - val_loss: 0.0782 - val_acc: 0.9797\n",
      "Epoch 45/150\n",
      " - 0s - loss: 0.1097 - acc: 0.9795 - val_loss: 0.0788 - val_acc: 0.9790\n",
      "Epoch 46/150\n",
      " - 0s - loss: 0.1096 - acc: 0.9791 - val_loss: 0.0779 - val_acc: 0.9797\n",
      "Epoch 47/150\n",
      " - 0s - loss: 0.1094 - acc: 0.9795 - val_loss: 0.0784 - val_acc: 0.9792\n",
      "Epoch 48/150\n",
      " - 0s - loss: 0.1093 - acc: 0.9794 - val_loss: 0.0785 - val_acc: 0.9792\n",
      "Epoch 49/150\n",
      " - 0s - loss: 0.1091 - acc: 0.9798 - val_loss: 0.0794 - val_acc: 0.9792\n",
      "Epoch 50/150\n",
      " - 1s - loss: 0.1089 - acc: 0.9794 - val_loss: 0.0782 - val_acc: 0.9799\n",
      "Epoch 51/150\n",
      " - 0s - loss: 0.1088 - acc: 0.9797 - val_loss: 0.0780 - val_acc: 0.9792\n",
      "Epoch 52/150\n",
      " - 0s - loss: 0.1087 - acc: 0.9792 - val_loss: 0.0781 - val_acc: 0.9792\n",
      "Epoch 53/150\n",
      " - 0s - loss: 0.1087 - acc: 0.9797 - val_loss: 0.0778 - val_acc: 0.9792\n",
      "Epoch 54/150\n",
      " - 0s - loss: 0.1084 - acc: 0.9794 - val_loss: 0.0778 - val_acc: 0.9799\n",
      "Epoch 55/150\n",
      " - 0s - loss: 0.1084 - acc: 0.9794 - val_loss: 0.0767 - val_acc: 0.9797\n",
      "Epoch 56/150\n",
      " - 0s - loss: 0.1084 - acc: 0.9797 - val_loss: 0.0767 - val_acc: 0.9799\n",
      "Epoch 57/150\n",
      " - 0s - loss: 0.1083 - acc: 0.9792 - val_loss: 0.0773 - val_acc: 0.9801\n",
      "Epoch 58/150\n",
      " - 0s - loss: 0.1080 - acc: 0.9797 - val_loss: 0.0793 - val_acc: 0.9790\n",
      "Epoch 59/150\n",
      " - 0s - loss: 0.1080 - acc: 0.9794 - val_loss: 0.0770 - val_acc: 0.9797\n",
      "Epoch 60/150\n",
      " - 0s - loss: 0.1077 - acc: 0.9796 - val_loss: 0.0763 - val_acc: 0.9797\n",
      "Epoch 61/150\n",
      " - 0s - loss: 0.1078 - acc: 0.9799 - val_loss: 0.0798 - val_acc: 0.9792\n",
      "Epoch 62/150\n",
      " - 0s - loss: 0.1077 - acc: 0.9794 - val_loss: 0.0776 - val_acc: 0.9797\n",
      "Epoch 63/150\n",
      " - 0s - loss: 0.1075 - acc: 0.9790 - val_loss: 0.0764 - val_acc: 0.9801\n",
      "Epoch 64/150\n",
      " - 0s - loss: 0.1074 - acc: 0.9797 - val_loss: 0.0759 - val_acc: 0.9794\n",
      "Epoch 65/150\n",
      " - 0s - loss: 0.1075 - acc: 0.9796 - val_loss: 0.0769 - val_acc: 0.9803\n",
      "Epoch 66/150\n",
      " - 0s - loss: 0.1074 - acc: 0.9795 - val_loss: 0.0784 - val_acc: 0.9792\n",
      "Epoch 67/150\n",
      " - 0s - loss: 0.1074 - acc: 0.9794 - val_loss: 0.0766 - val_acc: 0.9801\n",
      "Epoch 68/150\n",
      " - 0s - loss: 0.1071 - acc: 0.9796 - val_loss: 0.0767 - val_acc: 0.9799\n",
      "Epoch 69/150\n",
      " - 0s - loss: 0.1069 - acc: 0.9796 - val_loss: 0.0781 - val_acc: 0.9799\n",
      "Epoch 70/150\n",
      " - 0s - loss: 0.1070 - acc: 0.9789 - val_loss: 0.0759 - val_acc: 0.9797\n",
      "Epoch 71/150\n",
      " - 0s - loss: 0.1068 - acc: 0.9795 - val_loss: 0.0760 - val_acc: 0.9801\n",
      "Epoch 72/150\n",
      " - 0s - loss: 0.1066 - acc: 0.9797 - val_loss: 0.0783 - val_acc: 0.9797\n",
      "Epoch 73/150\n",
      " - 0s - loss: 0.1066 - acc: 0.9794 - val_loss: 0.0770 - val_acc: 0.9797\n",
      "Epoch 74/150\n",
      " - 0s - loss: 0.1066 - acc: 0.9794 - val_loss: 0.0759 - val_acc: 0.9803\n",
      "Epoch 75/150\n",
      " - 0s - loss: 0.1065 - acc: 0.9798 - val_loss: 0.0759 - val_acc: 0.9797\n",
      "Epoch 76/150\n",
      " - 0s - loss: 0.1061 - acc: 0.9790 - val_loss: 0.0790 - val_acc: 0.9799\n",
      "Epoch 77/150\n",
      " - 0s - loss: 0.1062 - acc: 0.9794 - val_loss: 0.0765 - val_acc: 0.9792\n",
      "Epoch 78/150\n",
      " - 0s - loss: 0.1062 - acc: 0.9799 - val_loss: 0.0759 - val_acc: 0.9803\n",
      "Epoch 79/150\n",
      " - 0s - loss: 0.1062 - acc: 0.9795 - val_loss: 0.0764 - val_acc: 0.9794\n",
      "Epoch 80/150\n",
      " - 0s - loss: 0.1059 - acc: 0.9797 - val_loss: 0.0791 - val_acc: 0.9801\n",
      "Epoch 81/150\n",
      " - 0s - loss: 0.1059 - acc: 0.9794 - val_loss: 0.0749 - val_acc: 0.9797\n",
      "Epoch 82/150\n",
      " - 0s - loss: 0.1059 - acc: 0.9795 - val_loss: 0.0752 - val_acc: 0.9797\n",
      "Epoch 83/150\n",
      " - 0s - loss: 0.1056 - acc: 0.9797 - val_loss: 0.0775 - val_acc: 0.9799\n",
      "Epoch 84/150\n",
      " - 0s - loss: 0.1055 - acc: 0.9794 - val_loss: 0.0774 - val_acc: 0.9799\n",
      "Epoch 85/150\n",
      " - 0s - loss: 0.1055 - acc: 0.9794 - val_loss: 0.0788 - val_acc: 0.9803\n",
      "Epoch 86/150\n",
      " - 0s - loss: 0.1055 - acc: 0.9791 - val_loss: 0.0784 - val_acc: 0.9803\n",
      "Epoch 87/150\n",
      " - 0s - loss: 0.1054 - acc: 0.9794 - val_loss: 0.0751 - val_acc: 0.9794\n",
      "Epoch 88/150\n",
      " - 0s - loss: 0.1054 - acc: 0.9793 - val_loss: 0.0759 - val_acc: 0.9792\n",
      "Epoch 89/150\n",
      " - 0s - loss: 0.1051 - acc: 0.9796 - val_loss: 0.0795 - val_acc: 0.9794\n",
      "Epoch 90/150\n",
      " - 0s - loss: 0.1051 - acc: 0.9799 - val_loss: 0.0764 - val_acc: 0.9792\n",
      "Epoch 91/150\n",
      " - 0s - loss: 0.1054 - acc: 0.9794 - val_loss: 0.0757 - val_acc: 0.9790\n",
      "Epoch 92/150\n",
      " - 0s - loss: 0.1051 - acc: 0.9793 - val_loss: 0.0752 - val_acc: 0.9792\n",
      "Epoch 93/150\n",
      " - 0s - loss: 0.1050 - acc: 0.9795 - val_loss: 0.0765 - val_acc: 0.9797\n",
      "Epoch 94/150\n",
      " - 0s - loss: 0.1048 - acc: 0.9794 - val_loss: 0.0761 - val_acc: 0.9797\n",
      "Epoch 95/150\n",
      " - 0s - loss: 0.1047 - acc: 0.9797 - val_loss: 0.0761 - val_acc: 0.9797\n",
      "Epoch 96/150\n",
      " - 0s - loss: 0.1048 - acc: 0.9791 - val_loss: 0.0748 - val_acc: 0.9790\n"
     ]
    },
    {
     "name": "stdout",
     "output_type": "stream",
     "text": [
      "Epoch 97/150\n",
      " - 0s - loss: 0.1045 - acc: 0.9796 - val_loss: 0.0775 - val_acc: 0.9799\n",
      "Epoch 98/150\n",
      " - 0s - loss: 0.1047 - acc: 0.9794 - val_loss: 0.0753 - val_acc: 0.9794\n",
      "Epoch 99/150\n",
      " - 0s - loss: 0.1045 - acc: 0.9799 - val_loss: 0.0768 - val_acc: 0.9797\n",
      "Epoch 100/150\n",
      " - 0s - loss: 0.1046 - acc: 0.9792 - val_loss: 0.0773 - val_acc: 0.9799\n",
      "Epoch 101/150\n",
      " - 0s - loss: 0.1045 - acc: 0.9794 - val_loss: 0.0766 - val_acc: 0.9799\n",
      "Epoch 102/150\n",
      " - 0s - loss: 0.1044 - acc: 0.9788 - val_loss: 0.0753 - val_acc: 0.9797\n",
      "Epoch 103/150\n",
      " - 0s - loss: 0.1044 - acc: 0.9794 - val_loss: 0.0757 - val_acc: 0.9803\n",
      "Epoch 104/150\n",
      " - 0s - loss: 0.1038 - acc: 0.9801 - val_loss: 0.0782 - val_acc: 0.9792\n",
      "Epoch 105/150\n",
      " - 0s - loss: 0.1041 - acc: 0.9789 - val_loss: 0.0756 - val_acc: 0.9797\n",
      "Epoch 106/150\n",
      " - 0s - loss: 0.1041 - acc: 0.9791 - val_loss: 0.0777 - val_acc: 0.9797\n",
      "Epoch 107/150\n",
      " - 0s - loss: 0.1039 - acc: 0.9794 - val_loss: 0.0744 - val_acc: 0.9790\n",
      "Epoch 108/150\n",
      " - 0s - loss: 0.1040 - acc: 0.9793 - val_loss: 0.0752 - val_acc: 0.9794\n",
      "Epoch 109/150\n",
      " - 0s - loss: 0.1040 - acc: 0.9794 - val_loss: 0.0759 - val_acc: 0.9799\n",
      "Epoch 110/150\n",
      " - 0s - loss: 0.1039 - acc: 0.9791 - val_loss: 0.0758 - val_acc: 0.9799\n",
      "Epoch 111/150\n",
      " - 0s - loss: 0.1037 - acc: 0.9790 - val_loss: 0.0760 - val_acc: 0.9797\n",
      "Epoch 112/150\n",
      " - 0s - loss: 0.1037 - acc: 0.9788 - val_loss: 0.0754 - val_acc: 0.9799\n",
      "Epoch 113/150\n",
      " - 0s - loss: 0.1033 - acc: 0.9792 - val_loss: 0.0772 - val_acc: 0.9799\n",
      "Epoch 114/150\n",
      " - 0s - loss: 0.1037 - acc: 0.9789 - val_loss: 0.0753 - val_acc: 0.9792\n",
      "Epoch 115/150\n",
      " - 0s - loss: 0.1034 - acc: 0.9791 - val_loss: 0.0741 - val_acc: 0.9790\n",
      "Epoch 116/150\n",
      " - 0s - loss: 0.1035 - acc: 0.9793 - val_loss: 0.0763 - val_acc: 0.9799\n",
      "Epoch 117/150\n",
      " - 0s - loss: 0.1032 - acc: 0.9789 - val_loss: 0.0779 - val_acc: 0.9794\n",
      "Epoch 118/150\n",
      " - 0s - loss: 0.1032 - acc: 0.9794 - val_loss: 0.0743 - val_acc: 0.9797\n",
      "Epoch 119/150\n",
      " - 0s - loss: 0.1035 - acc: 0.9791 - val_loss: 0.0751 - val_acc: 0.9794\n",
      "Epoch 120/150\n",
      " - 0s - loss: 0.1032 - acc: 0.9791 - val_loss: 0.0755 - val_acc: 0.9794\n",
      "Epoch 121/150\n",
      " - 0s - loss: 0.1032 - acc: 0.9788 - val_loss: 0.0749 - val_acc: 0.9792\n",
      "Epoch 122/150\n",
      " - 0s - loss: 0.1032 - acc: 0.9788 - val_loss: 0.0753 - val_acc: 0.9794\n",
      "Epoch 123/150\n",
      " - 0s - loss: 0.1030 - acc: 0.9795 - val_loss: 0.0772 - val_acc: 0.9799\n",
      "Epoch 124/150\n",
      " - 0s - loss: 0.1027 - acc: 0.9798 - val_loss: 0.0775 - val_acc: 0.9797\n",
      "Epoch 125/150\n",
      " - 0s - loss: 0.1030 - acc: 0.9794 - val_loss: 0.0767 - val_acc: 0.9797\n",
      "Epoch 126/150\n",
      " - 0s - loss: 0.1030 - acc: 0.9795 - val_loss: 0.0745 - val_acc: 0.9799\n",
      "Epoch 127/150\n",
      " - 0s - loss: 0.1028 - acc: 0.9791 - val_loss: 0.0770 - val_acc: 0.9794\n",
      "Epoch 128/150\n",
      " - 0s - loss: 0.1028 - acc: 0.9791 - val_loss: 0.0758 - val_acc: 0.9794\n",
      "Epoch 129/150\n",
      " - 0s - loss: 0.1031 - acc: 0.9789 - val_loss: 0.0754 - val_acc: 0.9792\n",
      "Epoch 130/150\n",
      " - 0s - loss: 0.1026 - acc: 0.9789 - val_loss: 0.0743 - val_acc: 0.9799\n",
      "Epoch 131/150\n",
      " - 0s - loss: 0.1024 - acc: 0.9794 - val_loss: 0.0797 - val_acc: 0.9790\n",
      "Epoch 132/150\n",
      " - 0s - loss: 0.1028 - acc: 0.9794 - val_loss: 0.0757 - val_acc: 0.9799\n",
      "Epoch 133/150\n",
      " - 0s - loss: 0.1029 - acc: 0.9792 - val_loss: 0.0763 - val_acc: 0.9794\n",
      "Epoch 134/150\n",
      " - 0s - loss: 0.1027 - acc: 0.9789 - val_loss: 0.0758 - val_acc: 0.9797\n",
      "Epoch 135/150\n",
      " - 0s - loss: 0.1026 - acc: 0.9791 - val_loss: 0.0770 - val_acc: 0.9794\n",
      "Epoch 136/150\n",
      " - 0s - loss: 0.1024 - acc: 0.9794 - val_loss: 0.0761 - val_acc: 0.9794\n",
      "Epoch 137/150\n",
      " - 0s - loss: 0.1024 - acc: 0.9791 - val_loss: 0.0775 - val_acc: 0.9797\n",
      "Epoch 138/150\n",
      " - 0s - loss: 0.1025 - acc: 0.9793 - val_loss: 0.0767 - val_acc: 0.9794\n",
      "Epoch 139/150\n",
      " - 0s - loss: 0.1022 - acc: 0.9791 - val_loss: 0.0739 - val_acc: 0.9794\n",
      "Epoch 140/150\n",
      " - 0s - loss: 0.1023 - acc: 0.9797 - val_loss: 0.0791 - val_acc: 0.9790\n",
      "Epoch 141/150\n",
      " - 0s - loss: 0.1023 - acc: 0.9791 - val_loss: 0.0755 - val_acc: 0.9799\n",
      "Epoch 142/150\n",
      " - 0s - loss: 0.1022 - acc: 0.9797 - val_loss: 0.0750 - val_acc: 0.9801\n",
      "Epoch 143/150\n",
      " - 0s - loss: 0.1023 - acc: 0.9790 - val_loss: 0.0768 - val_acc: 0.9794\n",
      "Epoch 144/150\n",
      " - 0s - loss: 0.1022 - acc: 0.9797 - val_loss: 0.0792 - val_acc: 0.9790\n",
      "Epoch 145/150\n",
      " - 0s - loss: 0.1025 - acc: 0.9794 - val_loss: 0.0744 - val_acc: 0.9799\n",
      "Epoch 146/150\n",
      " - 0s - loss: 0.1022 - acc: 0.9792 - val_loss: 0.0764 - val_acc: 0.9792\n",
      "Epoch 147/150\n",
      " - 0s - loss: 0.1022 - acc: 0.9790 - val_loss: 0.0756 - val_acc: 0.9794\n",
      "Epoch 148/150\n",
      " - 0s - loss: 0.1023 - acc: 0.9792 - val_loss: 0.0778 - val_acc: 0.9797\n",
      "Epoch 149/150\n",
      " - 0s - loss: 0.1021 - acc: 0.9789 - val_loss: 0.0741 - val_acc: 0.9799\n",
      "Epoch 150/150\n",
      " - 0s - loss: 0.1021 - acc: 0.9792 - val_loss: 0.0745 - val_acc: 0.9797\n"
     ]
    }
   ],
   "source": [
    "sgd = SGD(0.12, momentum=0.4)\n",
    "\n",
    "model.compile(loss='binary_crossentropy', optimizer=sgd,\n",
    "    metrics=[\"accuracy\"])\n",
    "\n",
    "class_weight = {0 : 1., 1 : 2.}\n",
    "\n",
    "H = model.fit(trainX, trainY, validation_data=(testX, testY), \n",
    "              batch_size=128, epochs=150, class_weight=class_weight, verbose=2)\n",
    "\n",
    "scores = model.evaluate(testX, testY, verbose = 0)"
   ]
  },
  {
   "cell_type": "markdown",
   "metadata": {},
   "source": [
    "At this point we are ready to analyze the results from our neural network. Calling the .predict method on our model will give us the predictions from our testing set. In addition, as the output from our network is given by the sigmoid activation function, the outputs values are real number in the range [0,1], so, we need to apply a step function to threshold the outputs to binary class labels. Lastly, we print a report showing us the performance of the model."
   ]
  },
  {
   "cell_type": "code",
   "execution_count": 150,
   "metadata": {},
   "outputs": [
    {
     "name": "stdout",
     "output_type": "stream",
     "text": [
      "[0.07454842972813705, 0.9796648044692737]\n",
      "                 precision    recall  f1-score   support\n",
      "\n",
      "Non-pulsar Star       0.99      0.99      0.99      4040\n",
      "    Pulsar Star       0.91      0.87      0.89       435\n",
      "\n",
      "      micro avg       0.98      0.98      0.98      4475\n",
      "      macro avg       0.95      0.93      0.94      4475\n",
      "   weighted avg       0.98      0.98      0.98      4475\n",
      "\n"
     ]
    }
   ],
   "source": [
    "predictions = model.predict(testX, batch_size=128)\n",
    "\n",
    "# apply a step function to threshold the outputs to binary\n",
    "# class labels\n",
    "predictions[predictions < 0.5] = 0\n",
    "predictions[predictions >= 0.5] = 1\n",
    "\n",
    "report = classification_report(testY, predictions, \n",
    "                               target_names=['Non-pulsar Star', 'Pulsar Star'])\n",
    "\n",
    "print(scores)\n",
    "print(report)"
   ]
  },
  {
   "cell_type": "markdown",
   "metadata": {},
   "source": [
    "It is also important to visualize the confusion matrix of our predictions, this can lead us to a more precise visualization and comprehension about where the numbers in our report came from."
   ]
  },
  {
   "cell_type": "code",
   "execution_count": 151,
   "metadata": {},
   "outputs": [
    {
     "data": {
      "text/plain": [
       "[Text(0, 0.5, 'Non-Pulsar'), Text(0, 1.5, 'Pulsar')]"
      ]
     },
     "execution_count": 151,
     "metadata": {},
     "output_type": "execute_result"
    },
    {
     "data": {
      "image/png": "[encoded data removed]",
      "text/plain": [
       "<Figure size 720x576 with 2 Axes>"
      ]
     },
     "metadata": {},
     "output_type": "display_data"
    }
   ],
   "source": [
    "conf_matrix = confusion_matrix(testY, predictions)\n",
    "\n",
    "# Plot the confusion matrix\n",
    "import seaborn as sns\n",
    "import matplotlib.pyplot as plt     \n",
    "\n",
    "plt.figure(figsize=(10,8))\n",
    "ax = plt.subplot()\n",
    "sns.heatmap(conf_matrix, annot=True, ax = ax, fmt='d') #annot=True to annotate cells\n",
    "\n",
    "# labels, title and ticks\n",
    "ax.set_xlabel('Predicted labels')\n",
    "ax.set_ylabel('True labels')\n",
    "ax.set_title('Confusion Matrix')\n",
    "ax.xaxis.set_ticklabels(['Non-Pulsar', 'Pulsar'])\n",
    "ax.yaxis.set_ticklabels(['Non-Pulsar', 'Pulsar'])\n",
    "#plt.savefig('confusion_matrix_wcw.png')"
   ]
  },
  {
   "cell_type": "markdown",
   "metadata": {},
   "source": [
    "Note that the training loss is much higher than the testing loss, why is it?\n",
    "\n",
    "A Keras model has two modes: training and testing. Regularization mechanisms, such as Dropout and L1/L2 weight regularization, are turned off at testing time.\n",
    "\n",
    "Besides, the training loss is the average of the losses over each batch of training data. Because your model is changing over time, the loss over the first batches of an epoch is generally higher than over the last batches. On the other hand, the testing loss for an epoch is computed using the model as it is at the end of the epoch, resulting in a lower loss.\n",
    "\n",
    "For more informations, see:\n",
    "http://blog.datumbox.com/the-batch-normalization-layer-of-keras-is-broken/\n",
    "https://forums.fast.ai/t/validation-loss-lower-than-training-loss/4581/2"
   ]
  },
  {
   "cell_type": "code",
   "execution_count": 152,
   "metadata": {},
   "outputs": [
    {
     "data": {
      "text/plain": [
       "<matplotlib.legend.Legend at 0x7f471014f128>"
      ]
     },
     "execution_count": 152,
     "metadata": {},
     "output_type": "execute_result"
    },
    {
     "data": {
      "image/png": "[encoded data removed]",
      "text/plain": [
       "<Figure size 720x576 with 1 Axes>"
      ]
     },
     "metadata": {},
     "output_type": "display_data"
    }
   ],
   "source": [
    "# Plotting the curve Epoch vs. Loss/Accuracy\n",
    "plt.style.use(\"ggplot\")\n",
    "plt.figure(figsize=(10,8))\n",
    "plt.plot(np.arange(0, 150), H.history[\"loss\"], label=\"train_loss\")\n",
    "plt.plot(np.arange(0, 150), H.history[\"val_loss\"], label=\"val_loss\")\n",
    "plt.plot(np.arange(0, 150), H.history[\"acc\"], label=\"train_acc\")\n",
    "plt.plot(np.arange(0, 150), H.history[\"val_acc\"], label=\"val_acc\")\n",
    "plt.title(\"Training Loss and Accuracy\")\n",
    "plt.xlabel(\"Epoch #\")\n",
    "plt.ylabel(\"Loss/Accuracy\")\n",
    "plt.legend()\n",
    "#plt.savefig('plot_wcw.png')"
   ]
  },
  {
   "cell_type": "code",
   "execution_count": 153,
   "metadata": {},
   "outputs": [],
   "source": [
    "from sklearn.metrics import roc_curve\n",
    "fpr_keras, tpr_keras, thresholds_keras = roc_curve(testY, predictions)\n",
    "from sklearn.metrics import auc\n",
    "auc_keras = auc(fpr_keras, tpr_keras)"
   ]
  },
  {
   "cell_type": "code",
   "execution_count": 154,
   "metadata": {},
   "outputs": [
    {
     "data": {
      "image/png": "[encoded data removed]",
      "text/plain": [
       "<Figure size 432x288 with 1 Axes>"
      ]
     },
     "metadata": {},
     "output_type": "display_data"
    }
   ],
   "source": [
    "plt.figure(1)\n",
    "plt.plot([0, 1], [0, 1], 'k--')\n",
    "plt.plot(fpr_keras, tpr_keras, label='Keras (area = {:.3f})'.format(auc_keras))\n",
    "plt.xlabel('False positive rate')\n",
    "plt.ylabel('True positive rate')\n",
    "plt.title('ROC curve')\n",
    "plt.legend(loc='best')\n",
    "plt.show()"
   ]
  },
  {
   "cell_type": "code",
   "execution_count": null,
   "metadata": {},
   "outputs": [],
   "source": []
  }
 ],
 "metadata": {
  "kernelspec": {
   "display_name": "Python 3",
   "language": "python",
   "name": "python3"
  },
  "language_info": {
   "codemirror_mode": {
    "name": "ipython",
    "version": 3
   },
   "file_extension": ".py",
   "mimetype": "text/x-python",
   "name": "python",
   "nbconvert_exporter": "python",
   "pygments_lexer": "ipython3",
   "version": "3.6.6"
  }
 },
 "nbformat": 4,
 "nbformat_minor": 2
}
